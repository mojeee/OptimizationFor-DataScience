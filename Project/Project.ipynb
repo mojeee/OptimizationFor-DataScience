{
  "nbformat": 4,
  "nbformat_minor": 0,
  "metadata": {
    "colab": {
      "name": "Project.ipynb",
      "provenance": [],
      "collapsed_sections": []
    },
    "kernelspec": {
      "name": "python3",
      "display_name": "Python 3"
    },
    "language_info": {
      "name": "python"
    }
  },
  "cells": [
    {
      "cell_type": "markdown",
      "source": [
        "# Optimization Methods for Data Science\n",
        "\n",
        "##### Authors: Mojtaba Amini , Kamile Dementaviciute, Saeed Soufeh\n",
        "\n",
        "##### Implemetation of SFW, MSFW and SVRF for a Neural Network\n",
        "##### Deadline: 25/06/2022"
      ],
      "metadata": {
        "id": "LHbXclkDJixt"
      }
    },
    {
      "cell_type": "code",
      "source": [
        "import tensorflow as tf\n",
        "from tensorflow import keras\n",
        "\n",
        "# Common imports\n",
        "import numpy as np\n",
        "import os\n",
        "import matplotlib.pyplot as plt\n",
        "from sklearn.preprocessing import StandardScaler\n",
        "from sklearn import datasets\n",
        "import numpy as np\n",
        "np.random.seed(123)\n",
        "from sklearn.model_selection import train_test_split\n",
        "import seaborn as sns\n"
      ],
      "metadata": {
        "id": "vEhd2Hin6Vg4"
      },
      "execution_count": null,
      "outputs": []
    },
    {
      "cell_type": "markdown",
      "source": [
        "###Load Dataset\n"
      ],
      "metadata": {
        "id": "U1OH25-JMWZg"
      }
    },
    {
      "cell_type": "code",
      "source": [
        "X, Y = datasets.make_classification(n_samples=1000, n_features=2, random_state=123, n_redundant= 0, scale=20, shift=10)\n",
        "X = X*0.1 # just to reduce the order of values\n",
        "\n",
        "shape_X = X.shape\n",
        "shape_Y = Y.shape\n",
        "m = (X.size)/shape_X[1] \n",
        "\n",
        "print ('The shape of X is: ' + str(shape_X))\n",
        "print ('The shape of Y is: ' + str(shape_Y))\n",
        "print ('I have m = %d training examples!' % (m))\n",
        "#Plotting\n",
        "fig = plt.figure(figsize=(10,8))\n",
        "plt.plot(X[:, 0][Y == 0], X[:, 1][Y == 0], 'r^')\n",
        "plt.plot(X[:, 0][ Y== 1], X[:, 1][Y == 1], 'bs')\n",
        "plt.xlabel(\"X1\")\n",
        "plt.ylabel(\"X2\")\n",
        "plt.title('Random Classification Data with 2 classes')"
      ],
      "metadata": {
        "id": "AqUXCeXoLaha",
        "colab": {
          "base_uri": "https://localhost:8080/",
          "height": 582
        },
        "outputId": "20010dee-d289-440b-8e7b-f67aa5b4d6a8"
      },
      "execution_count": null,
      "outputs": [
        {
          "output_type": "stream",
          "name": "stdout",
          "text": [
            "The shape of X is: (1000, 2)\n",
            "The shape of Y is: (1000,)\n",
            "I have m = 1000 training examples!\n"
          ]
        },
        {
          "output_type": "execute_result",
          "data": {
            "text/plain": [
              "Text(0.5, 1.0, 'Random Classification Data with 2 classes')"
            ]
          },
          "metadata": {},
          "execution_count": 2
        },
        {
          "output_type": "display_data",
          "data": {
            "text/plain": [
              "<Figure size 720x576 with 1 Axes>"
            ],
            "image/png": "[encoded data removed]"
          },
          "metadata": {
            "needs_background": "light"
          }
        }
      ]
    },
    {
      "cell_type": "code",
      "source": [
        "# GRADED FUNCTION: sigmoid\n",
        "\n",
        "def sigmoid(z):\n",
        "    \"\"\"\n",
        "    Compute the sigmoid of z\n",
        "\n",
        "    Arguments:\n",
        "    z -- A scalar or numpy array of any size.\n",
        "\n",
        "    Return:\n",
        "    s -- sigmoid(z)\n",
        "    \"\"\"\n",
        "\n",
        "    ### START CODE HERE ### (≈ 1 line of code)\n",
        "    s = 1/(1+np.exp(-z))\n",
        "    ### END CODE HERE ###\n",
        "    \n",
        "    return s\n",
        "    \n",
        "def relu(x):\n",
        "    return max(0.0, x)"
      ],
      "metadata": {
        "id": "ooASgdnFgh-1"
      },
      "execution_count": null,
      "outputs": []
    },
    {
      "cell_type": "markdown",
      "source": [
        "###Building Neural Network with one layer\n",
        "\n",
        "Lets define the neural network. "
      ],
      "metadata": {
        "id": "7n14RtITTfTJ"
      }
    },
    {
      "cell_type": "markdown",
      "source": [
        "####Defining the neural network structure\n",
        "\n",
        "    \n",
        "    Arguments:\n",
        "    X -- input dataset of shape (input size, number of examples)\n",
        "    Y -- labels of shape (output size, number of examples)\n",
        "    \n",
        "    Returns:\n",
        "    n_x -- the size of the input layer\n",
        "    n_h -- the size of the hidden layer\n",
        "    n_y -- the size of the output layer\n",
        "    "
      ],
      "metadata": {
        "id": "RVVsw6sfVyP7"
      }
    },
    {
      "cell_type": "code",
      "source": [
        "def layer_sizes(X, Y):\n",
        "\n",
        "  n_x = X.shape[1] # size of input layer\n",
        "  n_h = 3 # we have 3 hidden units\n",
        "  n_y = 1 # size of output layer\n",
        "    \n",
        "  return (n_x, n_h, n_y)"
      ],
      "metadata": {
        "id": "yNSHRtvdMkAQ"
      },
      "execution_count": null,
      "outputs": []
    },
    {
      "cell_type": "code",
      "source": [
        "n_x,n_h,n_y=layer_sizes(X, Y)\n"
      ],
      "metadata": {
        "id": "-DnqAIaHdDoV"
      },
      "execution_count": null,
      "outputs": []
    },
    {
      "cell_type": "markdown",
      "source": [
        "\n",
        "    Argument:\n",
        "    n_x -- size of the input layer\n",
        "    n_h -- size of the hidden layer\n",
        "    n_y -- size of the output layer\n",
        "    \n",
        "    Returns:\n",
        "    params -- python dictionary containing the parameters:\n",
        "                    W1 -- weight matrix of shape (n_h, n_x)\n",
        "                    b1 -- bias vector of shape (n_h, 1)\n",
        "                    W2 -- weight matrix of shape (n_y, n_h)\n",
        "                    b2 -- bias vector of shape (n_y, 1)\n",
        "   "
      ],
      "metadata": {
        "id": "PuSz0n-ldb71"
      }
    },
    {
      "cell_type": "code",
      "source": [
        "def initialize_parameters(n_x, n_h, n_y):\n",
        "\n",
        "  np.random.seed(2) \n",
        "  W1 = np.random.randn(n_h,n_x) * 0.01\n",
        "  b1 = np.zeros((n_h,1))\n",
        "  W2 = np.random.randn(n_y,n_h) * 0.01\n",
        "  b2 = np.zeros((n_y,1))\n",
        "  parameters = {\"W1\": W1,\"b1\": b1,\"W2\": W2,\"b2\": b2}\n",
        "    \n",
        "  return parameters"
      ],
      "metadata": {
        "id": "d7kJCbc_dFME"
      },
      "execution_count": null,
      "outputs": []
    },
    {
      "cell_type": "code",
      "source": [
        "n_x, n_h, n_y = layer_sizes(X, Y)\n",
        "print(n_x)\n",
        "param = initialize_parameters(n_x, n_h, n_y)\n",
        "print(\"W1 = \" + str(param[\"W1\"]))\n",
        "print()\n",
        "print(\"b1 = \" + str(param[\"b1\"]))\n",
        "print()\n",
        "print(\"W2 = \" + str(param[\"W2\"]))\n",
        "print()\n",
        "print(\"b2 = \" + str(param[\"b2\"]))\n"
      ],
      "metadata": {
        "colab": {
          "base_uri": "https://localhost:8080/"
        },
        "id": "XTY_5UzyeJg8",
        "outputId": "1a62b3a1-cd88-4b74-a2ff-3b129bc5e242"
      },
      "execution_count": null,
      "outputs": [
        {
          "output_type": "stream",
          "name": "stdout",
          "text": [
            "2\n",
            "W1 = [[-0.00416758 -0.00056267]\n",
            " [-0.02136196  0.01640271]\n",
            " [-0.01793436 -0.00841747]]\n",
            "\n",
            "b1 = [[0.]\n",
            " [0.]\n",
            " [0.]]\n",
            "\n",
            "W2 = [[ 0.00502881 -0.01245288 -0.01057952]]\n",
            "\n",
            "b2 = [[0.]]\n"
          ]
        }
      ]
    },
    {
      "cell_type": "markdown",
      "source": [
        "\n",
        "    Argument:\n",
        "    X -- input data of size (n_x, m)\n",
        "    parameters -- python dictionary containing the parameters (output of initialization function)\n",
        "    \n",
        "    Returns:\n",
        "    A2 -- The sigmoid output of the second activation\n",
        "    cache -- a dictionary containing \"Z1\", \"A1\", \"Z2\" and \"A2\"\n"
      ],
      "metadata": {
        "id": "Z7ypnubegMR6"
      }
    },
    {
      "cell_type": "code",
      "source": [
        "def forward_propagation(X, parameters):\n",
        "\n",
        "  W1 = parameters[\"W1\"]\n",
        "  b1 = parameters[\"b1\"]\n",
        "  W2 = parameters[\"W2\"]\n",
        "  b2 = parameters[\"b2\"]\n",
        "  Z1 = np.dot(W1,X.T) + b1\n",
        "  A1 = np.tanh(Z1)\n",
        "  Z2 = np.dot(W2,A1) + b2\n",
        "  A2 = sigmoid(Z2)\n",
        "  # Values needed in the backpropagation are stored in \"cache\". This will be given as an input to the backpropagation\n",
        "  cache = {\"Z1\": Z1,\"A1\": A1,\"Z2\": Z2,\"A2\": A2}\n",
        "    \n",
        "  return A2, cache"
      ],
      "metadata": {
        "id": "ZBX10aHHe4SO"
      },
      "execution_count": null,
      "outputs": []
    },
    {
      "cell_type": "code",
      "source": [
        "n_x, n_h, n_y = layer_sizes(X, Y)\n",
        "param = initialize_parameters(n_x, n_h, n_y)\n",
        "A2, cache = forward_propagation(X, param)\n",
        "print(np.mean(cache['Z1']) ,np.mean(cache['A1']),np.mean(cache['Z2']),np.mean(cache['A2']))"
      ],
      "metadata": {
        "colab": {
          "base_uri": "https://localhost:8080/"
        },
        "id": "ZuYYEtD8g0lv",
        "outputId": "d98a8426-91ab-443f-c9fe-b4564259f828"
      },
      "execution_count": null,
      "outputs": [
        {
          "output_type": "stream",
          "name": "stdout",
          "text": [
            "-0.24037126403291875 -0.2251268235415324 0.00585932870425837 0.5014648276148838\n"
          ]
        }
      ]
    },
    {
      "cell_type": "markdown",
      "source": [
        "The cost funcion is : $$J= -\\frac{1}{m} \\sum\\limits_{i = 1}^{m} (y^{(i)}\\log\\left(a^{[L] (i)}\\right) + (1-y^{(i)})\\log\\left(1- a^{[L](i)}\\right)) $$\n"
      ],
      "metadata": {
        "id": "MaezvZzjhcnA"
      }
    },
    {
      "cell_type": "markdown",
      "source": [
        " \n",
        "    Computes the cross-entropy cost \n",
        "    \n",
        "    Arguments:\n",
        "    A2 -- The sigmoid output of the second activation, of shape (1, number of examples)\n",
        "    Y -- \"true\" labels vector of shape (1, number of examples)\n",
        "    parameters -- python dictionary containing your parameters W1, b1, W2 and b2\n",
        "    [Note that the parameters argument is not used in this function, \n",
        "    but the auto-grader currently expects this parameter.\n",
        "    Future version of this notebook will fix both the notebook \n",
        "    and the auto-grader so that `parameters` is not needed.\n",
        "    For now, please include `parameters` in the function signature,\n",
        "    and also when invoking this function.]\n",
        "    \n",
        "    Returns:\n",
        "    cost -- cross-entropy"
      ],
      "metadata": {
        "id": "DmzOasY7h0kS"
      }
    },
    {
      "cell_type": "code",
      "source": [
        "def compute_cost(A2, Y):\n",
        "\n",
        "  m = Y.shape[0] # number of example\n",
        "  # Compute the cross-entropy cost\n",
        "  logprobs = np.multiply(Y ,np.log(A2)) + np.multiply((1-Y), np.log(1-A2))\n",
        "  cost = (-1/m) * np.sum(logprobs)  \n",
        "  cost = float(np.squeeze(cost))  \n",
        "  \n",
        "  return cost"
      ],
      "metadata": {
        "id": "ASut1zSxhdYr"
      },
      "execution_count": null,
      "outputs": []
    },
    {
      "cell_type": "code",
      "source": [
        "n_x, n_h, n_y = layer_sizes(X, Y)\n",
        "param = initialize_parameters(n_x, n_h, n_y)\n",
        "A2, cache = forward_propagation(X, param)\n",
        "cost = compute_cost(A2, Y)\n",
        "\n",
        "print(\"cost = \" + str(cost))"
      ],
      "metadata": {
        "colab": {
          "base_uri": "https://localhost:8080/"
        },
        "id": "UDxXKiLGiYmC",
        "outputId": "4018ac2d-a9fe-4134-c717-4e54c4e1d4d0"
      },
      "execution_count": null,
      "outputs": [
        {
          "output_type": "stream",
          "name": "stdout",
          "text": [
            "cost = 0.6927506263960703\n"
          ]
        }
      ]
    },
    {
      "cell_type": "markdown",
      "source": [
        "\n",
        "    Implement the backward propagation using the instructions above.\n",
        "    \n",
        "    Arguments:\n",
        "    parameters -- python dictionary containing our parameters \n",
        "    cache -- a dictionary containing \"Z1\", \"A1\", \"Z2\" and \"A2\".\n",
        "    X -- input data of shape (2, number of examples)\n",
        "    Y -- \"true\" labels vector of shape (1, number of examples)\n",
        "    \n",
        "    Returns:\n",
        "    grads -- python dictionary containing your gradients with respect to different parameters\n"
      ],
      "metadata": {
        "id": "TcLptpCPtHU3"
      }
    },
    {
      "cell_type": "code",
      "source": [
        "def backward_propagation(parameters, cache, X, Y):\n",
        "\n",
        "  m = X.shape[0]\n",
        "  # First, retrieve W1 and W2 from the dictionary \"parameters\".\n",
        "  W1 = parameters[\"W1\"]\n",
        "  b1 = parameters[\"b1\"]\n",
        "  W2 = parameters[\"W2\"]\n",
        "  b2 = parameters[\"b2\"]\n",
        "  # Retrieve also A1 and A2 from dictionary \"cache\".\n",
        "  A1 = cache[\"A1\"]\n",
        "  A2 = cache[\"A2\"]\n",
        "  Z1 = cache[\"Z1\"]\n",
        "  Z2 = cache[\"Z2\"]\n",
        "  # Backward propagation: calculate dW1, db1, dW2, db2. \n",
        "  dZ2 = A2 - Y\n",
        "  dW2 = (1/m) * np.dot(dZ2,A1.T)\n",
        "  db2 = (1/m) *(np.sum(dZ2,axis=1,keepdims=True))\n",
        "  dZ1 = np.dot(W2.T,dZ2) * (1 - np.power(A1,2))\n",
        "  dW1 = (1/m) *(np.dot(dZ1,X))\n",
        "  db1 = (1/m) *(np.sum(dZ1, axis=1, keepdims=True))\n",
        "  grads = {\"dW1\": dW1,\"db1\": db1,\"dW2\": dW2,\"db2\": db2}\n",
        "\n",
        "  return grads"
      ],
      "metadata": {
        "id": "51rRza3AjO5o"
      },
      "execution_count": null,
      "outputs": []
    },
    {
      "cell_type": "code",
      "source": [
        "n_x, n_h, n_y = layer_sizes(X, Y)\n",
        "param = initialize_parameters(n_x, n_h, n_y)\n",
        "A2, cache = forward_propagation(X, param)\n",
        "grads = backward_propagation(param, cache, X, Y)\n",
        "print (\"dW1 = \"+ str(grads[\"dW1\"]))\n",
        "print (\"db1 = \"+ str(grads[\"db1\"]))\n",
        "print (\"dW2 = \"+ str(grads[\"dW2\"]))\n",
        "print (\"db2 = \"+ str(grads[\"db2\"]))"
      ],
      "metadata": {
        "colab": {
          "base_uri": "https://localhost:8080/"
        },
        "id": "-CJDnaU9tlRd",
        "outputId": "7b15815b-03f3-4e3f-e0dd-9d9b7629c9d0"
      },
      "execution_count": null,
      "outputs": [
        {
          "output_type": "stream",
          "name": "stdout",
          "text": [
            "dW1 = [[-0.00491658  0.00028529]\n",
            " [ 0.01113681 -0.00158199]\n",
            " [ 0.00522309 -0.00324774]]\n",
            "db1 = [[ 1.13549414e-05]\n",
            " [-7.53369063e-05]\n",
            " [-1.55920916e-04]]\n",
            "dW2 = [[0.00411884 0.02179192 0.0133728 ]]\n",
            "db2 = [[0.00146483]]\n"
          ]
        }
      ]
    },
    {
      "cell_type": "code",
      "source": [
        "def Simple_FW_find_direction(grads):\n",
        "\n",
        "  dW1 = grads[\"dW1\"]\n",
        "  db1 = grads[\"db1\"]\n",
        "  dW2 = grads[\"dW2\"]\n",
        "  db2 = grads[\"db2\"]\n",
        "  #dW1_max=np.max(np.absolute(dW1))\n",
        "  #dW2_max=np.max(np.absolute(dW2))\n",
        "  #db1_max=np.max(np.absolute(db1))\n",
        "  #db2_max=np.max(np.absolute(db2))\n",
        "  #max=[dW1_max,dW2_max,db1_max,db2_max]\n",
        "  #index=np.argmax(max)\n",
        "  dW1_hat=np.zeros(dW1.shape)\n",
        "  dW2_hat=np.zeros(dW2.shape)\n",
        "  db1_hat=np.zeros(db1.shape)\n",
        "  db2_hat=np.zeros(db2.shape)\n",
        "  \n",
        "  #if index==0:\n",
        "  arg = np.unravel_index(dW1.argmax(), dW1.shape)\n",
        "  dW1_hat[arg[0]][arg[1]]=np.sign(-dW1[arg[0]][arg[1]])\n",
        "\n",
        "  #elif index==1:\n",
        "  arg = np.unravel_index(dW2.argmax(), dW2.shape)\n",
        "  dW2_hat[arg[0]][arg[1]]=np.sign(-dW2[arg[0]][arg[1]])\n",
        "\n",
        "  #elif index==2: \n",
        "  arg = np.unravel_index(db1.argmax(), db1.shape)\n",
        "  db1_hat[arg[0]][arg[1]]=np.sign(-db1[arg[0]][arg[1]])\n",
        "\n",
        "  #elif index==3:\n",
        "  arg = np.unravel_index(db2.argmax(), db2.shape)\n",
        "  db2_hat[arg[0]][arg[1]]=np.sign(-db2[arg[0]][arg[1]])\n",
        "\n",
        "  Mgrads = {\"dW1_hat\": dW1_hat,\"dW2_hat\": dW2_hat,\"db1_hat\": db1_hat,\"db2_hat\": db2_hat}\n",
        "\n",
        "  return Mgrads\n"
      ],
      "metadata": {
        "id": "I1UvKX_z39Dy"
      },
      "execution_count": null,
      "outputs": []
    },
    {
      "cell_type": "markdown",
      "source": [
        "    Updates parameters using the gradient descent update rule given above\n",
        "    \n",
        "    Arguments:\n",
        "    parameters -- python dictionary containing your parameters \n",
        "    grads -- python dictionary containing your gradients \n",
        "    \n",
        "    Returns:\n",
        "    parameters -- python dictionary containing your updated parameters \n"
      ],
      "metadata": {
        "id": "h7oc6OXauPHi"
      }
    },
    {
      "cell_type": "code",
      "source": [
        "def update_parameters(parameters, Mgrads, learning_rate):\n",
        "\n",
        "  # Retrieve each parameter from the dictionary \"parameters\"\n",
        "  W1 = parameters[\"W1\"]\n",
        "  b1 = parameters[\"b1\"]\n",
        "  W2 = parameters[\"W2\"]\n",
        "  b2 = parameters[\"b2\"]    \n",
        "  # Retrieve each gradient from the dictionary \"grads\"\n",
        "  dW1_hat = Mgrads[\"dW1_hat\"]\n",
        "  db1_hat = Mgrads[\"db1_hat\"]\n",
        "  dW2_hat = Mgrads[\"dW2_hat\"]\n",
        "  db2_hat = Mgrads[\"db2_hat\"]\n",
        "  # Update rule for each parameter\n",
        "  W1 = W1 + learning_rate * (dW1_hat - W1)\n",
        "  b1 = b1 + learning_rate * (db1_hat - b1)\n",
        "  W2 = W2 + learning_rate * (dW2_hat - W2)\n",
        "  b2 = b2 + learning_rate * (db2_hat - b2)\n",
        "  parameters = {\"W1\": W1,\"b1\": b1,\"W2\": W2,\"b2\": b2}\n",
        "    \n",
        "  return parameters"
      ],
      "metadata": {
        "id": "edJIVUIkuL0a"
      },
      "execution_count": null,
      "outputs": []
    },
    {
      "cell_type": "code",
      "source": [
        "n_x, n_h, n_y = layer_sizes(X, Y)\n",
        "param = initialize_parameters(n_x, n_h, n_y)\n",
        "A2, cache = forward_propagation(X, param)\n",
        "grads = backward_propagation(param, cache, X, Y)\n",
        "Mgrads = Simple_FW_find_direction(grads)\n",
        "parameters = update_parameters(param, Mgrads,1.2)\n",
        "print(\"W1 = \" + str(parameters[\"W1\"]))\n",
        "print(\"b1 = \" + str(parameters[\"b1\"]))\n",
        "print(\"W2 = \" + str(parameters[\"W2\"]))\n",
        "print(\"b2 = \" + str(parameters[\"b2\"]))"
      ],
      "metadata": {
        "colab": {
          "base_uri": "https://localhost:8080/"
        },
        "id": "UFYjoT4Du9GG",
        "outputId": "c0c67ee4-bdcd-4c77-84e2-3b329f8f8887"
      },
      "execution_count": null,
      "outputs": [
        {
          "output_type": "stream",
          "name": "stdout",
          "text": [
            "W1 = [[ 8.33515695e-04  1.12533654e-04]\n",
            " [-1.19572761e+00 -3.28054162e-03]\n",
            " [ 3.58687117e-03  1.68349473e-03]]\n",
            "b1 = [[-1.2]\n",
            " [ 0. ]\n",
            " [ 0. ]]\n",
            "W2 = [[-1.00576283e-03 -1.19750942e+00  2.11590444e-03]]\n",
            "b2 = [[-1.2]]\n"
          ]
        }
      ]
    },
    {
      "cell_type": "markdown",
      "source": [
        "###Neural Network Model"
      ],
      "metadata": {
        "id": "U_Fxl-DXvVnJ"
      }
    },
    {
      "cell_type": "code",
      "source": [
        "# NN_model\n",
        "def nn_model(X, Y, n_h, num_iterations = 10000, print_cost=False):\n",
        "  \n",
        "  n_x,n_h,n_y=layer_sizes(X, Y)\n",
        "  # Initialize parameters\n",
        "  parameters = initialize_parameters(n_x, n_h, n_y)\n",
        "  W1 = parameters[\"W1\"]\n",
        "  b1 = parameters[\"b1\"]\n",
        "  W2 = parameters[\"W2\"]\n",
        "  b2 = parameters[\"b2\"] \n",
        "  # Loop (gradient descent)\n",
        "  plot_cost=[]\n",
        "  for i in range(0, num_iterations):\n",
        "    # Forward propagation. Inputs: \"X, parameters\". Outputs: \"A2, cache\"\n",
        "    A2, cache = forward_propagation(X, parameters)\n",
        "    # Cost function. Inputs: \"A2, Y, parameters\". Outputs: \"cost\"\n",
        "    cost = compute_cost(A2, Y)\n",
        "    # Backpropagation. Inputs: \"parameters, cache, X, Y\". Outputs: \"grads\"\n",
        "    grads = backward_propagation(parameters, cache, X, Y)\n",
        "    Mgrads = Simple_FW_find_direction(grads)\n",
        "    # Update rule for each parameter\n",
        "    learning_rate = 2/(i+1)\n",
        "    parameters = update_parameters(parameters, Mgrads, learning_rate)\n",
        "    # If print_cost=True, Print the cost every 1000 iterations\n",
        "    \n",
        "    if print_cost and i % 1000 == 0:\n",
        "      plot_cost.append(cost)\n",
        "      print (\"Cost after iteration %i: %f\" %(i, cost))\n",
        "    # Returns parameters learnt by the model. They can then be used to predict output\n",
        "\n",
        "\n",
        "  return parameters, plot_cost"
      ],
      "metadata": {
        "id": "7bM3BDh5vZjX"
      },
      "execution_count": null,
      "outputs": []
    },
    {
      "cell_type": "code",
      "source": [
        "parameters,plot_cost = nn_model(X, Y, 3 ,num_iterations=50000, print_cost=True)\n",
        "print(plot_cost)\n",
        "x=np.linspace(1,len(plot_cost),len(plot_cost))\n",
        "plot = sns.lineplot(x=x,y=plot_cost)\n",
        "plot.set(title='Cost per Iteration')\n",
        "plot.set_xlabel(\"Number of Iteration\")\n",
        "plot.set_ylabel(\"Cost\")\n",
        "print(\"W1 = \" + str(parameters[\"W1\"]))\n",
        "print(\"b1 = \" + str(parameters[\"b1\"]))\n",
        "print(\"W2 = \" + str(parameters[\"W2\"]))\n",
        "print(\"b2 = \" + str(parameters[\"b2\"]))"
      ],
      "metadata": {
        "colab": {
          "base_uri": "https://localhost:8080/",
          "height": 1000
        },
        "id": "wOj3ORrHwJ1C",
        "outputId": "f3c32177-886f-4b8e-97e6-722acba0d3b1"
      },
      "execution_count": null,
      "outputs": [
        {
          "output_type": "stream",
          "name": "stdout",
          "text": [
            "Cost after iteration 0: 0.692751\n",
            "Cost after iteration 1000: 0.670537\n",
            "Cost after iteration 2000: 0.670495\n",
            "Cost after iteration 3000: 0.670479\n",
            "Cost after iteration 4000: 0.670478\n",
            "Cost after iteration 5000: 0.670477\n",
            "Cost after iteration 6000: 0.670477\n",
            "Cost after iteration 7000: 0.670476\n",
            "Cost after iteration 8000: 0.670476\n",
            "Cost after iteration 9000: 0.670476\n",
            "Cost after iteration 10000: 0.670476\n",
            "Cost after iteration 11000: 0.670476\n",
            "Cost after iteration 12000: 0.670476\n",
            "Cost after iteration 13000: 0.670476\n",
            "Cost after iteration 14000: 0.670476\n",
            "Cost after iteration 15000: 0.670476\n",
            "Cost after iteration 16000: 0.670476\n",
            "Cost after iteration 17000: 0.670476\n",
            "Cost after iteration 18000: 0.670476\n",
            "Cost after iteration 19000: 0.670476\n",
            "Cost after iteration 20000: 0.670476\n",
            "Cost after iteration 21000: 0.670476\n",
            "Cost after iteration 22000: 0.670476\n",
            "Cost after iteration 23000: 0.670476\n",
            "Cost after iteration 24000: 0.670476\n",
            "Cost after iteration 25000: 0.670476\n",
            "Cost after iteration 26000: 0.670476\n",
            "Cost after iteration 27000: 0.670476\n",
            "Cost after iteration 28000: 0.670476\n",
            "Cost after iteration 29000: 0.670476\n",
            "Cost after iteration 30000: 0.670476\n",
            "Cost after iteration 31000: 0.670476\n",
            "Cost after iteration 32000: 0.670476\n",
            "Cost after iteration 33000: 0.670476\n",
            "Cost after iteration 34000: 0.670476\n",
            "Cost after iteration 35000: 0.670476\n",
            "Cost after iteration 36000: 0.670476\n",
            "Cost after iteration 37000: 0.670476\n",
            "Cost after iteration 38000: 0.670476\n",
            "Cost after iteration 39000: 0.670476\n",
            "Cost after iteration 40000: 0.670476\n",
            "Cost after iteration 41000: 0.670476\n",
            "Cost after iteration 42000: 0.670476\n",
            "Cost after iteration 43000: 0.670476\n",
            "Cost after iteration 44000: 0.670476\n",
            "Cost after iteration 45000: 0.670476\n",
            "Cost after iteration 46000: 0.670476\n",
            "Cost after iteration 47000: 0.670476\n",
            "Cost after iteration 48000: 0.670476\n",
            "Cost after iteration 49000: 0.670476\n",
            "[0.6927506263960703, 0.6705372261007478, 0.6704945162576039, 0.6704792350036287, 0.6704782316903227, 0.670477006093615, 0.670477490156065, 0.6704762609943207, 0.6704764519877477, 0.6704761915548327, 0.670475862210137, 0.67047599056533, 0.6704758887939022, 0.6704757193169725, 0.6704758121778955, 0.6704757311619052, 0.6704756526870822, 0.6704757253712036, 0.6704756931086632, 0.6704756166330633, 0.6704756021527009, 0.6704756549266179, 0.6704755934614041, 0.670475583446694, 0.6704756519097678, 0.6704755821819548, 0.6704755716050407, 0.670475557120411, 0.6704755736005155, 0.6704755673447899, 0.6704755504202442, 0.6704755753330129, 0.6704755699751695, 0.6704755459043849, 0.6704755710372315, 0.6704755661384508, 0.6704755430241643, 0.6704755404843196, 0.6704755346133245, 0.6704755433384637, 0.6704755387679703, 0.6704755324184128, 0.6704755425992137, 0.6704755378179883, 0.6704755311230388, 0.6704755467907557, 0.6704755400648662, 0.6704755304821904, 0.6704755293408923, 0.670475544545796]\n",
            "W1 = [[ 0.00000000e+00  0.00000000e+00]\n",
            " [-3.86386560e-02  0.00000000e+00]\n",
            " [-3.86561211e-02 -8.00016000e-10]]\n",
            "b1 = [[ 0.000000e+00]\n",
            " [-2.400048e-09]\n",
            " [-8.000160e-10]]\n",
            "W2 = [[ 0.         -0.56210159 -0.43789793]]\n",
            "b2 = [[-0.64525987]]\n"
          ]
        },
        {
          "output_type": "display_data",
          "data": {
            "text/plain": [
              "<Figure size 432x288 with 1 Axes>"
            ],
            "image/png": "[encoded data removed]"
          },
          "metadata": {
            "needs_background": "light"
          }
        }
      ]
    }
  ]
}