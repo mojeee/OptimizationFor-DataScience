{
  "nbformat": 4,
  "nbformat_minor": 0,
  "metadata": {
    "colab": {
      "name": "Copy of Project.ipynb",
      "provenance": [],
      "collapsed_sections": []
    },
    "kernelspec": {
      "name": "python3",
      "display_name": "Python 3"
    },
    "language_info": {
      "name": "python"
    }
  },
  "cells": [
    {
      "cell_type": "markdown",
      "source": [
        "# Optimization Methods for Data Science (Project)\n",
        "\n",
        "##### Authors: Mojtaba Amini , Kamile Dementaviciute, Saeed Soufeh\n",
        "\n",
        "##### Implemetation of SFW, MSFW and SVRF for a Neural Network\n",
        "##### Deadline: 25/06/2022"
      ],
      "metadata": {
        "id": "LHbXclkDJixt"
      }
    },
    {
      "cell_type": "code",
      "source": [
        "import tensorflow as tf\n",
        "from tensorflow import keras\n",
        "\n",
        "# Common imports\n",
        "import numpy as np\n",
        "import os\n",
        "import matplotlib.pyplot as plt\n",
        "from sklearn.preprocessing import StandardScaler\n",
        "from sklearn import datasets\n",
        "import numpy as np\n",
        "np.random.seed(123)\n",
        "from sklearn.model_selection import train_test_split\n",
        "import seaborn as sns\n",
        "#from Funct import *\n",
        "\n"
      ],
      "metadata": {
        "id": "vEhd2Hin6Vg4"
      },
      "execution_count": 1,
      "outputs": []
    },
    {
      "cell_type": "markdown",
      "source": [
        "###Load Dataset\n"
      ],
      "metadata": {
        "id": "U1OH25-JMWZg"
      }
    },
    {
      "cell_type": "code",
      "source": [
        "X, Y = datasets.make_classification(n_samples=1000, n_features=2, random_state=123, n_redundant= 0, scale=20, shift=10)\n",
        "X = X*0.1 # just to reduce the order of values\n",
        "\n",
        "shape_X = X.shape\n",
        "shape_Y = Y.shape\n",
        "m = (X.size)/shape_X[1] \n",
        "\n",
        "print ('The shape of X is: ' + str(shape_X))\n",
        "print ('The shape of Y is: ' + str(shape_Y))\n",
        "print ('I have m = %d training examples!' % (m))\n",
        "#Plotting\n",
        "fig = plt.figure(figsize=(10,8))\n",
        "plt.plot(X[:, 0][Y == 0], X[:, 1][Y == 0], 'r^')\n",
        "plt.plot(X[:, 0][ Y== 1], X[:, 1][Y == 1], 'bs')\n",
        "plt.xlabel(\"X1\")\n",
        "plt.ylabel(\"X2\")\n",
        "plt.title('Random Classification Data with 2 classes')"
      ],
      "metadata": {
        "id": "AqUXCeXoLaha",
        "colab": {
          "base_uri": "https://localhost:8080/",
          "height": 582
        },
        "outputId": "c04eb909-adb6-4ccb-8e44-624e753dada7"
      },
      "execution_count": 2,
      "outputs": [
        {
          "output_type": "stream",
          "name": "stdout",
          "text": [
            "The shape of X is: (1000, 2)\n",
            "The shape of Y is: (1000,)\n",
            "I have m = 1000 training examples!\n"
          ]
        },
        {
          "output_type": "execute_result",
          "data": {
            "text/plain": [
              "Text(0.5, 1.0, 'Random Classification Data with 2 classes')"
            ]
          },
          "metadata": {},
          "execution_count": 2
        },
        {
          "output_type": "display_data",
          "data": {
            "text/plain": [
              "<Figure size 720x576 with 1 Axes>"
            ],
            "image/png": "[encoded data removed]"
          },
          "metadata": {
            "needs_background": "light"
          }
        }
      ]
    },
    {
      "cell_type": "markdown",
      "source": [
        "###Required Functions"
      ],
      "metadata": {
        "id": "TJHpG7QPHZ18"
      }
    },
    {
      "cell_type": "code",
      "source": [
        "# GRADED FUNCTION: sigmoid\n",
        "\n",
        "def sigmoid(z):\n",
        "    \n",
        "    return 1/(1+np.exp(-z))\n",
        "    \n",
        "def relu(x):\n",
        "\n",
        "    return np.maximum(0.0, x)"
      ],
      "metadata": {
        "id": "ooASgdnFgh-1"
      },
      "execution_count": 3,
      "outputs": []
    },
    {
      "cell_type": "markdown",
      "source": [
        "    This function is used to predict the results of a  L-layer neural network.\n",
        "    \n",
        "    Arguments:\n",
        "    X -- data set of examples you would like to label\n",
        "    parameters -- parameters of the trained model\n",
        "    \n",
        "    Returns:\n",
        "    p -- predictions for the given dataset X"
      ],
      "metadata": {
        "id": "PoTsgsXRGWq0"
      }
    },
    {
      "cell_type": "code",
      "source": [
        "def predict(X, y, parameters):\n",
        "    \n",
        "    m = X.shape[1]\n",
        "    n = len(parameters) // 2 # number of layers in the neural network\n",
        "    p = np.zeros((1,m))\n",
        "    \n",
        "    # Forward propagation\n",
        "    probas, caches = L_model_forward(X, parameters)\n",
        "\n",
        "    \n",
        "    # convert probas to 0/1 predictions\n",
        "    for i in range(0, probas.shape[1]):\n",
        "        if probas[0,i] > 0.5:\n",
        "            p[0,i] = 1\n",
        "        else:\n",
        "            p[0,i] = 0\n",
        "    \n",
        "    #print results\n",
        "    #print (\"predictions: \" + str(p))\n",
        "    #print (\"true labels: \" + str(y))\n",
        "    print(\"Accuracy: \"  + str(np.sum((p == y)/m)))\n",
        "        \n",
        "    return p"
      ],
      "metadata": {
        "id": "KbPINv_aGdHz"
      },
      "execution_count": null,
      "outputs": []
    },
    {
      "cell_type": "markdown",
      "source": [
        "###Building Neural Network with one layer\n",
        "\n",
        "Lets define the neural network. "
      ],
      "metadata": {
        "id": "7n14RtITTfTJ"
      }
    },
    {
      "cell_type": "markdown",
      "source": [
        "####Defining the neural network structure\n",
        "\n",
        "    \n",
        "    Arguments:\n",
        "    X -- input dataset of shape (input size, number of examples)\n",
        "    Y -- labels of shape (output size, number of examples)\n",
        "    \n",
        "    Returns:\n",
        "    n_x -- the size of the input layer\n",
        "    n_h -- the size of the hidden layer\n",
        "    n_y -- the size of the output layer\n",
        "    "
      ],
      "metadata": {
        "id": "RVVsw6sfVyP7"
      }
    },
    {
      "cell_type": "code",
      "source": [
        "def layer_sizes(X, Y, hidden_units = 4):\n",
        "\n",
        "  n_x = X.shape[1] # size of input layer\n",
        "  n_h = hidden_units # we have 3 hidden units\n",
        "  n_y = 1 # size of output layer\n",
        "    \n",
        "  return (n_x, n_h, n_y)"
      ],
      "metadata": {
        "id": "yNSHRtvdMkAQ"
      },
      "execution_count": 8,
      "outputs": []
    },
    {
      "cell_type": "code",
      "source": [
        "n_x,n_h,n_y=layer_sizes(X, Y)\n",
        "print(\"the size of the input layer is : \", n_x)\n",
        "print(\"the size of the hidden layer is : \", n_h)\n",
        "print(\"the size of the output layer is : \", n_y)"
      ],
      "metadata": {
        "id": "-DnqAIaHdDoV",
        "colab": {
          "base_uri": "https://localhost:8080/"
        },
        "outputId": "9c7c61d6-d687-4215-bdf0-f82633df7440"
      },
      "execution_count": 9,
      "outputs": [
        {
          "output_type": "stream",
          "name": "stdout",
          "text": [
            "the size of the input layer is :  2\n",
            "the size of the hidden layer is :  4\n",
            "the size of the output layer is :  1\n"
          ]
        }
      ]
    },
    {
      "cell_type": "markdown",
      "source": [
        "\n",
        "    Argument:\n",
        "    n_x -- size of the input layer\n",
        "    n_h -- size of the hidden layer\n",
        "    n_y -- size of the output layer\n",
        "    \n",
        "    Returns:\n",
        "    params -- python dictionary containing the parameters:\n",
        "                    W1 -- weight matrix of shape (n_h, n_x)\n",
        "                    b1 -- bias vector of shape (n_h, 1)\n",
        "                    W2 -- weight matrix of shape (n_y, n_h)\n",
        "                    b2 -- bias vector of shape (n_y, 1)\n",
        "   "
      ],
      "metadata": {
        "id": "PuSz0n-ldb71"
      }
    },
    {
      "cell_type": "code",
      "source": [
        "def initialize_parameters(n_x, n_h, n_y):\n",
        "\n",
        "  np.random.seed(2) \n",
        "  W1 = np.random.randn(n_h,n_x) * 0.01\n",
        "  b1 = np.zeros((n_h,1))\n",
        "  W2 = np.random.randn(n_y,n_h) * 0.01\n",
        "  b2 = np.zeros((n_y,1))\n",
        "  parameters = {\"W1\": W1,\"b1\": b1,\"W2\": W2,\"b2\": b2}\n",
        "    \n",
        "  return parameters"
      ],
      "metadata": {
        "id": "d7kJCbc_dFME"
      },
      "execution_count": 10,
      "outputs": []
    },
    {
      "cell_type": "code",
      "source": [
        "n_x, n_h, n_y = layer_sizes(X, Y)\n",
        "print(n_x)\n",
        "param = initialize_parameters(n_x, n_h, n_y)\n",
        "print(\"W1 = \" + str(param[\"W1\"]))\n",
        "print()\n",
        "print(\"b1 = \" + str(param[\"b1\"]))\n",
        "print()\n",
        "print(\"W2 = \" + str(param[\"W2\"]))\n",
        "print()\n",
        "print(\"b2 = \" + str(param[\"b2\"]))\n"
      ],
      "metadata": {
        "colab": {
          "base_uri": "https://localhost:8080/"
        },
        "id": "XTY_5UzyeJg8",
        "outputId": "f17dabbe-f8be-40a8-e6b5-8eabc4cd296c"
      },
      "execution_count": 11,
      "outputs": [
        {
          "output_type": "stream",
          "name": "stdout",
          "text": [
            "2\n",
            "W1 = [[-0.00416758 -0.00056267]\n",
            " [-0.02136196  0.01640271]\n",
            " [-0.01793436 -0.00841747]\n",
            " [ 0.00502881 -0.01245288]]\n",
            "\n",
            "b1 = [[0.]\n",
            " [0.]\n",
            " [0.]\n",
            " [0.]]\n",
            "\n",
            "W2 = [[-0.01057952 -0.00909008  0.00551454  0.02292208]]\n",
            "\n",
            "b2 = [[0.]]\n"
          ]
        }
      ]
    },
    {
      "cell_type": "markdown",
      "source": [
        "\n",
        "    Argument:\n",
        "    X -- input data of size (n_x, m)\n",
        "    parameters -- python dictionary containing the parameters (output of initialization function)\n",
        "    \n",
        "    Returns:\n",
        "    A2 -- The sigmoid output of the second activation\n",
        "    cache -- a dictionary containing \"Z1\", \"A1\", \"Z2\" and \"A2\"\n"
      ],
      "metadata": {
        "id": "Z7ypnubegMR6"
      }
    },
    {
      "cell_type": "code",
      "source": [
        "def forward_propagation(X, parameters, activation=\"tanh\"):\n",
        "\n",
        "  W1 = parameters[\"W1\"]\n",
        "  b1 = parameters[\"b1\"]\n",
        "  W2 = parameters[\"W2\"]\n",
        "  b2 = parameters[\"b2\"]\n",
        "  Z1 = np.dot(W1,X.T) + b1\n",
        "  if activation==\"relu\":\n",
        "    A1 = relu(Z1)\n",
        "  elif activation==\"tanh\":\n",
        "    A1 = np.tanh(Z1)\n",
        "  Z2 = np.dot(W2,A1) + b2\n",
        "  A2 = sigmoid(Z2)\n",
        "  # Values needed in the backpropagation are stored in \"cache\". This will be given as an input to the backpropagation\n",
        "  cache = {\"Z1\": Z1,\"A1\": A1,\"Z2\": Z2,\"A2\": A2}\n",
        "    \n",
        "  return A2, cache"
      ],
      "metadata": {
        "id": "ZBX10aHHe4SO"
      },
      "execution_count": 12,
      "outputs": []
    },
    {
      "cell_type": "code",
      "source": [
        "n_x, n_h, n_y = layer_sizes(X, Y)\n",
        "param = initialize_parameters(n_x, n_h, n_y)\n",
        "A2, cache = forward_propagation(X, param)\n",
        "print(np.mean(cache['Z1']) ,np.mean(cache['A1']),np.mean(cache['Z2']),np.mean(cache['A2']))"
      ],
      "metadata": {
        "colab": {
          "base_uri": "https://localhost:8080/"
        },
        "id": "ZuYYEtD8g0lv",
        "outputId": "66b3f6e0-c1c7-4933-874b-62547a34886d"
      },
      "execution_count": 13,
      "outputs": [
        {
          "output_type": "stream",
          "name": "stdout",
          "text": [
            "-0.21725936108039548 -0.20551729603243174 -0.004121363571976982 0.4989696610317177\n"
          ]
        }
      ]
    },
    {
      "cell_type": "markdown",
      "source": [
        "The cost funcion is : $$J= -\\frac{1}{m} \\sum\\limits_{i = 1}^{m} (y^{(i)}\\log\\left(a^{[L] (i)}\\right) + (1-y^{(i)})\\log\\left(1- a^{[L](i)}\\right)) $$\n"
      ],
      "metadata": {
        "id": "MaezvZzjhcnA"
      }
    },
    {
      "cell_type": "markdown",
      "source": [
        " \n",
        "    Computes the cross-entropy cost \n",
        "    \n",
        "    Arguments:\n",
        "    A2 -- The sigmoid output of the second activation, of shape (1, number of examples)\n",
        "    Y -- \"true\" labels vector of shape (1, number of examples)\n",
        "    parameters -- python dictionary containing your parameters W1, b1, W2 and b2\n",
        "    [Note that the parameters argument is not used in this function, \n",
        "    but the auto-grader currently expects this parameter.\n",
        "    Future version of this notebook will fix both the notebook \n",
        "    and the auto-grader so that `parameters` is not needed.\n",
        "    For now, please include `parameters` in the function signature,\n",
        "    and also when invoking this function.]\n",
        "    \n",
        "    Returns:\n",
        "    cost -- cross-entropy"
      ],
      "metadata": {
        "id": "DmzOasY7h0kS"
      }
    },
    {
      "cell_type": "code",
      "source": [
        "def compute_cost(A2, Y):\n",
        "\n",
        "  m = Y.shape[0] # number of example\n",
        "  # Compute the cross-entropy cost\n",
        "  logprobs = np.multiply(Y ,np.log(A2)) + np.multiply((1-Y), np.log(1-A2))\n",
        "  cost = (-1/m) * np.sum(logprobs)  \n",
        "  cost = float(np.squeeze(cost))  \n",
        "  \n",
        "  return cost"
      ],
      "metadata": {
        "id": "ASut1zSxhdYr"
      },
      "execution_count": 14,
      "outputs": []
    },
    {
      "cell_type": "code",
      "source": [
        "n_x, n_h, n_y = layer_sizes(X, Y)\n",
        "param = initialize_parameters(n_x, n_h, n_y)\n",
        "A2, cache = forward_propagation(X, param)\n",
        "cost = compute_cost(A2, Y)\n",
        "\n",
        "print(\"cost = \" + str(cost))"
      ],
      "metadata": {
        "colab": {
          "base_uri": "https://localhost:8080/"
        },
        "id": "UDxXKiLGiYmC",
        "outputId": "09145ee8-3bdc-4c10-b76d-3c1e399a68c5"
      },
      "execution_count": 15,
      "outputs": [
        {
          "output_type": "stream",
          "name": "stdout",
          "text": [
            "cost = 0.6928624761597487\n"
          ]
        }
      ]
    },
    {
      "cell_type": "markdown",
      "source": [
        "\n",
        "    Implement the backward propagation using the instructions above.\n",
        "    \n",
        "    Arguments:\n",
        "    parameters -- python dictionary containing our parameters \n",
        "    cache -- a dictionary containing \"Z1\", \"A1\", \"Z2\" and \"A2\".\n",
        "    X -- input data of shape (2, number of examples)\n",
        "    Y -- \"true\" labels vector of shape (1, number of examples)\n",
        "    \n",
        "    Returns:\n",
        "    grads -- python dictionary containing your gradients with respect to different parameters\n"
      ],
      "metadata": {
        "id": "TcLptpCPtHU3"
      }
    },
    {
      "cell_type": "code",
      "source": [
        "def backward_propagation(parameters, cache, X, Y,activation=\"tanh\"):\n",
        "\n",
        "  m = X.shape[0]\n",
        "  # First, retrieve W1 and W2 from the dictionary \"parameters\".\n",
        "  W1 = parameters[\"W1\"]\n",
        "  b1 = parameters[\"b1\"]\n",
        "  W2 = parameters[\"W2\"]\n",
        "  b2 = parameters[\"b2\"]\n",
        "  # Retrieve also A1 and A2 from dictionary \"cache\".\n",
        "  A1 = cache[\"A1\"]\n",
        "  A2 = cache[\"A2\"]\n",
        "  Z1 = cache[\"Z1\"]\n",
        "  Z2 = cache[\"Z2\"]\n",
        "\n",
        "  # Backward propagation: calculate dW1, db1, dW2, db2. \n",
        "  dZ2 = A2 - Y\n",
        "  dW2 = (1/m) * np.dot(dZ2,A1.T)\n",
        "  db2 = (1/m) *(np.sum(dZ2,axis=1,keepdims=True))\n",
        "  dA1 = np.dot(W2.T,dZ2) \n",
        "  \n",
        "  if activation==\"relu\":\n",
        "    dZ1 = np.array(dA1, copy=True)\n",
        "    dZ1[Z1 <= 0] = 0 # gradient of relu\n",
        "  elif activation==\"tanh\":\n",
        "    dZ1 = np.dot(W2.T,dZ2) * (1 - np.power(A1,2))\n",
        "\n",
        "  dW1 = (1/m) *(np.dot(dZ1,X))\n",
        "  db1 = (1/m) *(np.sum(dZ1, axis=1, keepdims=True))\n",
        "  grads = {\"dW1\": dW1,\"db1\": db1,\"dW2\": dW2,\"db2\": db2}\n",
        "\n",
        "  return grads"
      ],
      "metadata": {
        "id": "51rRza3AjO5o"
      },
      "execution_count": 16,
      "outputs": []
    },
    {
      "cell_type": "code",
      "source": [
        "n_x, n_h, n_y = layer_sizes(X, Y)\n",
        "param = initialize_parameters(n_x, n_h, n_y)\n",
        "A2, cache = forward_propagation(X, param)\n",
        "grads = backward_propagation(param, cache, X, Y)\n",
        "print (\"dW1 = \"+ str(grads[\"dW1\"]))\n",
        "print (\"db1 = \"+ str(grads[\"db1\"]))\n",
        "print (\"dW2 = \"+ str(grads[\"dW2\"]))\n",
        "print (\"db2 = \"+ str(grads[\"db2\"]))"
      ],
      "metadata": {
        "colab": {
          "base_uri": "https://localhost:8080/"
        },
        "id": "-CJDnaU9tlRd",
        "outputId": "64e2a11f-c96d-44cc-dde6-dd7d2b1b2b4c"
      },
      "execution_count": 17,
      "outputs": [
        {
          "output_type": "stream",
          "name": "stdout",
          "text": [
            "dW1 = [[ 1.08681488e-02 -7.30515018e-05]\n",
            " [ 8.57760585e-03 -7.03649825e-04]\n",
            " [-2.93246393e-03  1.48146373e-03]\n",
            " [-2.42601758e-02 -8.18387843e-04]]\n",
            "db1 = [[ 2.27010090e-06]\n",
            " [-3.26261650e-05]\n",
            " [ 7.07572003e-05]\n",
            " [-5.59386776e-05]]\n",
            "dW2 = [[ 0.00435505  0.02203481  0.01458081 -0.00507801]]\n",
            "db2 = [[-0.00103034]]\n"
          ]
        }
      ]
    },
    {
      "cell_type": "markdown",
      "source": [
        "###Simple FW"
      ],
      "metadata": {
        "id": "njq11p0EGIPr"
      }
    },
    {
      "cell_type": "code",
      "source": [
        "def Simple_FW_find_direction(grads):\n",
        "\n",
        "  dW1 = grads[\"dW1\"]\n",
        "  db1 = grads[\"db1\"]\n",
        "  dW2 = grads[\"dW2\"]\n",
        "  db2 = grads[\"db2\"]\n",
        "  #dW1_max=np.max(np.absolute(dW1))\n",
        "  #dW2_max=np.max(np.absolute(dW2))\n",
        "  #db1_max=np.max(np.absolute(db1))\n",
        "  #db2_max=np.max(np.absolute(db2))\n",
        "  #max=[dW1_max,dW2_max,db1_max,db2_max]\n",
        "  #index=np.argmax(max)\n",
        "  dW1_hat=np.zeros(dW1.shape)\n",
        "  dW2_hat=np.zeros(dW2.shape)\n",
        "  db1_hat=np.zeros(db1.shape)\n",
        "  db2_hat=np.zeros(db2.shape)\n",
        "  \n",
        "  #if index==0:\n",
        "  arg = np.unravel_index(dW1.argmax(), dW1.shape)\n",
        "  dW1_hat[arg[0]][arg[1]]=np.sign(-dW1[arg[0]][arg[1]])\n",
        "\n",
        "  #elif index==1:\n",
        "  arg = np.unravel_index(dW2.argmax(), dW2.shape)\n",
        "  dW2_hat[arg[0]][arg[1]]=np.sign(-dW2[arg[0]][arg[1]])\n",
        "\n",
        "  #elif index==2: \n",
        "  arg = np.unravel_index(db1.argmax(), db1.shape)\n",
        "  db1_hat[arg[0]][arg[1]]=np.sign(-db1[arg[0]][arg[1]])\n",
        "\n",
        "  #elif index==3:\n",
        "  arg = np.unravel_index(db2.argmax(), db2.shape)\n",
        "  db2_hat[arg[0]][arg[1]]=np.sign(-db2[arg[0]][arg[1]])\n",
        "\n",
        "  Mgrads = {\"dW1_hat\": dW1_hat,\"dW2_hat\": dW2_hat,\"db1_hat\": db1_hat,\"db2_hat\": db2_hat}\n",
        "\n",
        "  return Mgrads\n"
      ],
      "metadata": {
        "id": "I1UvKX_z39Dy"
      },
      "execution_count": 18,
      "outputs": []
    },
    {
      "cell_type": "markdown",
      "source": [
        "    Updates parameters using the gradient descent update rule given above\n",
        "    \n",
        "    Arguments:\n",
        "    parameters -- python dictionary containing your parameters \n",
        "    grads -- python dictionary containing your gradients \n",
        "    \n",
        "    Returns:\n",
        "    parameters -- python dictionary containing your updated parameters \n"
      ],
      "metadata": {
        "id": "h7oc6OXauPHi"
      }
    },
    {
      "cell_type": "code",
      "source": [
        "def update_parameters(parameters, Mgrads, learning_rate):\n",
        "\n",
        "  # Retrieve each parameter from the dictionary \"parameters\"\n",
        "  W1 = parameters[\"W1\"]\n",
        "  b1 = parameters[\"b1\"]\n",
        "  W2 = parameters[\"W2\"]\n",
        "  b2 = parameters[\"b2\"]    \n",
        "  # Retrieve each gradient from the dictionary \"grads\"\n",
        "  dW1_hat = Mgrads[\"dW1_hat\"]\n",
        "  db1_hat = Mgrads[\"db1_hat\"]\n",
        "  dW2_hat = Mgrads[\"dW2_hat\"]\n",
        "  db2_hat = Mgrads[\"db2_hat\"]\n",
        "  # Update rule for each parameter\n",
        "  W1 = W1 + learning_rate * (dW1_hat - W1)\n",
        "  b1 = b1 + learning_rate * (db1_hat - b1)\n",
        "  W2 = W2 + learning_rate * (dW2_hat - W2)\n",
        "  b2 = b2 + learning_rate * (db2_hat - b2)\n",
        "  parameters = {\"W1\": W1,\"b1\": b1,\"W2\": W2,\"b2\": b2}\n",
        "    \n",
        "  return parameters"
      ],
      "metadata": {
        "id": "edJIVUIkuL0a"
      },
      "execution_count": 19,
      "outputs": []
    },
    {
      "cell_type": "code",
      "source": [
        "n_x, n_h, n_y = layer_sizes(X, Y)\n",
        "param = initialize_parameters(n_x, n_h, n_y)\n",
        "A2, cache = forward_propagation(X, param)\n",
        "grads = backward_propagation(param, cache, X, Y)\n",
        "Mgrads = Simple_FW_find_direction(grads)\n",
        "parameters = update_parameters(param, Mgrads,1.2)\n",
        "print(\"W1 = \" + str(parameters[\"W1\"]))\n",
        "print(\"b1 = \" + str(parameters[\"b1\"]))\n",
        "print(\"W2 = \" + str(parameters[\"W2\"]))\n",
        "print(\"b2 = \" + str(parameters[\"b2\"]))"
      ],
      "metadata": {
        "colab": {
          "base_uri": "https://localhost:8080/"
        },
        "id": "UFYjoT4Du9GG",
        "outputId": "31ca876a-2e37-44d3-858d-268c4fb777fe"
      },
      "execution_count": 20,
      "outputs": [
        {
          "output_type": "stream",
          "name": "stdout",
          "text": [
            "W1 = [[-1.19916648e+00  1.12533654e-04]\n",
            " [ 4.27239219e-03 -3.28054162e-03]\n",
            " [ 3.58687117e-03  1.68349473e-03]\n",
            " [-1.00576283e-03  2.49057617e-03]]\n",
            "b1 = [[ 0. ]\n",
            " [ 0. ]\n",
            " [-1.2]\n",
            " [ 0. ]]\n",
            "W2 = [[ 2.11590444e-03 -1.19818198e+00 -1.10290809e-03 -4.58441603e-03]]\n",
            "b2 = [[1.2]]\n"
          ]
        }
      ]
    },
    {
      "cell_type": "markdown",
      "source": [
        "###Neural Network Model"
      ],
      "metadata": {
        "id": "U_Fxl-DXvVnJ"
      }
    },
    {
      "cell_type": "code",
      "source": [
        "# NN_model\n",
        "def nn_model(X, Y, n_h, num_iterations = 10000, print_cost=False, type = \"simple\"):\n",
        "  \n",
        "  n_x,n_h,n_y=layer_sizes(X, Y)\n",
        "  # Initialize parameters\n",
        "  parameters = initialize_parameters(n_x, n_h, n_y)\n",
        "  W1 = parameters[\"W1\"]\n",
        "  b1 = parameters[\"b1\"]\n",
        "  W2 = parameters[\"W2\"]\n",
        "  b2 = parameters[\"b2\"] \n",
        "  # Loop (gradient descent)\n",
        "  plot_cost=[]\n",
        "  for i in range(0, num_iterations):\n",
        "    # Forward propagation. Inputs: \"X, parameters\". Outputs: \"A2, cache\"\n",
        "    A2, cache = forward_propagation(X, parameters)\n",
        "    # Cost function. Inputs: \"A2, Y, parameters\". Outputs: \"cost\"\n",
        "    cost = compute_cost(A2, Y)\n",
        "    # Backpropagation. Inputs: \"parameters, cache, X, Y\". Outputs: \"grads\"\n",
        "    grads = backward_propagation(parameters, cache, X, Y)\n",
        "    if type==\"simple\":\n",
        "      Mgrads = Simple_FW_find_direction(grads)\n",
        "    elif type==\"SFW\":\n",
        "      print(\"hello\")\n",
        "    elif type==\"MSFW\":\n",
        "      print(\"hello\")\n",
        "    elif type==\"SVRF\":\n",
        "      print(\"Hi\")\n",
        "      \n",
        "    # Update rule for each parameter\n",
        "    learning_rate = 2/(i+1)\n",
        "    parameters = update_parameters(parameters, Mgrads, learning_rate)\n",
        "    # If print_cost=True, Print the cost every 1000 iterations\n",
        "    if print_cost and i % 10 == 0:\n",
        "      plot_cost.append(cost)\n",
        "\n",
        "    if print_cost and i % 100 == 0:\n",
        "      print (\"Cost after iteration %i: %f\" %(i, cost))\n",
        "    # Returns parameters learnt by the model. They can then be used to predict output\n",
        "\n",
        "\n",
        "  return parameters, plot_cost"
      ],
      "metadata": {
        "id": "7bM3BDh5vZjX"
      },
      "execution_count": 22,
      "outputs": []
    },
    {
      "cell_type": "code",
      "source": [
        "parameters,plot_cost = nn_model(X, Y, 3 ,num_iterations=800, print_cost=True,type = \"simple\")\n",
        "#print(plot_cost)\n",
        "x=np.linspace(1,len(plot_cost),len(plot_cost))\n",
        "x=x*10\n",
        "plot = sns.lineplot(x=x,y=plot_cost)\n",
        "plot.set(title='Cost per Iteration')\n",
        "plot.set_xlabel(\"Number of Iteration\")\n",
        "plot.set_ylabel(\"Cost\")\n",
        "#print(\"W1 = \" + str(parameters[\"W1\"]))\n",
        "#print(\"b1 = \" + str(parameters[\"b1\"]))\n",
        "#print(\"W2 = \" + str(parameters[\"W2\"]))\n",
        "#print(\"b2 = \" + str(parameters[\"b2\"]))"
      ],
      "metadata": {
        "colab": {
          "base_uri": "https://localhost:8080/",
          "height": 451
        },
        "id": "wOj3ORrHwJ1C",
        "outputId": "0fbe5c5e-f586-4999-cd1d-074a0550607e"
      },
      "execution_count": 23,
      "outputs": [
        {
          "output_type": "stream",
          "name": "stdout",
          "text": [
            "Cost after iteration 0: 0.692862\n",
            "Cost after iteration 100: 0.676686\n",
            "Cost after iteration 200: 0.672557\n",
            "Cost after iteration 300: 0.671368\n",
            "Cost after iteration 400: 0.670985\n",
            "Cost after iteration 500: 0.670804\n",
            "Cost after iteration 600: 0.670715\n",
            "Cost after iteration 700: 0.670667\n"
          ]
        },
        {
          "output_type": "execute_result",
          "data": {
            "text/plain": [
              "Text(0, 0.5, 'Cost')"
            ]
          },
          "metadata": {},
          "execution_count": 23
        },
        {
          "output_type": "display_data",
          "data": {
            "text/plain": [
              "<Figure size 432x288 with 1 Axes>"
            ],
            "image/png": "[encoded data removed]"
          },
          "metadata": {
            "needs_background": "light"
          }
        }
      ]
    }
  ]
}