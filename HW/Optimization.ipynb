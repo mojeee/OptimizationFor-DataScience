{
  "nbformat": 4,
  "nbformat_minor": 0,
  "metadata": {
    "colab": {
      "name": "Optimization.ipynb",
      "provenance": [],
      "collapsed_sections": [],
      "toc_visible": true
    },
    "kernelspec": {
      "name": "python3",
      "display_name": "Python 3"
    },
    "language_info": {
      "name": "python"
    }
  },
  "cells": [
    {
      "cell_type": "markdown",
      "source": [
        "# Optimization\n",
        "\n",
        "##### Author: Mojtaba Amini \n",
        "\n",
        "##### HW1\n",
        "##### Deadline: 04/11/2022"
      ],
      "metadata": {
        "id": "LHbXclkDJixt"
      }
    },
    {
      "cell_type": "markdown",
      "source": [
        "In the first part, the random data has been generated."
      ],
      "metadata": {
        "id": "tal6J33T9FmW"
      }
    },
    {
      "cell_type": "code",
      "source": [
        "import numpy as np\n",
        "from sklearn.model_selection import train_test_split\n",
        "import seaborn as sns\n",
        "from sklearn.datasets import make_blobs\n",
        "from matplotlib import pyplot\n",
        "from pandas import DataFrame\n",
        "\n",
        "# generate 2d classification dataset\n",
        "X, y = make_blobs(n_samples=300, centers=2, n_features=2)\n",
        "x_Unlabeled ,x_labeled_bar,y1,y_label = train_test_split(X,y,test_size=0.02)\n",
        "print(f\"Original size of X= {X.shape[0]}\\tUnlabeled size = {x_Unlabeled.shape[0]}\\tlabeled size = {x_labeled_bar.shape[0]}\")\n",
        "print(f\"Original size of y= {y.shape[0]}\\tUnlabeled size = {y1.shape[0]}\\tlabeled size = {y_label.shape[0]}\")\n",
        "\n",
        "y_label=y_label*2-1\n",
        "df = DataFrame(dict(x=x_labeled_bar[:,0], y=x_labeled_bar[:,1], label=y_label))\n",
        "colors = {-1:'red', 1:'black'}\n",
        "fig, ax = pyplot.subplots()\n",
        "grouped = df.groupby('label')\n",
        "sns.scatterplot(ax=ax,x=X[:,0],y=X[:,1])\n",
        "for key, group in grouped:\n",
        "    group.plot(ax=ax, kind='scatter', x='x', y='y', label=key, color=colors[key])\n",
        "pyplot.show()\n"
      ],
      "metadata": {
        "id": "Fjdgups5O1Os",
        "colab": {
          "base_uri": "https://localhost:8080/",
          "height": 314
        },
        "outputId": "aadd3197-5110-4e1c-ad59-6abc510565d4"
      },
      "execution_count": 29,
      "outputs": [
        {
          "output_type": "stream",
          "name": "stdout",
          "text": [
            "Original size of X= 300\tUnlabeled size = 294\tlabeled size = 6\n",
            "Original size of y= 300\tUnlabeled size = 294\tlabeled size = 6\n"
          ]
        },
        {
          "output_type": "display_data",
          "data": {
            "text/plain": [
              "<Figure size 432x288 with 1 Axes>"
            ],
            "image/png": "[encoded data removed]"
          },
          "metadata": {
            "needs_background": "light"
          }
        }
      ]
    },
    {
      "cell_type": "markdown",
      "source": [
        "### <mark><b>Similarity Measure function</b></mark>\n",
        "\n",
        "<ol>\n",
        "  <li><b>Euclidean Distance</b></li>\n",
        "  At first, for similarity, the similarity measure function has been defined as below:\n",
        "  $$ d(x,y) = {e^{\\sum_{i=1}^k (x_i-y_i)^2 }}$$\n",
        "\n",
        "  So the similarity matrix is defined as below:\n",
        "\n",
        "  $$\\omega_{ij}={e^{(x_{1i}-x_{1j})^2+(x_{2i}-x_{2j})^2}}$$\n",
        "\n",
        "  ${x_1}$ refer to the first dimension and ${x_2}$ is the second dimension in 2D.\n",
        "\n",
        "  ${i ,j}$ are two indexes for labeled and unlabeled data. \n",
        "\n",
        "  Therefore the matrix is as below:\n",
        "\n",
        "  $$\n",
        "\\omega_{ij}= \\begin{bmatrix}\n",
        "{e^{(x_{11}-x_{11})^2+(x_{21}-x_{21})^2}} & {e^{(x_{11}-x_{12})^2+(x_{21}-x_{22})^2}} & \\cdots \\\\\n",
        "{e^{(x_{12}-x_{11})^2+(x_{22}-x_{21})^2}} & \\ddots & \\cdots \\\\\n",
        "\\vdots & \\cdots & \\cdots \\\\\n",
        "\\end{bmatrix}\n",
        "$$\n",
        "</ol>"
      ],
      "metadata": {
        "id": "3CjjUzACKi9O"
      }
    },
    {
      "cell_type": "markdown",
      "source": [
        "<b>Defining Similarity functions:</b>"
      ],
      "metadata": {
        "id": "rJLqwmvvEgq-"
      }
    },
    {
      "cell_type": "code",
      "source": [
        "def euclidean_distance(x,y):\n",
        "  \n",
        "  return np.exp(-np.linalg.norm(x-y)**2)\n"
      ],
      "metadata": {
        "id": "6hwS1tD0EX18"
      },
      "execution_count": 12,
      "outputs": []
    },
    {
      "cell_type": "markdown",
      "source": [
        "<b> Initializing matrixes</b>"
      ],
      "metadata": {
        "id": "1HBd81SdEs7i"
      }
    },
    {
      "cell_type": "code",
      "source": [
        "def initialize_parameters(x_Unlabeled):\n",
        "  np.random.seed(4)\n",
        "# initialize the parameters with non-zeros numbers between(0,1)\n",
        "  y_unlabel=np.random.rand(len(x_Unlabeled))*0.01\n",
        "  return y_unlabel"
      ],
      "metadata": {
        "id": "Qh5aC6sYKcHX"
      },
      "execution_count": 13,
      "outputs": []
    },
    {
      "cell_type": "markdown",
      "source": [
        "<b>Defining the similarity matrix</b>"
      ],
      "metadata": {
        "id": "f-5YrmdkKrhg"
      }
    },
    {
      "cell_type": "code",
      "source": [
        "def similarity(x_Unlabeled,x_labeled_bar,type):\n",
        "  wij=np.zeros((len(x_labeled_bar),len(x_Unlabeled)))\n",
        "  wij_bar=np.zeros((len(x_Unlabeled),len(x_Unlabeled)))\n",
        "  if type==\"Euclidean\" :\n",
        "    for j in range(len(x_Unlabeled)):\n",
        "      for i in range(len(x_labeled_bar)):\n",
        "        wij[i,j]=euclidean_distance(x_labeled_bar[i,:],x_Unlabeled[j])\n",
        "      for i in range(len(x_Unlabeled)):\n",
        "        wij_bar[i,j]=euclidean_distance(x_Unlabeled[i],x_Unlabeled[j])\n",
        "  return wij,wij_bar"
      ],
      "metadata": {
        "id": "NwaLIGdyKr9F"
      },
      "execution_count": 14,
      "outputs": []
    },
    {
      "cell_type": "markdown",
      "source": [
        "### <mark><b>Cost function and it's derivative</b></mark>\n",
        "\n",
        "\n",
        " Cost function:\n",
        "  $$ \\min_{y\\in{R^u}} \\sum_{i=1}^l\\sum_{j=1}^u \\omega_{ij}(y^{j}-\\bar{y}^{i})^2 + \\frac{1}{2} \\sum_{i=1}^u\\sum_{j=1}^u \\bar{\\omega}_{ij}(y^{j}-y^{i})^2 $$\n",
        "\n",
        "Gradient with respect to $y^{j}$:\n",
        "$$\\nabla_{y^{j}} f(y)=2\\sum_{i=1}^l \\omega_{ij}(y^{j}-\\bar{y}^{i})+2 \\sum_{i=1}^u \\bar{\\omega}_{ij}(y^{j}-y^{i})$$\n",
        "\n",
        "$u$ : unlabeled data\n",
        "\n",
        "$l$ : labeled data\n",
        "\n",
        "$y$ : predicted label ( parameters)\n",
        "\n",
        "$\\bar{y}$ : determined label\n",
        "\n",
        "$\\omega_{ij}$ : similarity measure matrix between labeled and unlabeled data\n",
        "\n",
        "$\\bar{\\omega}_{ij}$ : similarity measure matrix between unlabeled data\n"
      ],
      "metadata": {
        "id": "UXJijTQgKsaq"
      }
    },
    {
      "cell_type": "code",
      "source": [
        "def cost_function(wij,wij_bar,y_unlabel,y_label):\n",
        "  cost=0.0\n",
        "  term1=0.0\n",
        "  term2=0.0\n",
        "  for i in range(len(y_label)):\n",
        "    for j in range(len(y_unlabel)):\n",
        "      term1 = term1+wij[i,j]*np.power(y_unlabel[j]-y_label[i],2)\n",
        "  for i in range(len(y_unlabel)):\n",
        "    for j in range(len(y_unlabel)):\n",
        "      term2 = term2+wij_bar[i,j]*np.power(y_unlabel[j]-y_unlabel[i],2)\n",
        "  cost = term1 + term2\n",
        "  return cost"
      ],
      "metadata": {
        "id": "8Ex5tpvZM_7v"
      },
      "execution_count": 15,
      "outputs": []
    },
    {
      "cell_type": "code",
      "source": [
        "def dev_function(wij,wij_bar,y_unlabel,y_label,j):\n",
        "  dev=0.0\n",
        "  term1=0.0\n",
        "  term2=0.0\n",
        "  for i in range(len(y_label)):\n",
        "    term1 = term1+wij[i,j]*(y_unlabel[j]-y_label[i])\n",
        "  for i in range(len(y_unlabel)):\n",
        "    term2 = term2+wij_bar[i,j]*(y_unlabel[j]-y_unlabel[i])\n",
        "  dev = 2*(term1 + term2)\n",
        "  return dev  "
      ],
      "metadata": {
        "id": "Kw9ZiXchcaKZ"
      },
      "execution_count": 16,
      "outputs": []
    },
    {
      "cell_type": "markdown",
      "source": [
        "### <mark><b>Gradient Decent</b></mark>\n"
      ],
      "metadata": {
        "id": "rwDph5VmAe4j"
      }
    },
    {
      "cell_type": "code",
      "source": [
        "def Update_gd(alpha,theta,derivative):\n",
        "\n",
        "  theta=theta-alpha*derivative\n",
        "  return theta\n"
      ],
      "metadata": {
        "id": "M40MXfTTKsrJ"
      },
      "execution_count": 17,
      "outputs": []
    },
    {
      "cell_type": "code",
      "source": [
        "#Gradient Decend\n",
        "alpha=0.003\n",
        "y_unlabel=initialize_parameters(x_Unlabeled)\n",
        "wij,wij_bar=similarity(x_Unlabeled,x_labeled_bar,\"Euclidean\")\n",
        "num_iteration=400\n",
        "cash=np.zeros(len(y_unlabel))"
      ],
      "metadata": {
        "id": "Unv07X7ShTFa"
      },
      "execution_count": 22,
      "outputs": []
    },
    {
      "cell_type": "code",
      "source": [
        "cost_func=np.zeros(num_iteration)\n",
        "\n",
        "for i in range(num_iteration):\n",
        "  for j in range(len(y_unlabel)):\n",
        "    derivative=dev_function(wij,wij_bar,y_unlabel,y_label,j)\n",
        "    cash[j]=Update_gd(alpha,y_unlabel[j],derivative)\n",
        "  y_unlabel=np.copy(cash)\n",
        "  cost_func[i]=cost_function(wij,wij_bar,y_unlabel,y_label)"
      ],
      "metadata": {
        "id": "vOG9P0Me-tom"
      },
      "execution_count": 23,
      "outputs": []
    },
    {
      "cell_type": "code",
      "source": [
        "sns.lineplot(x= range(num_iteration),y=cost_func)"
      ],
      "metadata": {
        "colab": {
          "base_uri": "https://localhost:8080/",
          "height": 282
        },
        "id": "n1wSl0rSCy0u",
        "outputId": "fa3eff1a-caef-4bc9-a7c7-dbffafc3419e"
      },
      "execution_count": 24,
      "outputs": [
        {
          "output_type": "execute_result",
          "data": {
            "text/plain": [
              "<matplotlib.axes._subplots.AxesSubplot at 0x7fc4082b2f10>"
            ]
          },
          "metadata": {},
          "execution_count": 24
        },
        {
          "output_type": "display_data",
          "data": {
            "text/plain": [
              "<Figure size 432x288 with 1 Axes>"
            ],
            "image/png": "[encoded data removed]"
          },
          "metadata": {
            "needs_background": "light"
          }
        }
      ]
    },
    {
      "cell_type": "markdown",
      "source": [
        ""
      ],
      "metadata": {
        "id": "OCcw09EzKs5U"
      }
    },
    {
      "cell_type": "code",
      "source": [
        "y_unlabel2=np.round((y_unlabel+1)/2)*2-1\n",
        "df = DataFrame(dict(x=x_Unlabeled[:,0], y=x_Unlabeled[:,1], label=y_unlabel2))\n",
        "colors = {-1:'red', 1:'black'}\n",
        "fig, ax = pyplot.subplots()\n",
        "grouped = df.groupby('label')\n",
        "#sns.scatterplot(ax=ax,x=x_labeled_bar[:,0],y=x_labeled_bar[:,1])\n",
        "for key, group in grouped:\n",
        "    group.plot(ax=ax, kind='scatter', x='x', y='y', label=key, color=colors[key])\n",
        "pyplot.show()"
      ],
      "metadata": {
        "id": "XbFX4e5yKtGF",
        "colab": {
          "base_uri": "https://localhost:8080/",
          "height": 279
        },
        "outputId": "bef66399-f024-44a5-dd45-e955fe2ee487"
      },
      "execution_count": 26,
      "outputs": [
        {
          "output_type": "display_data",
          "data": {
            "text/plain": [
              "<Figure size 432x288 with 1 Axes>"
            ],
            "image/png": "[encoded data removed]"
          },
          "metadata": {
            "needs_background": "light"
          }
        }
      ]
    },
    {
      "cell_type": "markdown",
      "source": [
        ""
      ],
      "metadata": {
        "id": "BPO0b1C7KtS4"
      }
    },
    {
      "cell_type": "code",
      "source": [
        ""
      ],
      "metadata": {
        "id": "QbPJhAu4Ktgt"
      },
      "execution_count": null,
      "outputs": []
    },
    {
      "cell_type": "markdown",
      "source": [
        ""
      ],
      "metadata": {
        "id": "o3WRIcNWKt9W"
      }
    },
    {
      "cell_type": "code",
      "source": [
        ""
      ],
      "metadata": {
        "id": "3jiTrY-QKuLK"
      },
      "execution_count": null,
      "outputs": []
    },
    {
      "cell_type": "markdown",
      "source": [
        ""
      ],
      "metadata": {
        "id": "4t2XkoU0KuXt"
      }
    },
    {
      "cell_type": "code",
      "source": [
        ""
      ],
      "metadata": {
        "id": "6o44nD-MKuk1"
      },
      "execution_count": null,
      "outputs": []
    },
    {
      "cell_type": "markdown",
      "source": [
        ""
      ],
      "metadata": {
        "id": "SAL8ltfOKuxd"
      }
    },
    {
      "cell_type": "code",
      "source": [
        ""
      ],
      "metadata": {
        "id": "FLpyWJzaKu-o"
      },
      "execution_count": null,
      "outputs": []
    },
    {
      "cell_type": "markdown",
      "source": [
        ""
      ],
      "metadata": {
        "id": "_nlXauUYKvLV"
      }
    },
    {
      "cell_type": "code",
      "source": [
        ""
      ],
      "metadata": {
        "id": "Q5nYG2HcKvYS"
      },
      "execution_count": null,
      "outputs": []
    },
    {
      "cell_type": "markdown",
      "source": [
        ""
      ],
      "metadata": {
        "id": "sNIddwerKvln"
      }
    },
    {
      "cell_type": "code",
      "source": [
        ""
      ],
      "metadata": {
        "id": "9CKvxX2CKvyI"
      },
      "execution_count": null,
      "outputs": []
    },
    {
      "cell_type": "markdown",
      "source": [
        ""
      ],
      "metadata": {
        "id": "O77kNzmuKwEq"
      }
    },
    {
      "cell_type": "code",
      "source": [
        ""
      ],
      "metadata": {
        "id": "h_kBcPoCKwSH"
      },
      "execution_count": null,
      "outputs": []
    },
    {
      "cell_type": "markdown",
      "source": [
        ""
      ],
      "metadata": {
        "id": "FlqqEjPlKwgG"
      }
    },
    {
      "cell_type": "code",
      "source": [
        ""
      ],
      "metadata": {
        "id": "pxemrFDkKwte"
      },
      "execution_count": null,
      "outputs": []
    },
    {
      "cell_type": "markdown",
      "source": [
        ""
      ],
      "metadata": {
        "id": "wQx2laI3e4tY"
      }
    },
    {
      "cell_type": "code",
      "source": [
        ""
      ],
      "metadata": {
        "id": "MWklI7eje49J"
      },
      "execution_count": null,
      "outputs": []
    },
    {
      "cell_type": "markdown",
      "source": [
        ""
      ],
      "metadata": {
        "id": "dKGthPGte5J8"
      }
    },
    {
      "cell_type": "code",
      "source": [
        ""
      ],
      "metadata": {
        "id": "liGAAR7De5WR"
      },
      "execution_count": null,
      "outputs": []
    },
    {
      "cell_type": "markdown",
      "source": [
        ""
      ],
      "metadata": {
        "id": "zxAqB4sSe5i4"
      }
    },
    {
      "cell_type": "code",
      "source": [
        ""
      ],
      "metadata": {
        "id": "MFv19AELe5u-"
      },
      "execution_count": null,
      "outputs": []
    },
    {
      "cell_type": "markdown",
      "source": [
        ""
      ],
      "metadata": {
        "id": "LfZRodNce56x"
      }
    },
    {
      "cell_type": "code",
      "source": [
        ""
      ],
      "metadata": {
        "id": "Bc1P_aOre6J5"
      },
      "execution_count": null,
      "outputs": []
    },
    {
      "cell_type": "markdown",
      "source": [
        ""
      ],
      "metadata": {
        "id": "Z9y0fq_xe6V5"
      }
    },
    {
      "cell_type": "code",
      "source": [
        ""
      ],
      "metadata": {
        "id": "BOZ_vkxKe6i3"
      },
      "execution_count": null,
      "outputs": []
    },
    {
      "cell_type": "markdown",
      "source": [
        ""
      ],
      "metadata": {
        "id": "ZodEMB0ve6vV"
      }
    },
    {
      "cell_type": "code",
      "source": [
        ""
      ],
      "metadata": {
        "id": "hP1Nz-QBe68W"
      },
      "execution_count": null,
      "outputs": []
    },
    {
      "cell_type": "markdown",
      "source": [
        ""
      ],
      "metadata": {
        "id": "fPicKL3Ae7IS"
      }
    },
    {
      "cell_type": "code",
      "source": [
        ""
      ],
      "metadata": {
        "id": "6MChkwshe7Vl"
      },
      "execution_count": null,
      "outputs": []
    },
    {
      "cell_type": "markdown",
      "source": [
        ""
      ],
      "metadata": {
        "id": "tahnnb2He7jG"
      }
    },
    {
      "cell_type": "code",
      "source": [
        ""
      ],
      "metadata": {
        "id": "hcY_B8wve7w5"
      },
      "execution_count": null,
      "outputs": []
    },
    {
      "cell_type": "markdown",
      "source": [
        ""
      ],
      "metadata": {
        "id": "ZqXQpyKwe78z"
      }
    },
    {
      "cell_type": "code",
      "source": [
        ""
      ],
      "metadata": {
        "id": "JgCAMke5e8Jw"
      },
      "execution_count": null,
      "outputs": []
    },
    {
      "cell_type": "markdown",
      "source": [
        ""
      ],
      "metadata": {
        "id": "LMimC1zNe8Z6"
      }
    },
    {
      "cell_type": "code",
      "source": [
        ""
      ],
      "metadata": {
        "id": "VUGz3sxle80L"
      },
      "execution_count": null,
      "outputs": []
    }
  ]
}