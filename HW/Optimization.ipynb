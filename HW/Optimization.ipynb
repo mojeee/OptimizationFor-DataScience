{
  "nbformat": 4,
  "nbformat_minor": 0,
  "metadata": {
    "colab": {
      "name": "Optimization (2).ipynb",
      "provenance": [],
      "collapsed_sections": [],
      "toc_visible": true
    },
    "kernelspec": {
      "name": "python3",
      "display_name": "Python 3"
    },
    "language_info": {
      "name": "python"
    }
  },
  "cells": [
    {
      "cell_type": "markdown",
      "source": [
        "# Optimization Methods for Data Science\n",
        "\n",
        "##### Authors: Mojtaba Amini , Kamile Dementaviciute, Saeed Soufeh\n",
        "\n",
        "##### HW1\n",
        "##### Deadline: 04/11/2022"
      ],
      "metadata": {
        "id": "LHbXclkDJixt"
      }
    },
    {
      "cell_type": "markdown",
      "source": [
        "In the first part, the random data has been generated."
      ],
      "metadata": {
        "id": "tal6J33T9FmW"
      }
    },
    {
      "cell_type": "code",
      "source": [
        "import numpy as np\n",
        "from sklearn.model_selection import train_test_split\n",
        "import seaborn as sns\n",
        "from sklearn.datasets import make_blobs\n",
        "from matplotlib import pyplot\n",
        "from pandas import DataFrame\n",
        "from time import process_time\n",
        "import pandas as pd\n"
      ],
      "metadata": {
        "id": "vEhd2Hin6Vg4"
      },
      "execution_count": 1,
      "outputs": []
    },
    {
      "cell_type": "code",
      "source": [
        "# generate 2d classification dataset\n",
        "np.random.seed(15)\n",
        "X, y = make_blobs(n_samples=300, centers=2, n_features=2)\n",
        "x_Unlabeled ,x_labeled_bar,y1,y_label = train_test_split(X,y,test_size=0.02)\n",
        "\n",
        "print(f\"Original size of X= {X.shape[0]}\\tUnlabeled size = {x_Unlabeled.shape[0]}\\tlabeled size = {x_labeled_bar.shape[0]}\")\n",
        "print(f\"Original size of y= {y.shape[0]}\\tUnlabeled size = {y1.shape[0]}\\tlabeled size = {y_label.shape[0]}\")\n",
        "\n",
        "y_label=y_label*2-1\n",
        "df = DataFrame(dict(x=x_labeled_bar[:,0], y=x_labeled_bar[:,1], label=y_label))\n",
        "colors = {-1:'red', 1:'black'}\n",
        "fig, ax = pyplot.subplots()\n",
        "grouped = df.groupby('label')\n",
        "sns.scatterplot(ax=ax,x=X[:,0],y=X[:,1])\n",
        "for key, group in grouped:\n",
        "    group.plot(ax=ax, kind='scatter', x='x', y='y', label=key, color=colors[key])\n",
        "pyplot.show()\n",
        "\n"
      ],
      "metadata": {
        "colab": {
          "base_uri": "https://localhost:8080/",
          "height": 314
        },
        "outputId": "5bebb390-cf5d-4a77-d3da-11700b1995fe",
        "id": "g5KxwLtP4_j7"
      },
      "execution_count": 2,
      "outputs": [
        {
          "output_type": "stream",
          "name": "stdout",
          "text": [
            "Original size of X= 300\tUnlabeled size = 294\tlabeled size = 6\n",
            "Original size of y= 300\tUnlabeled size = 294\tlabeled size = 6\n"
          ]
        },
        {
          "output_type": "display_data",
          "data": {
            "text/plain": [
              "<Figure size 432x288 with 1 Axes>"
            ],
            "image/png": "[encoded data removed]"
          },
          "metadata": {
            "needs_background": "light"
          }
        }
      ]
    },
    {
      "cell_type": "markdown",
      "source": [
        "### <mark><b>Similarity Measure function</b></mark>\n",
        "\n",
        "<ol>\n",
        "  <li><b>Euclidean Distance</b></li>\n",
        "  At first, for similarity, the similarity measure function has been defined as below:\n",
        "  $$ d(x,y) = {e^{\\sum_{i=1}^k (x_i-y_i)^2 }}$$\n",
        "\n",
        "  So the similarity matrix is defined as below:\n",
        "\n",
        "  $$\\omega_{ij}={e^{(x_{1i}-x_{1j})^2+(x_{2i}-x_{2j})^2}}$$\n",
        "\n",
        "  ${x_1}$ refer to the first dimension and ${x_2}$ is the second dimension in 2D.\n",
        "\n",
        "  ${i ,j}$ are two indexes for labeled and unlabeled data. \n",
        "\n",
        "  Therefore the matrix is as below:\n",
        "\n",
        "  $$\n",
        "\\omega_{ij}= \\begin{bmatrix}\n",
        "{e^{(x_{11}-x_{11})^2+(x_{21}-x_{21})^2}} & {e^{(x_{11}-x_{12})^2+(x_{21}-x_{22})^2}} & \\cdots \\\\\n",
        "{e^{(x_{12}-x_{11})^2+(x_{22}-x_{21})^2}} & \\ddots & \\cdots \\\\\n",
        "\\vdots & \\cdots & \\cdots \\\\\n",
        "\\end{bmatrix}\n",
        "$$\n",
        "</ol>"
      ],
      "metadata": {
        "id": "Abv1BsGx4_kF"
      }
    },
    {
      "cell_type": "markdown",
      "source": [
        "<b>Defining Similarity functions:</b>"
      ],
      "metadata": {
        "id": "2vLr2p994_kG"
      }
    },
    {
      "cell_type": "code",
      "source": [
        "def Gaussian_distance(x,y):\n",
        "  return np.exp(-np.linalg.norm(x-y)**2)"
      ],
      "metadata": {
        "id": "I50GcOHt4_kG"
      },
      "execution_count": 3,
      "outputs": []
    },
    {
      "cell_type": "markdown",
      "source": [
        "<b> Initializing matrixes</b>"
      ],
      "metadata": {
        "id": "tS-dEjXy4_kG"
      }
    },
    {
      "cell_type": "code",
      "source": [
        "def initialize_parameters(x_Unlabeled):\n",
        "  np.random.seed(4)\n",
        "# initialize the parameters with non-zeros numbers between(0,1)\n",
        "  y_unlabel=np.random.rand(len(x_Unlabeled))*0.01\n",
        "  return y_unlabel"
      ],
      "metadata": {
        "id": "tOT2nn4h4_kG"
      },
      "execution_count": 4,
      "outputs": []
    },
    {
      "cell_type": "markdown",
      "source": [
        "<b>Defining the similarity matrix</b>"
      ],
      "metadata": {
        "id": "jyD-DG_04_kG"
      }
    },
    {
      "cell_type": "code",
      "source": [
        "def similarity(x_Unlabeled,x_labeled_bar,type):\n",
        "  wij=np.zeros((len(x_labeled_bar),len(x_Unlabeled)))\n",
        "  wij_bar=np.zeros((len(x_Unlabeled),len(x_Unlabeled)))\n",
        "\n",
        "  if type==\"Gaussian\" :\n",
        "    for j in range(len(x_Unlabeled)):\n",
        "      for i in range(len(x_labeled_bar)):\n",
        "        wij[i,j] = Gaussian_distance(x_labeled_bar[i,:],x_Unlabeled[j])\n",
        "      for i in range(len(x_Unlabeled)):\n",
        "        wij_bar[i,j] = Gaussian_distance(x_Unlabeled[i],x_Unlabeled[j])\n",
        "  return wij,wij_bar"
      ],
      "metadata": {
        "id": "5Gxu70m74_kG"
      },
      "execution_count": 5,
      "outputs": []
    },
    {
      "cell_type": "markdown",
      "source": [
        "### <mark><b>Cost function and it's derivative</b></mark>\n",
        "\n",
        "\n",
        " Cost function:\n",
        "  $$ \\min_{y\\in{R^u}} \\sum_{i=1}^l\\sum_{j=1}^u \\omega_{ij}(y^{j}-\\bar{y}^{i})^2 + \\frac{1}{2} \\sum_{i=1}^u\\sum_{j=1}^u \\bar{\\omega}_{ij}(y^{j}-y^{i})^2 $$\n",
        "\n",
        "Gradient with respect to $y^{j}$:\n",
        "$$\\nabla_{y^{j}} f(y)=2\\sum_{i=1}^l \\omega_{ij}(y^{j}-\\bar{y}^{i})+2 \\sum_{i=1}^u \\bar{\\omega}_{ij}(y^{j}-y^{i})$$\n",
        "\n",
        "$u$ : unlabeled data\n",
        "\n",
        "$l$ : labeled data\n",
        "\n",
        "$y$ : predicted label ( parameters)\n",
        "\n",
        "$\\bar{y}$ : determined label\n",
        "\n",
        "$\\omega_{ij}$ : similarity measure matrix between labeled and unlabeled data\n",
        "\n",
        "$\\bar{\\omega}_{ij}$ : similarity measure matrix between unlabeled data\n"
      ],
      "metadata": {
        "id": "I5XaQmIr4_kG"
      }
    },
    {
      "cell_type": "code",
      "source": [
        "def cost_function(wij,wij_bar,y_unlabel,y_label):\n",
        "  cost=0.0\n",
        "  term1=0.0\n",
        "  term2=0.0\n",
        "\n",
        "  y_label_matrix=np.tile(y_label,(y_unlabel.shape[0],1))\n",
        "  y_unlabel_array=np.reshape(y_unlabel,(y_unlabel.shape[0],1))\n",
        "  wij_reshaped=wij.T\n",
        "  sub1=np.power(y_label_matrix-y_unlabel_array,2)\n",
        "  mat1= wij_reshaped*sub1\n",
        "  term1=np.sum(mat1)\n",
        "\n",
        "  y_unlabel_matrix=np.tile(y_unlabel,(y_unlabel.shape[0],1))\n",
        "  y_unlabel_array=np.reshape(y_unlabel,(y_unlabel.shape[0],1))\n",
        "  wij_bar_reshaped=wij_bar.T\n",
        "  sub2=np.power(y_unlabel_matrix-y_unlabel_array,2)\n",
        "  mat2= wij_bar_reshaped*sub2\n",
        "  term2=np.sum(mat2)\n",
        "\n",
        "  cost = term1 + 0.5*term2\n",
        "  return cost"
      ],
      "metadata": {
        "id": "gCjkNK_czhzn"
      },
      "execution_count": 19,
      "outputs": []
    },
    {
      "cell_type": "code",
      "source": [
        ""
      ],
      "metadata": {
        "id": "8EgUOivxGFKM"
      },
      "execution_count": null,
      "outputs": []
    },
    {
      "cell_type": "code",
      "source": [
        "def dev_function(wij,wij_bar,y_unlabel,y_label,method,index=1,size=0):\n",
        "  dev=0.0\n",
        "\n",
        "  if method==\"GD\":\n",
        "    size=y_unlabel.shape[0]\n",
        "    dev=np.zeros(size)\n",
        "    for j in range(size):\n",
        "      term1=0.0\n",
        "      term2=0.0\n",
        "      for i in range(len(y_label)):\n",
        "        term1 = term1+wij[i,size*(index-1)+j]*(y_unlabel[size*(index-1)+j]-y_label[i])\n",
        "      for i in range(len(y_unlabel)):\n",
        "        term2 = term2+wij_bar[i,size*(index-1)+j]*(y_unlabel[size*(index-1)+j]-y_unlabel[i])\n",
        "      dev[j] = 2*(term1 + term2)\n",
        "  elif method==\"BCGD\":\n",
        "    dev=np.zeros(size)\n",
        "    for j in range(size):\n",
        "      term1=0.0\n",
        "      term2=0.0\n",
        "      for i in range(len(y_label)):\n",
        "        term1 = term1+wij[i,size*(index-1)+j]*(y_unlabel[size*(index-1)+j]-y_label[i])\n",
        "      for i in range(len(y_unlabel)):\n",
        "        term2 = term2+wij_bar[i,size*(index-1)+j]*(y_unlabel[size*(index-1)+j]-y_unlabel[i])\n",
        "      dev[j] = 2*(term1 + term2)\n",
        "\n",
        "  return dev  "
      ],
      "metadata": {
        "id": "aXl5l12b4_kH"
      },
      "execution_count": 7,
      "outputs": []
    },
    {
      "cell_type": "markdown",
      "source": [
        "### <mark><b>Gradient Decent</b></mark>\n"
      ],
      "metadata": {
        "id": "H4Ghpmwc4_kH"
      }
    },
    {
      "cell_type": "code",
      "source": [
        "#Gradient Decend\n",
        "alpha=0.003\n",
        "num_iteration=800\n",
        "time_tracking = np.zeros(num_iteration)\n",
        "t1_start = process_time() \n",
        "y_unlabel=initialize_parameters(x_Unlabeled)\n",
        "wij,wij_bar=similarity(x_Unlabeled,x_labeled_bar,\"Gaussian\")\n",
        "cost_func=np.zeros(num_iteration)\n",
        "\n",
        "for i in range(num_iteration):\n",
        "  derivative=dev_function(wij,wij_bar,y_unlabel,y_label,method=\"GD\")\n",
        "  y_unlabel=y_unlabel-alpha*derivative\n",
        "  cost_func[i]=cost_function(wij,wij_bar,y_unlabel,y_label)\n",
        "  time_tracking[i] = process_time() - t1_start\n",
        "t1_stop = process_time()\n",
        "print(\"BCGD with Cyclic Rule\")\n",
        "print(\"CPU time:\", t1_stop - t1_start)\n",
        "sns.lineplot(x= range(num_iteration),y=cost_func)"
      ],
      "metadata": {
        "colab": {
          "base_uri": "https://localhost:8080/",
          "height": 320
        },
        "id": "8lFYX_Gg4_kH",
        "outputId": "66fc8152-d4cb-40fd-b7af-f8131dc5e2b2"
      },
      "execution_count": 10,
      "outputs": [
        {
          "output_type": "stream",
          "name": "stdout",
          "text": [
            "BCGD with Cyclic Rule\n",
            "CPU time: 54.723734173000004\n"
          ]
        },
        {
          "output_type": "execute_result",
          "data": {
            "text/plain": [
              "<matplotlib.axes._subplots.AxesSubplot at 0x7f9a15e70b90>"
            ]
          },
          "metadata": {},
          "execution_count": 10
        },
        {
          "output_type": "display_data",
          "data": {
            "text/plain": [
              "<Figure size 432x288 with 1 Axes>"
            ],
            "image/png": "[encoded data removed]"
          },
          "metadata": {
            "needs_background": "light"
          }
        }
      ]
    },
    {
      "cell_type": "markdown",
      "source": [
        "Visualizing the result to see that the assignment is correct or not!"
      ],
      "metadata": {
        "id": "Hsf5uJ704_kH"
      }
    },
    {
      "cell_type": "code",
      "source": [
        "y_unlabel2=np.round((y_unlabel+1)/2)*2-1\n",
        "df = DataFrame(dict(x=x_Unlabeled[:,0], y=x_Unlabeled[:,1], label=y_unlabel2))\n",
        "colors = {-1:'red', 1:'black'}\n",
        "fig, ax = pyplot.subplots()\n",
        "grouped = df.groupby('label')\n",
        "#sns.scatterplot(ax=ax,x=x_labeled_bar[:,0],y=x_labeled_bar[:,1])\n",
        "for key, group in grouped:\n",
        "    group.plot(ax=ax, kind='scatter', x='x', y='y', label=key, color=colors[key])\n",
        "pyplot.show()"
      ],
      "metadata": {
        "colab": {
          "base_uri": "https://localhost:8080/",
          "height": 279
        },
        "outputId": "ef9203e2-95af-426c-da86-c18122ac10b2",
        "id": "km0g4O6U4_kH"
      },
      "execution_count": 13,
      "outputs": [
        {
          "output_type": "display_data",
          "data": {
            "text/plain": [
              "<Figure size 432x288 with 1 Axes>"
            ],
            "image/png": "[encoded data removed]"
          },
          "metadata": {
            "needs_background": "light"
          }
        }
      ]
    },
    {
      "cell_type": "markdown",
      "source": [
        "### <mark><b>Randomized Block Coordinate Decent</b></mark>"
      ],
      "metadata": {
        "id": "PUskcXweKnfj"
      }
    },
    {
      "cell_type": "markdown",
      "source": [
        "Since we want to be faster, we just want to calculate a part of derivative. Therefore, we change the derivative function for randomized and cyclic. methods."
      ],
      "metadata": {
        "id": "3C2RcpAdLr5d"
      }
    },
    {
      "cell_type": "code",
      "source": [
        "#Gradient Decend\n",
        "alpha=0.003\n",
        "num_iteration=100000\n",
        "time_tracking = np.zeros(num_iteration)\n",
        "t1_start = process_time() \n",
        "y_unlabel=initialize_parameters(x_Unlabeled)\n",
        "wij,wij_bar=similarity(x_Unlabeled,x_labeled_bar,\"Gaussian\")\n",
        "cost_func=np.zeros(num_iteration)\n",
        "Block_size=1\n",
        "Num_Block=int(y_unlabel.shape[0]/Block_size)\n",
        "for i in range(num_iteration):\n",
        "  Block_index=np.random.randint(1,Num_Block+1)\n",
        "  derivative=dev_function(wij,wij_bar,y_unlabel,y_label,method=\"BCGD\",index=Block_index,size=Block_size)\n",
        "  y_unlabel[Block_size*(Block_index-1):Block_size*(Block_index)]=y_unlabel[Block_size*(Block_index-1):Block_size*(Block_index)] \\\n",
        "  -alpha*derivative\n",
        "  cost_func[i]=cost_function(wij,wij_bar,y_unlabel,y_label)\n",
        "  time_tracking[i] = process_time() - t1_start\n",
        "t1_stop = process_time()\n",
        "print(\"BCGD with Cyclic Rule\")\n",
        "print(\"CPU time:\", t1_stop - t1_start)\n",
        "sns.lineplot(x= range(num_iteration),y=cost_func)"
      ],
      "metadata": {
        "colab": {
          "base_uri": "https://localhost:8080/",
          "height": 318
        },
        "id": "yWtn3lSHOqk5",
        "outputId": "c700c80c-547b-48aa-a87f-5680a0f92a49"
      },
      "execution_count": 17,
      "outputs": [
        {
          "output_type": "stream",
          "name": "stdout",
          "text": [
            "BCGD with Cyclic Rule\n",
            "CPU time: 201.77360710499997\n"
          ]
        },
        {
          "output_type": "execute_result",
          "data": {
            "text/plain": [
              "<matplotlib.axes._subplots.AxesSubplot at 0x7f9a15ae0850>"
            ]
          },
          "metadata": {},
          "execution_count": 17
        },
        {
          "output_type": "display_data",
          "data": {
            "text/plain": [
              "<Figure size 432x288 with 1 Axes>"
            ],
            "image/png": "[encoded data removed]"
          },
          "metadata": {
            "needs_background": "light"
          }
        }
      ]
    },
    {
      "cell_type": "code",
      "source": [
        "y_unlabel3=np.round((y_unlabel+1)/2)*2-1\n",
        "df = DataFrame(dict(x=x_Unlabeled[:,0], y=x_Unlabeled[:,1], label=y_unlabel3))\n",
        "colors = {-1:'red', 1:'black'}\n",
        "fig, ax = pyplot.subplots()\n",
        "grouped = df.groupby('label')\n",
        "#sns.scatterplot(ax=ax,x=x_labeled_bar[:,0],y=x_labeled_bar[:,1])\n",
        "for key, group in grouped:\n",
        "    group.plot(ax=ax, kind='scatter', x='x', y='y', label=key, color=colors[key])\n",
        "pyplot.show()"
      ],
      "metadata": {
        "colab": {
          "base_uri": "https://localhost:8080/",
          "height": 279
        },
        "id": "Wx0h_x7-D7Sw",
        "outputId": "f358c460-b6d4-41c4-9eab-b5b99482c967"
      },
      "execution_count": 18,
      "outputs": [
        {
          "output_type": "display_data",
          "data": {
            "text/plain": [
              "<Figure size 432x288 with 1 Axes>"
            ],
            "image/png": "[encoded data removed]"
          },
          "metadata": {
            "needs_background": "light"
          }
        }
      ]
    },
    {
      "cell_type": "markdown",
      "source": [
        "### <mark><b>Cyclic Block Coordinate Decent</b></mark>"
      ],
      "metadata": {
        "id": "BPO0b1C7KtS4"
      }
    },
    {
      "cell_type": "code",
      "source": [
        "#Gradient Decend\n",
        "alpha=0.003\n",
        "num_iteration=800\n",
        "time_tracking = np.zeros(num_iteration)\n",
        "t1_start = process_time() \n",
        "y_unlabel=initialize_parameters(x_Unlabeled)\n",
        "wij,wij_bar=similarity(x_Unlabeled,x_labeled_bar,\"Gaussian\")\n",
        "cost_func=np.zeros(num_iteration)\n",
        "Block_size=1\n",
        "Num_Block=int(y_unlabel.shape[0]/Block_size)\n",
        "for i in range(num_iteration):\n",
        "  for Block_index in range(1,Num_Block+1):\n",
        "    derivative=dev_function(wij,wij_bar,y_unlabel,y_label,method=\"BCGD\",index=Block_index,size=Block_size)\n",
        "    y_unlabel[Block_size*(Block_index-1):Block_size*(Block_index)]=y_unlabel[Block_size*(Block_index-1):Block_size*(Block_index)] \\\n",
        "    -alpha*derivative\n",
        "  cost_func[i]=cost_function(wij,wij_bar,y_unlabel,y_label)\n",
        "  time_tracking[i] = process_time() - t1_start\n",
        "t1_stop = process_time()\n",
        "print(\"BCGD with Cyclic Rule\")\n",
        "print(\"CPU time:\", t1_stop - t1_start)\n",
        "sns.lineplot(x= range(num_iteration),y=cost_func)"
      ],
      "metadata": {
        "colab": {
          "base_uri": "https://localhost:8080/",
          "height": 320
        },
        "id": "-PrQyXdLhcRG",
        "outputId": "887294aa-1a65-4423-a150-2982c819e711"
      },
      "execution_count": 11,
      "outputs": [
        {
          "output_type": "stream",
          "name": "stdout",
          "text": [
            "BCGD with Cyclic Rule\n",
            "CPU time: 59.41320035999999\n"
          ]
        },
        {
          "output_type": "execute_result",
          "data": {
            "text/plain": [
              "<matplotlib.axes._subplots.AxesSubplot at 0x7f9a15e70dd0>"
            ]
          },
          "metadata": {},
          "execution_count": 11
        },
        {
          "output_type": "display_data",
          "data": {
            "text/plain": [
              "<Figure size 432x288 with 1 Axes>"
            ],
            "image/png": "[encoded data removed]"
          },
          "metadata": {
            "needs_background": "light"
          }
        }
      ]
    },
    {
      "cell_type": "code",
      "source": [
        "y_unlabel3=np.round((y_unlabel+1)/2)*2-1\n",
        "df = DataFrame(dict(x=x_Unlabeled[:,0], y=x_Unlabeled[:,1], label=y_unlabel3))\n",
        "colors = {-1:'red', 1:'black'}\n",
        "fig, ax = pyplot.subplots()\n",
        "grouped = df.groupby('label')\n",
        "#sns.scatterplot(ax=ax,x=x_labeled_bar[:,0],y=x_labeled_bar[:,1])\n",
        "for key, group in grouped:\n",
        "    group.plot(ax=ax, kind='scatter', x='x', y='y', label=key, color=colors[key])\n",
        "pyplot.show()"
      ],
      "metadata": {
        "colab": {
          "base_uri": "https://localhost:8080/",
          "height": 279
        },
        "id": "0BlsMwhAmWqy",
        "outputId": "304c8bc2-6ea9-411b-c795-ba641a72a465"
      },
      "execution_count": 12,
      "outputs": [
        {
          "output_type": "display_data",
          "data": {
            "text/plain": [
              "<Figure size 432x288 with 1 Axes>"
            ],
            "image/png": "[encoded data removed]"
          },
          "metadata": {
            "needs_background": "light"
          }
        }
      ]
    },
    {
      "cell_type": "code",
      "source": [
        "no_it = 400\n",
        "I_n = np.identity(len(x_Unlabeled))\n",
        "cost_func = np.zeros(num_iteration)\n",
        "time_tracking = np.zeros(num_iteration)\n",
        "\n",
        "t1_start = process_time() "
      ],
      "metadata": {
        "id": "J5qqBXMO8zUO"
      },
      "execution_count": null,
      "outputs": []
    },
    {
      "cell_type": "code",
      "source": [
        "for it in range(no_it):\n",
        "\n",
        "  for block in I_n:\n",
        "    grad = dev_function(wij,wij_bar,y_unlabel,y_label,method=\"GD\")\n",
        "    y_unlabel = y_unlabel - alpha * block * grad\n",
        "  \n",
        "  dir = - grad\n",
        "  gnr = np.dot(grad, dir) #product of the gradient with the direction\n",
        "  print(\"gnr: \", gnr)\n",
        "  # print(\"n: \", len(x_Unlabeled))\n",
        "  print(abs(len(x_Unlabeled) * gnr))\n",
        "\n",
        "  cost_func[it] = cost_function(wij,wij_bar,y_unlabel,y_label) \n",
        "  time_tracking[it] = process_time() - t1_start\n",
        "\n",
        "  # stopping criterion based on the product of the gradient with the direction\n",
        "  if abs(len(x_Unlabeled) * gnr) <= 10: # set a good eps value\n",
        "    break \n",
        "\n",
        "t1_stop = process_time()\n",
        "\n",
        "print(\"BCGD with Cyclic Rule\")\n",
        "print(\"CPU time:\", t1_stop - t1_start)\n",
        "\n",
        "\n",
        "sns.lineplot(x= range(num_iteration),y=cost_func)"
      ],
      "metadata": {
        "id": "cddCzgCa7kNU",
        "colab": {
          "base_uri": "https://localhost:8080/",
          "height": 911
        },
        "outputId": "5ae42278-8f6f-4c02-ca98-938d1158d507"
      },
      "execution_count": null,
      "outputs": [
        {
          "output_type": "stream",
          "name": "stdout",
          "text": [
            "gnr:  -408.4501869554168\n",
            "120084.35496489254\n",
            "gnr:  -376.5125287524561\n",
            "110694.6834532221\n",
            "gnr:  -359.19136312751033\n",
            "105602.26075948804\n",
            "gnr:  -347.328692006413\n",
            "102114.63544988542\n",
            "gnr:  -337.8192951327408\n",
            "99318.8727690258\n",
            "gnr:  -329.5240377771344\n",
            "96880.06710647752\n",
            "gnr:  -321.978128123582\n",
            "94661.5696683331\n",
            "gnr:  -314.9647929012844\n",
            "92599.64911297761\n",
            "gnr:  -308.3669070063367\n",
            "90659.870659863\n",
            "gnr:  -302.11191675522434\n",
            "88820.90352603595\n",
            "gnr:  -296.14975414557824\n",
            "87068.0277188\n",
            "gnr:  -290.4431483257289\n",
            "85390.2856077643\n",
            "gnr:  -284.9629305039003\n",
            "83779.10156814668\n",
            "gnr:  -279.6855123770674\n",
            "82227.54063885783\n",
            "gnr:  -274.5913935895218\n",
            "80729.86971531941\n",
            "gnr:  -269.66420073325907\n",
            "79281.27501557817\n"
          ]
        },
        {
          "output_type": "error",
          "ename": "KeyboardInterrupt",
          "evalue": "ignored",
          "traceback": [
            "\u001b[0;31m---------------------------------------------------------------------------\u001b[0m",
            "\u001b[0;31mKeyboardInterrupt\u001b[0m                         Traceback (most recent call last)",
            "\u001b[0;32m<ipython-input-46-1ee5812b5a93>\u001b[0m in \u001b[0;36m<module>\u001b[0;34m()\u001b[0m\n\u001b[1;32m      2\u001b[0m \u001b[0;34m\u001b[0m\u001b[0m\n\u001b[1;32m      3\u001b[0m   \u001b[0;32mfor\u001b[0m \u001b[0mblock\u001b[0m \u001b[0;32min\u001b[0m \u001b[0mI_n\u001b[0m\u001b[0;34m:\u001b[0m\u001b[0;34m\u001b[0m\u001b[0;34m\u001b[0m\u001b[0m\n\u001b[0;32m----> 4\u001b[0;31m     \u001b[0mgrad\u001b[0m \u001b[0;34m=\u001b[0m \u001b[0mdev_function\u001b[0m\u001b[0;34m(\u001b[0m\u001b[0mwij\u001b[0m\u001b[0;34m,\u001b[0m\u001b[0mwij_bar\u001b[0m\u001b[0;34m,\u001b[0m\u001b[0my_unlabel\u001b[0m\u001b[0;34m,\u001b[0m\u001b[0my_label\u001b[0m\u001b[0;34m,\u001b[0m\u001b[0mmethod\u001b[0m\u001b[0;34m=\u001b[0m\u001b[0;34m\"GD\"\u001b[0m\u001b[0;34m)\u001b[0m\u001b[0;34m\u001b[0m\u001b[0;34m\u001b[0m\u001b[0m\n\u001b[0m\u001b[1;32m      5\u001b[0m     \u001b[0my_unlabel\u001b[0m \u001b[0;34m=\u001b[0m \u001b[0my_unlabel\u001b[0m \u001b[0;34m-\u001b[0m \u001b[0malpha\u001b[0m \u001b[0;34m*\u001b[0m \u001b[0mblock\u001b[0m \u001b[0;34m*\u001b[0m \u001b[0mgrad\u001b[0m\u001b[0;34m\u001b[0m\u001b[0;34m\u001b[0m\u001b[0m\n\u001b[1;32m      6\u001b[0m \u001b[0;34m\u001b[0m\u001b[0m\n",
            "\u001b[0;32m<ipython-input-38-9565b3352e32>\u001b[0m in \u001b[0;36mdev_function\u001b[0;34m(wij, wij_bar, y_unlabel, y_label, method, index, size)\u001b[0m\n\u001b[1;32m     11\u001b[0m         \u001b[0mterm1\u001b[0m \u001b[0;34m=\u001b[0m \u001b[0mterm1\u001b[0m\u001b[0;34m+\u001b[0m\u001b[0mwij\u001b[0m\u001b[0;34m[\u001b[0m\u001b[0mi\u001b[0m\u001b[0;34m,\u001b[0m\u001b[0msize\u001b[0m\u001b[0;34m*\u001b[0m\u001b[0;34m(\u001b[0m\u001b[0mindex\u001b[0m\u001b[0;34m-\u001b[0m\u001b[0;36m1\u001b[0m\u001b[0;34m)\u001b[0m\u001b[0;34m+\u001b[0m\u001b[0mj\u001b[0m\u001b[0;34m]\u001b[0m\u001b[0;34m*\u001b[0m\u001b[0;34m(\u001b[0m\u001b[0my_unlabel\u001b[0m\u001b[0;34m[\u001b[0m\u001b[0msize\u001b[0m\u001b[0;34m*\u001b[0m\u001b[0;34m(\u001b[0m\u001b[0mindex\u001b[0m\u001b[0;34m-\u001b[0m\u001b[0;36m1\u001b[0m\u001b[0;34m)\u001b[0m\u001b[0;34m+\u001b[0m\u001b[0mj\u001b[0m\u001b[0;34m]\u001b[0m\u001b[0;34m-\u001b[0m\u001b[0my_label\u001b[0m\u001b[0;34m[\u001b[0m\u001b[0mi\u001b[0m\u001b[0;34m]\u001b[0m\u001b[0;34m)\u001b[0m\u001b[0;34m\u001b[0m\u001b[0;34m\u001b[0m\u001b[0m\n\u001b[1;32m     12\u001b[0m       \u001b[0;32mfor\u001b[0m \u001b[0mi\u001b[0m \u001b[0;32min\u001b[0m \u001b[0mrange\u001b[0m\u001b[0;34m(\u001b[0m\u001b[0mlen\u001b[0m\u001b[0;34m(\u001b[0m\u001b[0my_unlabel\u001b[0m\u001b[0;34m)\u001b[0m\u001b[0;34m)\u001b[0m\u001b[0;34m:\u001b[0m\u001b[0;34m\u001b[0m\u001b[0;34m\u001b[0m\u001b[0m\n\u001b[0;32m---> 13\u001b[0;31m         \u001b[0mterm2\u001b[0m \u001b[0;34m=\u001b[0m \u001b[0mterm2\u001b[0m\u001b[0;34m+\u001b[0m\u001b[0mwij_bar\u001b[0m\u001b[0;34m[\u001b[0m\u001b[0mi\u001b[0m\u001b[0;34m,\u001b[0m\u001b[0msize\u001b[0m\u001b[0;34m*\u001b[0m\u001b[0;34m(\u001b[0m\u001b[0mindex\u001b[0m\u001b[0;34m-\u001b[0m\u001b[0;36m1\u001b[0m\u001b[0;34m)\u001b[0m\u001b[0;34m+\u001b[0m\u001b[0mj\u001b[0m\u001b[0;34m]\u001b[0m\u001b[0;34m*\u001b[0m\u001b[0;34m(\u001b[0m\u001b[0my_unlabel\u001b[0m\u001b[0;34m[\u001b[0m\u001b[0msize\u001b[0m\u001b[0;34m*\u001b[0m\u001b[0;34m(\u001b[0m\u001b[0mindex\u001b[0m\u001b[0;34m-\u001b[0m\u001b[0;36m1\u001b[0m\u001b[0;34m)\u001b[0m\u001b[0;34m+\u001b[0m\u001b[0mj\u001b[0m\u001b[0;34m]\u001b[0m\u001b[0;34m-\u001b[0m\u001b[0my_unlabel\u001b[0m\u001b[0;34m[\u001b[0m\u001b[0mi\u001b[0m\u001b[0;34m]\u001b[0m\u001b[0;34m)\u001b[0m\u001b[0;34m\u001b[0m\u001b[0;34m\u001b[0m\u001b[0m\n\u001b[0m\u001b[1;32m     14\u001b[0m       \u001b[0mdev\u001b[0m\u001b[0;34m[\u001b[0m\u001b[0mj\u001b[0m\u001b[0;34m]\u001b[0m \u001b[0;34m=\u001b[0m \u001b[0;36m2\u001b[0m\u001b[0;34m*\u001b[0m\u001b[0;34m(\u001b[0m\u001b[0mterm1\u001b[0m \u001b[0;34m+\u001b[0m \u001b[0mterm2\u001b[0m\u001b[0;34m)\u001b[0m\u001b[0;34m\u001b[0m\u001b[0;34m\u001b[0m\u001b[0m\n\u001b[1;32m     15\u001b[0m   \u001b[0;32melif\u001b[0m \u001b[0mmethod\u001b[0m\u001b[0;34m==\u001b[0m\u001b[0;34m\"BCGD\"\u001b[0m\u001b[0;34m:\u001b[0m\u001b[0;34m\u001b[0m\u001b[0;34m\u001b[0m\u001b[0m\n",
            "\u001b[0;31mKeyboardInterrupt\u001b[0m: "
          ]
        }
      ]
    },
    {
      "cell_type": "code",
      "source": [
        "'''Line Search'''\n",
        "\n",
        "\n",
        "#         %linesearch\n",
        "        \n",
        "#         %set z=x\n",
        "#         z=x;\n",
        "#         switch arls\n",
        "#             case 1\n",
        "                \n",
        "#                 %Armijo search\n",
        "#                 alpha=1.0;\n",
        "#                 ref = gamma*gnr;\n",
        "                \n",
        "#                 while(1)\n",
        "#                     z(ind)=x(ind)+alpha*d;\n",
        "                    \n",
        "#                     %Smart computation of the o.f. at the trial point\n",
        "#                     fz = fx+alpha*d*gi+0.5*(alpha*d)^2*Qii;\n",
        "                    \n",
        "#                     if (fz<=fx+alpha*ref)\n",
        "#                         z(ind)=x(ind)+alpha*d;\n",
        "#                         break;\n",
        "#                     else\n",
        "#                         alpha=alpha*0.1;\n",
        "#                     end\n",
        "                    \n",
        "#                     if (alpha <= 1e-20)\n",
        "#                         z=x;\n",
        "#                         fz=fx;\n",
        "#                         flagls=1;\n",
        "#                         it = it-1;\n",
        "#                         break;\n",
        "#                     end\n",
        "                    \n",
        "#                 end\n",
        "                \n",
        "#             otherwise\n",
        "#                 %exact alpha\n",
        "#                 alpha=1/Qii;\n",
        "#                 z(ind)=x(ind)+alpha*d;\n",
        "#                 fz = fx+alpha*d*gi+0.5*(alpha*d)^2*Qii;   \n",
        "#         end\n",
        "\n",
        "\n",
        "# arls: line search (1 Armijo 2 exact)\n",
        "# maxit: maximum number of iterations\n",
        "# eps: tolerance\n",
        "# fstop: target o.f. value\n",
        "# stopcr: stopping condition"
      ],
      "metadata": {
        "id": "iQInQB_8MlTy"
      },
      "execution_count": null,
      "outputs": []
    },
    {
      "cell_type": "code",
      "source": [
        ""
      ],
      "metadata": {
        "id": "rbh_cQgHCtGh"
      },
      "execution_count": null,
      "outputs": []
    }
  ]
}