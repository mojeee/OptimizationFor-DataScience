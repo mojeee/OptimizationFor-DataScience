{
  "nbformat": 4,
  "nbformat_minor": 0,
  "metadata": {
    "colab": {
      "name": "Optimization_5ų_May.ipynb",
      "provenance": [],
      "collapsed_sections": []
    },
    "kernelspec": {
      "name": "python3",
      "display_name": "Python 3"
    },
    "language_info": {
      "name": "python"
    }
  },
  "cells": [
    {
      "cell_type": "markdown",
      "source": [
        "# Optimization Methods for Data Science\n",
        "\n",
        "##### Authors: Mojtaba Amini , Kamile Dementaviciute, Saeed Soufeh\n",
        "\n",
        "##### HW1\n",
        "##### Deadline: 04/11/2022"
      ],
      "metadata": {
        "id": "LHbXclkDJixt"
      }
    },
    {
      "cell_type": "markdown",
      "source": [
        "In the first part, the random data has been generated."
      ],
      "metadata": {
        "id": "tal6J33T9FmW"
      }
    },
    {
      "cell_type": "code",
      "source": [
        "import numpy as np\n",
        "from sklearn.model_selection import train_test_split\n",
        "import seaborn as sns\n",
        "from sklearn.datasets import make_blobs\n",
        "import matplotlib.pyplot as plt\n",
        "from matplotlib import pyplot\n",
        "from pandas import DataFrame\n",
        "from time import process_time\n",
        "import pandas as pd\n",
        "from sklearn.utils import fixes\n",
        "from sklearn.metrics.pairwise import euclidean_distances"
      ],
      "metadata": {
        "id": "vEhd2Hin6Vg4"
      },
      "execution_count": 483,
      "outputs": []
    },
    {
      "cell_type": "code",
      "source": [
        "# generate 2d classification dataset\n",
        "np.random.seed(15)\n",
        "X, y = make_blobs(n_samples=300, centers=2, n_features=2)\n",
        "x_Unlabeled ,x_labeled_bar,y1,y_label = train_test_split(X,y,test_size=0.02)\n",
        "\n",
        "print(f\"Original size of X= {X.shape[0]}\\tUnlabeled size = {x_Unlabeled.shape[0]}\\tlabeled size = {x_labeled_bar.shape[0]}\")\n",
        "print(f\"Original size of y= {y.shape[0]}\\tUnlabeled size = {y1.shape[0]}\\tlabeled size = {y_label.shape[0]}\")\n",
        "\n",
        "y_label=y_label*2-1\n",
        "df = DataFrame(dict(x=x_labeled_bar[:,0], y=x_labeled_bar[:,1], label=y_label))\n",
        "colors = {-1:'red', 1:'black'}\n",
        "fig, ax = pyplot.subplots()\n",
        "grouped = df.groupby('label')\n",
        "sns.scatterplot(ax=ax,x=X[:,0],y=X[:,1])\n",
        "for key, group in grouped:\n",
        "    group.plot(ax=ax, kind='scatter', x='x', y='y', label=key, color=colors[key])\n",
        "pyplot.show()\n",
        "\n"
      ],
      "metadata": {
        "colab": {
          "base_uri": "https://localhost:8080/",
          "height": 314
        },
        "outputId": "f5b01a1d-d09a-4ac8-878c-407376bf0444",
        "id": "g5KxwLtP4_j7"
      },
      "execution_count": 484,
      "outputs": [
        {
          "output_type": "stream",
          "name": "stdout",
          "text": [
            "Original size of X= 300\tUnlabeled size = 294\tlabeled size = 6\n",
            "Original size of y= 300\tUnlabeled size = 294\tlabeled size = 6\n"
          ]
        },
        {
          "output_type": "display_data",
          "data": {
            "text/plain": [
              "<Figure size 432x288 with 1 Axes>"
            ],
            "image/png": "[encoded data removed]"
          },
          "metadata": {
            "needs_background": "light"
          }
        }
      ]
    },
    {
      "cell_type": "markdown",
      "source": [
        "### <mark><b>Similarity Measure function</b></mark>\n",
        "\n",
        "<ol>\n",
        "  <li><b>Euclidean Distance</b></li>\n",
        "  At first, for similarity, the similarity measure function has been defined as below:\n",
        "  $$ d(x,y) = {e^{\\sum_{i=1}^k (x_i-y_i)^2 }}$$\n",
        "\n",
        "  So the similarity matrix is defined as below:\n",
        "\n",
        "  $$\\omega_{ij}={e^{(x_{1i}-x_{1j})^2+(x_{2i}-x_{2j})^2}}$$\n",
        "\n",
        "  ${x_1}$ refer to the first dimension and ${x_2}$ is the second dimension in 2D.\n",
        "\n",
        "  ${i ,j}$ are two indexes for labeled and unlabeled data. \n",
        "\n",
        "  Therefore the matrix is as below:\n",
        "\n",
        "  $$\n",
        "\\omega_{ij}= \\begin{bmatrix}\n",
        "{e^{(x_{11}-x_{11})^2+(x_{21}-x_{21})^2}} & {e^{(x_{11}-x_{12})^2+(x_{21}-x_{22})^2}} & \\cdots \\\\\n",
        "{e^{(x_{12}-x_{11})^2+(x_{22}-x_{21})^2}} & \\ddots & \\cdots \\\\\n",
        "\\vdots & \\cdots & \\cdots \\\\\n",
        "\\end{bmatrix}\n",
        "$$\n",
        "</ol>"
      ],
      "metadata": {
        "id": "Abv1BsGx4_kF"
      }
    },
    {
      "cell_type": "markdown",
      "source": [
        "<b>Defining Similarity functions</b>"
      ],
      "metadata": {
        "id": "2vLr2p994_kG"
      }
    },
    {
      "cell_type": "markdown",
      "source": [
        "<b> Initializing matrixes</b>"
      ],
      "metadata": {
        "id": "tS-dEjXy4_kG"
      }
    },
    {
      "cell_type": "code",
      "source": [
        "def initialize_parameters(x_Unlabeled):\n",
        "  np.random.seed(4)\n",
        "# initialize the parameters with non-zeros numbers between(0,1)\n",
        "  y_unlabel=np.random.rand(len(x_Unlabeled))*0.01\n",
        "  return y_unlabel"
      ],
      "metadata": {
        "id": "tOT2nn4h4_kG"
      },
      "execution_count": 485,
      "outputs": []
    },
    {
      "cell_type": "markdown",
      "source": [
        "<b>Defining the similarity matrix</b>"
      ],
      "metadata": {
        "id": "jyD-DG_04_kG"
      }
    },
    {
      "cell_type": "code",
      "source": [
        "def similarity(x_Unlabeled,x_labeled_bar,type):\n",
        "  wij=np.zeros((len(x_labeled_bar),len(x_Unlabeled)))\n",
        "  wij_bar=np.zeros((len(x_Unlabeled),len(x_Unlabeled)))\n",
        "\n",
        "  if type==\"Gaussian\" :\n",
        "    wij = np.exp(- euclidean_distances(x_labeled_bar,x_Unlabeled))\n",
        "    wij_bar = np.exp(-euclidean_distances(x_Unlabeled,x_Unlabeled))\n",
        "\n",
        "  return wij,wij_bar\n",
        "\n",
        "\n",
        "wij,wij_bar = similarity(x_Unlabeled,x_labeled_bar,\"Gaussian\")\n",
        "print(wij.shape[0], wij.shape[1])  "
      ],
      "metadata": {
        "id": "5Gxu70m74_kG",
        "colab": {
          "base_uri": "https://localhost:8080/"
        },
        "outputId": "d61fb992-2892-4853-828b-ae688890edbc"
      },
      "execution_count": 486,
      "outputs": [
        {
          "output_type": "stream",
          "name": "stdout",
          "text": [
            "6 294\n"
          ]
        }
      ]
    },
    {
      "cell_type": "markdown",
      "source": [
        "### <mark><b>Cost function and it's derivative</b></mark>\n",
        "\n",
        "\n",
        " Cost function:\n",
        "  $$ \\min_{y\\in{R^u}} \\sum_{i=1}^l\\sum_{j=1}^u \\omega_{ij}(y^{j}-\\bar{y}^{i})^2 + \\frac{1}{2} \\sum_{i=1}^u\\sum_{j=1}^u \\bar{\\omega}_{ij}(y^{j}-y^{i})^2 $$\n",
        "\n",
        "Gradient with respect to $y^{j}$:\n",
        "$$\\nabla_{y^{j}} f(y)=2\\sum_{i=1}^l \\omega_{ij}(y^{j}-\\bar{y}^{i})+2 \\sum_{i=1}^u \\bar{\\omega}_{ij}(y^{j}-y^{i})$$\n",
        "\n",
        "$u$ : unlabeled data\n",
        "\n",
        "$l$ : labeled data\n",
        "\n",
        "$y$ : predicted label ( parameters)\n",
        "\n",
        "$\\bar{y}$ : determined label\n",
        "\n",
        "$\\omega_{ij}$ : similarity measure matrix between labeled and unlabeled data\n",
        "\n",
        "$\\bar{\\omega}_{ij}$ : similarity measure matrix between unlabeled data\n"
      ],
      "metadata": {
        "id": "I5XaQmIr4_kG"
      }
    },
    {
      "cell_type": "code",
      "source": [
        "def cost_function(wij,wij_bar,y_unlabel,y_label):\n",
        "  cost=0.0\n",
        "\n",
        "  y_label_matrix = np.tile(y_label,(y_unlabel.shape[0],1))\n",
        "  y_unlabel_array = np.reshape(y_unlabel,(y_unlabel.shape[0],1))\n",
        "  wij_reshaped = wij.T\n",
        "  sub1 = np.power(y_label_matrix-y_unlabel_array,2)\n",
        "  mat1 = wij_reshaped*sub1\n",
        "  term1 = np.sum(mat1)\n",
        "\n",
        "  y_unlabel_matrix = np.tile(y_unlabel,(y_unlabel.shape[0],1))\n",
        "  y_unlabel_array = np.reshape(y_unlabel,(y_unlabel.shape[0],1))\n",
        "  wij_bar_reshaped = wij_bar.T\n",
        "  sub2 = np.power(y_unlabel_matrix-y_unlabel_array,2)\n",
        "  mat2 = wij_bar_reshaped*sub2\n",
        "  term2 = np.sum(mat2)\n",
        "\n",
        "  cost = term1 + 0.5*term2\n",
        "  return cost"
      ],
      "metadata": {
        "id": "gCjkNK_czhzn"
      },
      "execution_count": 487,
      "outputs": []
    },
    {
      "cell_type": "code",
      "source": [
        "def dev_function(wij,wij_bar,y_unlabel,y_label,method,index=1,size=0):\n",
        "\n",
        "  if method == \"GD\":\n",
        "    size = y_unlabel.shape[0]\n",
        "\n",
        "  dev = np.zeros(size)\n",
        "\n",
        "  for j in range(size):\n",
        "    term1=0.0\n",
        "    term2=0.0\n",
        "    \n",
        "    for i in range(len(y_label)):\n",
        "      term1 = term1 + wij[i,size*(index-1)+j] * (y_unlabel[size*(index-1)+j] - y_label[i])\n",
        "\n",
        "    for i in range(len(y_unlabel)):\n",
        "      term2 = term2 + wij_bar[i,size*(index-1)+j]*(y_unlabel[size*(index-1)+j]-y_unlabel[i])\n",
        "    dev[j] = 2*(term1 + term2)\n",
        "\n",
        "  return dev  "
      ],
      "metadata": {
        "id": "RnhDC6AVaN0i"
      },
      "execution_count": 488,
      "outputs": []
    },
    {
      "cell_type": "code",
      "source": [
        "def dev_function(wij,wij_bar,y_unlabel,y_label,method,index=1,size=0):\n",
        "\n",
        "  if method == \"GD\":\n",
        "\n",
        "    y_label_matrix = np.tile(y_label,(y_unlabel.shape[0],1))\n",
        "    y_unlabel_array = np.reshape(y_unlabel,(y_unlabel.shape[0],1))\n",
        "    wij_reshaped = wij.T\n",
        "    sub1 = y_label_matrix - y_unlabel_array\n",
        "    mat1 = wij_reshaped * sub1\n",
        "    term1 = np.sum(mat1,axis=1)\n",
        "\n",
        "    y_unlabel_matrix = np.tile(y_unlabel,(y_unlabel.shape[0],1))\n",
        "    y_unlabel_array = np.reshape(y_unlabel,(y_unlabel.shape[0],1))\n",
        "    wij_bar_reshaped = wij_bar.T\n",
        "    sub2 = y_unlabel_matrix - y_unlabel_array\n",
        "    mat2 = wij_bar_reshaped * sub2\n",
        "    term2 = np.sum(mat2, axis=1)\n",
        "\n",
        "    dev = -2 *(term1 + term2)\n",
        "\n",
        "\n",
        "  if method == \"BCGD\":\n",
        "\n",
        "    y_label_matrix = np.tile(y_label ,(y_unlabel.shape[0],1))[index-1: index-1+ size] \n",
        "    y_unlabel_array = np.tile(y_unlabel[index-1: index-1 + size][0] ,(y_label.shape[0],1)).T \n",
        "    wij_reshaped = wij.T[index-1: index-1+ size]\n",
        "    sub1 =  y_unlabel_array - y_label_matrix \n",
        "    mat1 = wij_reshaped * sub1\n",
        "    term1 = np.sum(mat1)\n",
        "\n",
        "    y_unlabel_matrix = np.tile(y_unlabel,(y_unlabel.shape[0],1))[index-1: index-1+ size]\n",
        "    y_unlabel_array = y_unlabel[index-1: index-1+ size] \n",
        "    wij_bar_reshaped = wij_bar[index-1: index-1+ size]\n",
        "    sub2 =  y_unlabel_array - y_unlabel_matrix\n",
        "    mat2 = wij_bar_reshaped * sub2\n",
        "    term2 = np.sum(mat2)\n",
        "\n",
        "    dev = 2 *(term1 + term2)\n",
        "  \n",
        "\n",
        "  return dev  "
      ],
      "metadata": {
        "id": "aXl5l12b4_kH"
      },
      "execution_count": 489,
      "outputs": []
    },
    {
      "cell_type": "markdown",
      "source": [
        "### <mark><b>Gradient Descent</b></mark>\n"
      ],
      "metadata": {
        "id": "H4Ghpmwc4_kH"
      }
    },
    {
      "cell_type": "code",
      "source": [
        "alpha=0.003\n",
        "num_iterations=300\n",
        "time_tracking_GD = np.zeros(num_iterations)\n",
        "\n",
        "y_unlabel = initialize_parameters(x_Unlabeled)\n",
        "wij,wij_bar = similarity(x_Unlabeled,x_labeled_bar,\"Gaussian\")\n",
        "cost_func_GD = np.zeros(num_iterations)\n",
        "\n",
        "t_start = process_time() \n",
        "\n",
        "for i in range(num_iterations): \n",
        "  derivative = dev_function(wij,wij_bar,y_unlabel,y_label,method = \"GD\")\n",
        "  y_unlabel = y_unlabel-alpha*derivative\n",
        "  cost_func_GD[i] = cost_function(wij,wij_bar,y_unlabel,y_label)\n",
        "  time_tracking_GD[i] = process_time() - t_start\n",
        "\n",
        "t_stop = process_time()"
      ],
      "metadata": {
        "id": "8lFYX_Gg4_kH"
      },
      "execution_count": 490,
      "outputs": []
    },
    {
      "cell_type": "code",
      "source": [
        "time_GD = t_stop - t_start\n",
        "\n",
        "print(\"Gradient Descend\")\n",
        "print(\"CPU time:\", time_GD)\n",
        "\n",
        "sns.lineplot(x= range(num_iterations),y=cost_func_GD)\n",
        "plt.xlabel(\"number of iterations\")\n",
        "plt.ylabel(\"cost\")\n",
        "plt.show()\n",
        "\n",
        "sns.lineplot(x= time_tracking_GD,y=cost_func_GD)\n",
        "plt.xlabel(\"seconds\")\n",
        "plt.ylabel(\"cost\")\n",
        "plt.show()"
      ],
      "metadata": {
        "colab": {
          "base_uri": "https://localhost:8080/",
          "height": 576
        },
        "id": "mkIZs4HIUZqn",
        "outputId": "60fb621e-cbd4-4970-8fd1-8576cb249d7c"
      },
      "execution_count": 491,
      "outputs": [
        {
          "output_type": "stream",
          "name": "stdout",
          "text": [
            "Gradient Descend\n",
            "CPU time: 0.8951479580000523\n"
          ]
        },
        {
          "output_type": "display_data",
          "data": {
            "text/plain": [
              "<Figure size 432x288 with 1 Axes>"
            ],
            "image/png": "[encoded data removed]"
          },
          "metadata": {
            "needs_background": "light"
          }
        },
        {
          "output_type": "display_data",
          "data": {
            "text/plain": [
              "<Figure size 432x288 with 1 Axes>"
            ],
            "image/png": "[encoded data removed]"
          },
          "metadata": {
            "needs_background": "light"
          }
        }
      ]
    },
    {
      "cell_type": "markdown",
      "source": [
        "Visualizing the result to see that the assignment is correct or not!"
      ],
      "metadata": {
        "id": "Hsf5uJ704_kH"
      }
    },
    {
      "cell_type": "code",
      "source": [
        "y_unlabel2=np.round((y_unlabel+1)/2)*2-1\n",
        "df = DataFrame(dict(x=x_Unlabeled[:,0], y=x_Unlabeled[:,1], label=y_unlabel2))\n",
        "colors = {-1:'red', 1:'black'}\n",
        "fig, ax = pyplot.subplots()\n",
        "grouped = df.groupby('label')\n",
        "# sns.scatterplot(ax=ax,x=x_labeled_bar[:,0],y=x_labeled_bar[:,1])\n",
        "\n",
        "for key, group in grouped:\n",
        "    group.plot(ax=ax, kind='scatter', x='x', y='y', label=key, color=colors[key])\n",
        "pyplot.show()"
      ],
      "metadata": {
        "colab": {
          "base_uri": "https://localhost:8080/",
          "height": 279
        },
        "outputId": "b607a5c2-a2e5-4b70-d2c1-d0db813177af",
        "id": "km0g4O6U4_kH"
      },
      "execution_count": 492,
      "outputs": [
        {
          "output_type": "display_data",
          "data": {
            "text/plain": [
              "<Figure size 432x288 with 1 Axes>"
            ],
            "image/png": "[encoded data removed]"
          },
          "metadata": {
            "needs_background": "light"
          }
        }
      ]
    },
    {
      "cell_type": "markdown",
      "source": [
        "### <mark><b>Randomized Block Coordinate Gradient Decent</b></mark>"
      ],
      "metadata": {
        "id": "PUskcXweKnfj"
      }
    },
    {
      "cell_type": "markdown",
      "source": [
        "Since we want to be faster, we just want to calculate a part of derivative. Therefore, we change the derivative function for randomized and cyclic. methods."
      ],
      "metadata": {
        "id": "3C2RcpAdLr5d"
      }
    },
    {
      "cell_type": "code",
      "source": [
        "alpha=0.003\n",
        "time_tracking_RBCGD = np.zeros(num_iterations)\n",
        "\n",
        "y_unlabel=initialize_parameters(x_Unlabeled)\n",
        "wij,wij_bar=similarity(x_Unlabeled,x_labeled_bar,\"Gaussian\")\n",
        "cost_func_RBCGD = np.zeros(num_iterations)\n",
        "\n",
        "Block_size = 1\n",
        "Num_Block = int(y_unlabel.shape[0]/Block_size)"
      ],
      "metadata": {
        "id": "D6RYZ9ooTMaw"
      },
      "execution_count": 493,
      "outputs": []
    },
    {
      "cell_type": "code",
      "source": [
        "t_start = process_time() \n",
        "\n",
        "for i in range(num_iterations):\n",
        "  for b in range(Num_Block):\n",
        "    Block_index = np.random.randint(1,Num_Block+1)\n",
        "    derivative = dev_function(wij,wij_bar,y_unlabel,y_label,method = \"BCGD\",index = Block_index,size = Block_size)\n",
        "    y_unlabel[Block_size*(Block_index-1):Block_size*(Block_index)] = y_unlabel[Block_size*(Block_index-1):Block_size*(Block_index)] \\\n",
        "    -alpha*derivative\n",
        "\n",
        "  cost_func_RBCGD[i] = cost_function(wij,wij_bar,y_unlabel,y_label)\n",
        "  time_tracking_RBCGD[i]  =  process_time() - t_start\n",
        "\n",
        "t_stop = process_time()"
      ],
      "metadata": {
        "id": "yWtn3lSHOqk5"
      },
      "execution_count": 494,
      "outputs": []
    },
    {
      "cell_type": "code",
      "source": [
        "time_RBCGD = t_stop - t_start\n",
        "print(\"Randomized BCGD\")\n",
        "print(\"CPU time:\", time_RBCGD)\n",
        "\n",
        "sns.lineplot(x = range(num_iterations),y = cost_func_RBCGD)\n",
        "plt.xlabel(\"number of iterations\")\n",
        "plt.ylabel(\"cost\")\n",
        "plt.show()\n",
        "\n",
        "sns.lineplot(x = time_tracking_RBCGD, y = cost_func_RBCGD)\n",
        "plt.xlabel(\"seconds\")\n",
        "plt.ylabel(\"cost\")\n",
        "plt.show()"
      ],
      "metadata": {
        "id": "097G-h5yvVQ6",
        "colab": {
          "base_uri": "https://localhost:8080/",
          "height": 576
        },
        "outputId": "a4534773-4d69-4f76-deaa-54511357aaa3"
      },
      "execution_count": 495,
      "outputs": [
        {
          "output_type": "stream",
          "name": "stdout",
          "text": [
            "Randomized BCGD\n",
            "CPU time: 23.044239138999956\n"
          ]
        },
        {
          "output_type": "display_data",
          "data": {
            "text/plain": [
              "<Figure size 432x288 with 1 Axes>"
            ],
            "image/png": "[encoded data removed]"
          },
          "metadata": {
            "needs_background": "light"
          }
        },
        {
          "output_type": "display_data",
          "data": {
            "text/plain": [
              "<Figure size 432x288 with 1 Axes>"
            ],
            "image/png": "[encoded data removed]"
          },
          "metadata": {
            "needs_background": "light"
          }
        }
      ]
    },
    {
      "cell_type": "code",
      "source": [
        "y_unlabel3=np.round((y_unlabel+1)/2)*2-1\n",
        "df = DataFrame(dict(x=x_Unlabeled[:,0], y=x_Unlabeled[:,1], label=y_unlabel3))\n",
        "colors = {-1:'red', 1:'black'}\n",
        "fig, ax = pyplot.subplots()\n",
        "grouped = df.groupby('label')\n",
        "#sns.scatterplot(ax=ax,x=x_labeled_bar[:,0],y=x_labeled_bar[:,1])\n",
        "\n",
        "for key, group in grouped:\n",
        "    group.plot(ax=ax, kind='scatter', x='x', y='y', label=key, color=colors[key])\n",
        "pyplot.show()"
      ],
      "metadata": {
        "id": "Wx0h_x7-D7Sw",
        "colab": {
          "base_uri": "https://localhost:8080/",
          "height": 279
        },
        "outputId": "bb4c9454-5010-4b8b-fa75-861682abb963"
      },
      "execution_count": 496,
      "outputs": [
        {
          "output_type": "display_data",
          "data": {
            "text/plain": [
              "<Figure size 432x288 with 1 Axes>"
            ],
            "image/png": "[encoded data removed]"
          },
          "metadata": {
            "needs_background": "light"
          }
        }
      ]
    },
    {
      "cell_type": "markdown",
      "source": [
        "### <mark><b>Cyclic Block Coordinate Gradient Decent</b></mark>"
      ],
      "metadata": {
        "id": "BPO0b1C7KtS4"
      }
    },
    {
      "cell_type": "code",
      "source": [
        "alpha=0.003\n",
        "time_tracking_CBCGD = np.zeros(num_iterations) \n",
        "\n",
        "y_unlabel=initialize_parameters(x_Unlabeled)\n",
        "wij,wij_bar=similarity(x_Unlabeled,x_labeled_bar,\"Gaussian\")\n",
        "cost_func_CBCGD = np.zeros(num_iterations)\n",
        "\n",
        "Block_size=1\n",
        "Num_Block=int(y_unlabel.shape[0]/Block_size)"
      ],
      "metadata": {
        "id": "o4JKCDMT8mxZ"
      },
      "execution_count": 497,
      "outputs": []
    },
    {
      "cell_type": "code",
      "source": [
        "t_start = process_time()\n",
        "\n",
        "for i in range(num_iterations):\n",
        "  for Block_index in range(1,Num_Block+1):\n",
        "    derivative = dev_function(wij,wij_bar,y_unlabel,y_label,method = \"BCGD\",index = Block_index,size = Block_size)\n",
        "    y_unlabel[Block_size*(Block_index-1):Block_size*(Block_index)] = y_unlabel[Block_size*(Block_index-1):Block_size*(Block_index)] \\\n",
        "    -alpha*derivative\n",
        "\n",
        "  cost_func_CBCGD[i] = cost_function(wij,wij_bar,y_unlabel,y_label)\n",
        "  time_tracking_CBCGD[i]  =  process_time() - t_start\n",
        "\n",
        "t_stop = process_time()"
      ],
      "metadata": {
        "id": "-PrQyXdLhcRG"
      },
      "execution_count": 498,
      "outputs": []
    },
    {
      "cell_type": "code",
      "source": [
        "time_CBCGD = t_stop - t_start\n",
        "print(\"BCGD with Cyclic Rule\")\n",
        "print(\"CPU time:\", time_CBCGD)\n",
        "\n",
        "sns.lineplot(x = range(num_iterations),y = cost_func_CBCGD)\n",
        "plt.xlabel(\"number of iterations\")\n",
        "plt.ylabel(\"cost\")\n",
        "plt.show()\n",
        "\n",
        "sns.lineplot(x = time_tracking_CBCGD, y = cost_func_CBCGD)\n",
        "plt.xlabel(\"seconds\")\n",
        "plt.ylabel(\"cost\")\n",
        "plt.show()"
      ],
      "metadata": {
        "id": "t_t-NSuwXAXI",
        "colab": {
          "base_uri": "https://localhost:8080/",
          "height": 576
        },
        "outputId": "3f03bd4a-362a-45eb-a2a7-4421669326c5"
      },
      "execution_count": 499,
      "outputs": [
        {
          "output_type": "stream",
          "name": "stdout",
          "text": [
            "BCGD with Cyclic Rule\n",
            "CPU time: 21.688401271999965\n"
          ]
        },
        {
          "output_type": "display_data",
          "data": {
            "text/plain": [
              "<Figure size 432x288 with 1 Axes>"
            ],
            "image/png": "[encoded data removed]"
          },
          "metadata": {
            "needs_background": "light"
          }
        },
        {
          "output_type": "display_data",
          "data": {
            "text/plain": [
              "<Figure size 432x288 with 1 Axes>"
            ],
            "image/png": "[encoded data removed]"
          },
          "metadata": {
            "needs_background": "light"
          }
        }
      ]
    },
    {
      "cell_type": "code",
      "source": [
        "y_unlabel3=np.round((y_unlabel+1)/2)*2-1\n",
        "df = DataFrame(dict(x=x_Unlabeled[:,0], y=x_Unlabeled[:,1], label=y_unlabel3))\n",
        "colors = {-1:'red', 1:'black'}\n",
        "fig, ax = pyplot.subplots()\n",
        "grouped = df.groupby('label')\n",
        "#sns.scatterplot(ax=ax,x=x_labeled_bar[:,0],y=x_labeled_bar[:,1])\n",
        "for key, group in grouped:\n",
        "    group.plot(ax=ax, kind='scatter', x='x', y='y', label=key, color=colors[key])\n",
        "pyplot.show()"
      ],
      "metadata": {
        "id": "0BlsMwhAmWqy",
        "colab": {
          "base_uri": "https://localhost:8080/",
          "height": 279
        },
        "outputId": "07521399-a70e-4f9e-b0fb-d083c7050964"
      },
      "execution_count": 500,
      "outputs": [
        {
          "output_type": "display_data",
          "data": {
            "text/plain": [
              "<Figure size 432x288 with 1 Axes>"
            ],
            "image/png": "[encoded data removed]"
          },
          "metadata": {
            "needs_background": "light"
          }
        }
      ]
    },
    {
      "cell_type": "markdown",
      "source": [
        "## Comparison of all three methods"
      ],
      "metadata": {
        "id": "_u1NTJVfBiOO"
      }
    },
    {
      "cell_type": "code",
      "source": [
        "print(\"GD CPU time:\", time_GD)\n",
        "print(\"RBCGD CPU time:\", time_RBCGD)\n",
        "print(\"CBCGD CPU time:\", time_CBCGD)\n",
        "\n",
        "\n",
        "sns.lineplot(x= range(num_iterations),y=cost_func_GD, label='GD')\n",
        "sns.lineplot(x = range(num_iterations),y = cost_func_RBCGD, label='RBCGD')\n",
        "sns.lineplot(x = range(num_iterations),y = cost_func_CBCGD, label='CBCGD')\n",
        "plt.xlabel(\"number of iterations\")\n",
        "plt.ylabel(\"cost\")\n",
        "plt.show()\n",
        "\n",
        "sns.lineplot(x= time_tracking_GD,y=cost_func_GD, label='GD')\n",
        "sns.lineplot(x = time_tracking_RBCGD, y = cost_func_RBCGD, label='RBCGD')\n",
        "sns.lineplot(x = time_tracking_CBCGD, y = cost_func_CBCGD, label='CBCGD')\n",
        "plt.xlabel(\"seconds\")\n",
        "plt.ylabel(\"cost\")\n",
        "plt.show()"
      ],
      "metadata": {
        "id": "rbh_cQgHCtGh",
        "colab": {
          "base_uri": "https://localhost:8080/",
          "height": 593
        },
        "outputId": "1931a896-cb9f-4ee5-d977-f2fc10689ca3"
      },
      "execution_count": 501,
      "outputs": [
        {
          "output_type": "stream",
          "name": "stdout",
          "text": [
            "GD CPU time: 0.8951479580000523\n",
            "RBCGD CPU time: 23.044239138999956\n",
            "CBCGD CPU time: 21.688401271999965\n"
          ]
        },
        {
          "output_type": "display_data",
          "data": {
            "text/plain": [
              "<Figure size 432x288 with 1 Axes>"
            ],
            "image/png": "[encoded data removed]"
          },
          "metadata": {
            "needs_background": "light"
          }
        },
        {
          "output_type": "display_data",
          "data": {
            "text/plain": [
              "<Figure size 432x288 with 1 Axes>"
            ],
            "image/png": "[encoded data removed]"
          },
          "metadata": {
            "needs_background": "light"
          }
        }
      ]
    },
    {
      "cell_type": "markdown",
      "source": [
        "## Testing the methods with an outsourced dataset"
      ],
      "metadata": {
        "id": "MMHCmOBuM2-T"
      }
    },
    {
      "cell_type": "code",
      "source": [
        "#import data from excel to python\n",
        "df = pd.read_excel (r'/content/Pumpkin_Seeds_Dataset.xlsx',sheet_name='Pumpkin_Seeds_Dataset')\n",
        "df.head()"
      ],
      "metadata": {
        "colab": {
          "base_uri": "https://localhost:8080/",
          "height": 270
        },
        "id": "iUOsTXaAeE5J",
        "outputId": "18d2ce9b-8e10-4c74-fea8-3372d7906bc5"
      },
      "execution_count": 502,
      "outputs": [
        {
          "output_type": "execute_result",
          "data": {
            "text/plain": [
              "    Area  Perimeter  Major_Axis_Length  Minor_Axis_Length  Convex_Area  \\\n",
              "0  56276    888.242           326.1485           220.2388        56831   \n",
              "1  76631   1068.146           417.1932           234.2289        77280   \n",
              "2  71623   1082.987           435.8328           211.0457        72663   \n",
              "3  66458    992.051           381.5638           222.5322        67118   \n",
              "4  66107    998.146           383.8883           220.4545        67117   \n",
              "\n",
              "   Equiv_Diameter  Eccentricity  Solidity  Extent  Roundness  Aspect_Ration  \\\n",
              "0        267.6805        0.7376    0.9902  0.7453     0.8963         1.4809   \n",
              "1        312.3614        0.8275    0.9916  0.7151     0.8440         1.7811   \n",
              "2        301.9822        0.8749    0.9857  0.7400     0.7674         2.0651   \n",
              "3        290.8899        0.8123    0.9902  0.7396     0.8486         1.7146   \n",
              "4        290.1207        0.8187    0.9850  0.6752     0.8338         1.7413   \n",
              "\n",
              "   Compactness       Class  \n",
              "0       0.8207  Çerçevelik  \n",
              "1       0.7487  Çerçevelik  \n",
              "2       0.6929  Çerçevelik  \n",
              "3       0.7624  Çerçevelik  \n",
              "4       0.7557  Çerçevelik  "
            ],
            "text/html": [
              "\n",
              "  <div id=\"df-98dc2807-a096-495a-92fd-24fe44bda725\">\n",
              "    <div class=\"colab-df-container\">\n",
              "      <div>\n",
              "<style scoped>\n",
              "    .dataframe tbody tr th:only-of-type {\n",
              "        vertical-align: middle;\n",
              "    }\n",
              "\n",
              "    .dataframe tbody tr th {\n",
              "        vertical-align: top;\n",
              "    }\n",
              "\n",
              "    .dataframe thead th {\n",
              "        text-align: right;\n",
              "    }\n",
              "</style>\n",
              "<table border=\"1\" class=\"dataframe\">\n",
              "  <thead>\n",
              "    <tr style=\"text-align: right;\">\n",
              "      <th></th>\n",
              "      <th>Area</th>\n",
              "      <th>Perimeter</th>\n",
              "      <th>Major_Axis_Length</th>\n",
              "      <th>Minor_Axis_Length</th>\n",
              "      <th>Convex_Area</th>\n",
              "      <th>Equiv_Diameter</th>\n",
              "      <th>Eccentricity</th>\n",
              "      <th>Solidity</th>\n",
              "      <th>Extent</th>\n",
              "      <th>Roundness</th>\n",
              "      <th>Aspect_Ration</th>\n",
              "      <th>Compactness</th>\n",
              "      <th>Class</th>\n",
              "    </tr>\n",
              "  </thead>\n",
              "  <tbody>\n",
              "    <tr>\n",
              "      <th>0</th>\n",
              "      <td>56276</td>\n",
              "      <td>888.242</td>\n",
              "      <td>326.1485</td>\n",
              "      <td>220.2388</td>\n",
              "      <td>56831</td>\n",
              "      <td>267.6805</td>\n",
              "      <td>0.7376</td>\n",
              "      <td>0.9902</td>\n",
              "      <td>0.7453</td>\n",
              "      <td>0.8963</td>\n",
              "      <td>1.4809</td>\n",
              "      <td>0.8207</td>\n",
              "      <td>Çerçevelik</td>\n",
              "    </tr>\n",
              "    <tr>\n",
              "      <th>1</th>\n",
              "      <td>76631</td>\n",
              "      <td>1068.146</td>\n",
              "      <td>417.1932</td>\n",
              "      <td>234.2289</td>\n",
              "      <td>77280</td>\n",
              "      <td>312.3614</td>\n",
              "      <td>0.8275</td>\n",
              "      <td>0.9916</td>\n",
              "      <td>0.7151</td>\n",
              "      <td>0.8440</td>\n",
              "      <td>1.7811</td>\n",
              "      <td>0.7487</td>\n",
              "      <td>Çerçevelik</td>\n",
              "    </tr>\n",
              "    <tr>\n",
              "      <th>2</th>\n",
              "      <td>71623</td>\n",
              "      <td>1082.987</td>\n",
              "      <td>435.8328</td>\n",
              "      <td>211.0457</td>\n",
              "      <td>72663</td>\n",
              "      <td>301.9822</td>\n",
              "      <td>0.8749</td>\n",
              "      <td>0.9857</td>\n",
              "      <td>0.7400</td>\n",
              "      <td>0.7674</td>\n",
              "      <td>2.0651</td>\n",
              "      <td>0.6929</td>\n",
              "      <td>Çerçevelik</td>\n",
              "    </tr>\n",
              "    <tr>\n",
              "      <th>3</th>\n",
              "      <td>66458</td>\n",
              "      <td>992.051</td>\n",
              "      <td>381.5638</td>\n",
              "      <td>222.5322</td>\n",
              "      <td>67118</td>\n",
              "      <td>290.8899</td>\n",
              "      <td>0.8123</td>\n",
              "      <td>0.9902</td>\n",
              "      <td>0.7396</td>\n",
              "      <td>0.8486</td>\n",
              "      <td>1.7146</td>\n",
              "      <td>0.7624</td>\n",
              "      <td>Çerçevelik</td>\n",
              "    </tr>\n",
              "    <tr>\n",
              "      <th>4</th>\n",
              "      <td>66107</td>\n",
              "      <td>998.146</td>\n",
              "      <td>383.8883</td>\n",
              "      <td>220.4545</td>\n",
              "      <td>67117</td>\n",
              "      <td>290.1207</td>\n",
              "      <td>0.8187</td>\n",
              "      <td>0.9850</td>\n",
              "      <td>0.6752</td>\n",
              "      <td>0.8338</td>\n",
              "      <td>1.7413</td>\n",
              "      <td>0.7557</td>\n",
              "      <td>Çerçevelik</td>\n",
              "    </tr>\n",
              "  </tbody>\n",
              "</table>\n",
              "</div>\n",
              "      <button class=\"colab-df-convert\" onclick=\"convertToInteractive('df-98dc2807-a096-495a-92fd-24fe44bda725')\"\n",
              "              title=\"Convert this dataframe to an interactive table.\"\n",
              "              style=\"display:none;\">\n",
              "        \n",
              "  <svg xmlns=\"http://www.w3.org/2000/svg\" height=\"24px\"viewBox=\"0 0 24 24\"\n",
              "       width=\"24px\">\n",
              "    <path d=\"M0 0h24v24H0V0z\" fill=\"none\"/>\n",
              "    <path d=\"M18.56 5.44l.94 2.06.94-2.06 2.06-.94-2.06-.94-.94-2.06-.94 2.06-2.06.94zm-11 1L8.5 8.5l.94-2.06 2.06-.94-2.06-.94L8.5 2.5l-.94 2.06-2.06.94zm10 10l.94 2.06.94-2.06 2.06-.94-2.06-.94-.94-2.06-.94 2.06-2.06.94z\"/><path d=\"M17.41 7.96l-1.37-1.37c-.4-.4-.92-.59-1.43-.59-.52 0-1.04.2-1.43.59L10.3 9.45l-7.72 7.72c-.78.78-.78 2.05 0 2.83L4 21.41c.39.39.9.59 1.41.59.51 0 1.02-.2 1.41-.59l7.78-7.78 2.81-2.81c.8-.78.8-2.07 0-2.86zM5.41 20L4 18.59l7.72-7.72 1.47 1.35L5.41 20z\"/>\n",
              "  </svg>\n",
              "      </button>\n",
              "      \n",
              "  <style>\n",
              "    .colab-df-container {\n",
              "      display:flex;\n",
              "      flex-wrap:wrap;\n",
              "      gap: 12px;\n",
              "    }\n",
              "\n",
              "    .colab-df-convert {\n",
              "      background-color: #E8F0FE;\n",
              "      border: none;\n",
              "      border-radius: 50%;\n",
              "      cursor: pointer;\n",
              "      display: none;\n",
              "      fill: #1967D2;\n",
              "      height: 32px;\n",
              "      padding: 0 0 0 0;\n",
              "      width: 32px;\n",
              "    }\n",
              "\n",
              "    .colab-df-convert:hover {\n",
              "      background-color: #E2EBFA;\n",
              "      box-shadow: 0px 1px 2px rgba(60, 64, 67, 0.3), 0px 1px 3px 1px rgba(60, 64, 67, 0.15);\n",
              "      fill: #174EA6;\n",
              "    }\n",
              "\n",
              "    [theme=dark] .colab-df-convert {\n",
              "      background-color: #3B4455;\n",
              "      fill: #D2E3FC;\n",
              "    }\n",
              "\n",
              "    [theme=dark] .colab-df-convert:hover {\n",
              "      background-color: #434B5C;\n",
              "      box-shadow: 0px 1px 3px 1px rgba(0, 0, 0, 0.15);\n",
              "      filter: drop-shadow(0px 1px 2px rgba(0, 0, 0, 0.3));\n",
              "      fill: #FFFFFF;\n",
              "    }\n",
              "  </style>\n",
              "\n",
              "      <script>\n",
              "        const buttonEl =\n",
              "          document.querySelector('#df-98dc2807-a096-495a-92fd-24fe44bda725 button.colab-df-convert');\n",
              "        buttonEl.style.display =\n",
              "          google.colab.kernel.accessAllowed ? 'block' : 'none';\n",
              "\n",
              "        async function convertToInteractive(key) {\n",
              "          const element = document.querySelector('#df-98dc2807-a096-495a-92fd-24fe44bda725');\n",
              "          const dataTable =\n",
              "            await google.colab.kernel.invokeFunction('convertToInteractive',\n",
              "                                                     [key], {});\n",
              "          if (!dataTable) return;\n",
              "\n",
              "          const docLinkHtml = 'Like what you see? Visit the ' +\n",
              "            '<a target=\"_blank\" href=https://colab.research.google.com/notebooks/data_table.ipynb>data table notebook</a>'\n",
              "            + ' to learn more about interactive tables.';\n",
              "          element.innerHTML = '';\n",
              "          dataTable['output_type'] = 'display_data';\n",
              "          await google.colab.output.renderOutput(dataTable, element);\n",
              "          const docLink = document.createElement('div');\n",
              "          docLink.innerHTML = docLinkHtml;\n",
              "          element.appendChild(docLink);\n",
              "        }\n",
              "      </script>\n",
              "    </div>\n",
              "  </div>\n",
              "  "
            ]
          },
          "metadata": {},
          "execution_count": 502
        }
      ]
    },
    {
      "cell_type": "code",
      "source": [
        "#turning categorical labels to numeric labels(-1 & 1)\n",
        "data_classes = list(df.Class.unique())\n",
        "d = dict(zip(data_classes, [-1,1]))\n",
        "df['Class'] = df['Class'].map(d, na_action='ignore')\n",
        "df.head()"
      ],
      "metadata": {
        "colab": {
          "base_uri": "https://localhost:8080/",
          "height": 270
        },
        "id": "pu-NYoaCfZHM",
        "outputId": "7841f911-eddc-4409-9a34-efeaa9364af3"
      },
      "execution_count": 503,
      "outputs": [
        {
          "output_type": "execute_result",
          "data": {
            "text/plain": [
              "    Area  Perimeter  Major_Axis_Length  Minor_Axis_Length  Convex_Area  \\\n",
              "0  56276    888.242           326.1485           220.2388        56831   \n",
              "1  76631   1068.146           417.1932           234.2289        77280   \n",
              "2  71623   1082.987           435.8328           211.0457        72663   \n",
              "3  66458    992.051           381.5638           222.5322        67118   \n",
              "4  66107    998.146           383.8883           220.4545        67117   \n",
              "\n",
              "   Equiv_Diameter  Eccentricity  Solidity  Extent  Roundness  Aspect_Ration  \\\n",
              "0        267.6805        0.7376    0.9902  0.7453     0.8963         1.4809   \n",
              "1        312.3614        0.8275    0.9916  0.7151     0.8440         1.7811   \n",
              "2        301.9822        0.8749    0.9857  0.7400     0.7674         2.0651   \n",
              "3        290.8899        0.8123    0.9902  0.7396     0.8486         1.7146   \n",
              "4        290.1207        0.8187    0.9850  0.6752     0.8338         1.7413   \n",
              "\n",
              "   Compactness  Class  \n",
              "0       0.8207     -1  \n",
              "1       0.7487     -1  \n",
              "2       0.6929     -1  \n",
              "3       0.7624     -1  \n",
              "4       0.7557     -1  "
            ],
            "text/html": [
              "\n",
              "  <div id=\"df-ed736f11-8106-4843-83c1-333c178f4cf3\">\n",
              "    <div class=\"colab-df-container\">\n",
              "      <div>\n",
              "<style scoped>\n",
              "    .dataframe tbody tr th:only-of-type {\n",
              "        vertical-align: middle;\n",
              "    }\n",
              "\n",
              "    .dataframe tbody tr th {\n",
              "        vertical-align: top;\n",
              "    }\n",
              "\n",
              "    .dataframe thead th {\n",
              "        text-align: right;\n",
              "    }\n",
              "</style>\n",
              "<table border=\"1\" class=\"dataframe\">\n",
              "  <thead>\n",
              "    <tr style=\"text-align: right;\">\n",
              "      <th></th>\n",
              "      <th>Area</th>\n",
              "      <th>Perimeter</th>\n",
              "      <th>Major_Axis_Length</th>\n",
              "      <th>Minor_Axis_Length</th>\n",
              "      <th>Convex_Area</th>\n",
              "      <th>Equiv_Diameter</th>\n",
              "      <th>Eccentricity</th>\n",
              "      <th>Solidity</th>\n",
              "      <th>Extent</th>\n",
              "      <th>Roundness</th>\n",
              "      <th>Aspect_Ration</th>\n",
              "      <th>Compactness</th>\n",
              "      <th>Class</th>\n",
              "    </tr>\n",
              "  </thead>\n",
              "  <tbody>\n",
              "    <tr>\n",
              "      <th>0</th>\n",
              "      <td>56276</td>\n",
              "      <td>888.242</td>\n",
              "      <td>326.1485</td>\n",
              "      <td>220.2388</td>\n",
              "      <td>56831</td>\n",
              "      <td>267.6805</td>\n",
              "      <td>0.7376</td>\n",
              "      <td>0.9902</td>\n",
              "      <td>0.7453</td>\n",
              "      <td>0.8963</td>\n",
              "      <td>1.4809</td>\n",
              "      <td>0.8207</td>\n",
              "      <td>-1</td>\n",
              "    </tr>\n",
              "    <tr>\n",
              "      <th>1</th>\n",
              "      <td>76631</td>\n",
              "      <td>1068.146</td>\n",
              "      <td>417.1932</td>\n",
              "      <td>234.2289</td>\n",
              "      <td>77280</td>\n",
              "      <td>312.3614</td>\n",
              "      <td>0.8275</td>\n",
              "      <td>0.9916</td>\n",
              "      <td>0.7151</td>\n",
              "      <td>0.8440</td>\n",
              "      <td>1.7811</td>\n",
              "      <td>0.7487</td>\n",
              "      <td>-1</td>\n",
              "    </tr>\n",
              "    <tr>\n",
              "      <th>2</th>\n",
              "      <td>71623</td>\n",
              "      <td>1082.987</td>\n",
              "      <td>435.8328</td>\n",
              "      <td>211.0457</td>\n",
              "      <td>72663</td>\n",
              "      <td>301.9822</td>\n",
              "      <td>0.8749</td>\n",
              "      <td>0.9857</td>\n",
              "      <td>0.7400</td>\n",
              "      <td>0.7674</td>\n",
              "      <td>2.0651</td>\n",
              "      <td>0.6929</td>\n",
              "      <td>-1</td>\n",
              "    </tr>\n",
              "    <tr>\n",
              "      <th>3</th>\n",
              "      <td>66458</td>\n",
              "      <td>992.051</td>\n",
              "      <td>381.5638</td>\n",
              "      <td>222.5322</td>\n",
              "      <td>67118</td>\n",
              "      <td>290.8899</td>\n",
              "      <td>0.8123</td>\n",
              "      <td>0.9902</td>\n",
              "      <td>0.7396</td>\n",
              "      <td>0.8486</td>\n",
              "      <td>1.7146</td>\n",
              "      <td>0.7624</td>\n",
              "      <td>-1</td>\n",
              "    </tr>\n",
              "    <tr>\n",
              "      <th>4</th>\n",
              "      <td>66107</td>\n",
              "      <td>998.146</td>\n",
              "      <td>383.8883</td>\n",
              "      <td>220.4545</td>\n",
              "      <td>67117</td>\n",
              "      <td>290.1207</td>\n",
              "      <td>0.8187</td>\n",
              "      <td>0.9850</td>\n",
              "      <td>0.6752</td>\n",
              "      <td>0.8338</td>\n",
              "      <td>1.7413</td>\n",
              "      <td>0.7557</td>\n",
              "      <td>-1</td>\n",
              "    </tr>\n",
              "  </tbody>\n",
              "</table>\n",
              "</div>\n",
              "      <button class=\"colab-df-convert\" onclick=\"convertToInteractive('df-ed736f11-8106-4843-83c1-333c178f4cf3')\"\n",
              "              title=\"Convert this dataframe to an interactive table.\"\n",
              "              style=\"display:none;\">\n",
              "        \n",
              "  <svg xmlns=\"http://www.w3.org/2000/svg\" height=\"24px\"viewBox=\"0 0 24 24\"\n",
              "       width=\"24px\">\n",
              "    <path d=\"M0 0h24v24H0V0z\" fill=\"none\"/>\n",
              "    <path d=\"M18.56 5.44l.94 2.06.94-2.06 2.06-.94-2.06-.94-.94-2.06-.94 2.06-2.06.94zm-11 1L8.5 8.5l.94-2.06 2.06-.94-2.06-.94L8.5 2.5l-.94 2.06-2.06.94zm10 10l.94 2.06.94-2.06 2.06-.94-2.06-.94-.94-2.06-.94 2.06-2.06.94z\"/><path d=\"M17.41 7.96l-1.37-1.37c-.4-.4-.92-.59-1.43-.59-.52 0-1.04.2-1.43.59L10.3 9.45l-7.72 7.72c-.78.78-.78 2.05 0 2.83L4 21.41c.39.39.9.59 1.41.59.51 0 1.02-.2 1.41-.59l7.78-7.78 2.81-2.81c.8-.78.8-2.07 0-2.86zM5.41 20L4 18.59l7.72-7.72 1.47 1.35L5.41 20z\"/>\n",
              "  </svg>\n",
              "      </button>\n",
              "      \n",
              "  <style>\n",
              "    .colab-df-container {\n",
              "      display:flex;\n",
              "      flex-wrap:wrap;\n",
              "      gap: 12px;\n",
              "    }\n",
              "\n",
              "    .colab-df-convert {\n",
              "      background-color: #E8F0FE;\n",
              "      border: none;\n",
              "      border-radius: 50%;\n",
              "      cursor: pointer;\n",
              "      display: none;\n",
              "      fill: #1967D2;\n",
              "      height: 32px;\n",
              "      padding: 0 0 0 0;\n",
              "      width: 32px;\n",
              "    }\n",
              "\n",
              "    .colab-df-convert:hover {\n",
              "      background-color: #E2EBFA;\n",
              "      box-shadow: 0px 1px 2px rgba(60, 64, 67, 0.3), 0px 1px 3px 1px rgba(60, 64, 67, 0.15);\n",
              "      fill: #174EA6;\n",
              "    }\n",
              "\n",
              "    [theme=dark] .colab-df-convert {\n",
              "      background-color: #3B4455;\n",
              "      fill: #D2E3FC;\n",
              "    }\n",
              "\n",
              "    [theme=dark] .colab-df-convert:hover {\n",
              "      background-color: #434B5C;\n",
              "      box-shadow: 0px 1px 3px 1px rgba(0, 0, 0, 0.15);\n",
              "      filter: drop-shadow(0px 1px 2px rgba(0, 0, 0, 0.3));\n",
              "      fill: #FFFFFF;\n",
              "    }\n",
              "  </style>\n",
              "\n",
              "      <script>\n",
              "        const buttonEl =\n",
              "          document.querySelector('#df-ed736f11-8106-4843-83c1-333c178f4cf3 button.colab-df-convert');\n",
              "        buttonEl.style.display =\n",
              "          google.colab.kernel.accessAllowed ? 'block' : 'none';\n",
              "\n",
              "        async function convertToInteractive(key) {\n",
              "          const element = document.querySelector('#df-ed736f11-8106-4843-83c1-333c178f4cf3');\n",
              "          const dataTable =\n",
              "            await google.colab.kernel.invokeFunction('convertToInteractive',\n",
              "                                                     [key], {});\n",
              "          if (!dataTable) return;\n",
              "\n",
              "          const docLinkHtml = 'Like what you see? Visit the ' +\n",
              "            '<a target=\"_blank\" href=https://colab.research.google.com/notebooks/data_table.ipynb>data table notebook</a>'\n",
              "            + ' to learn more about interactive tables.';\n",
              "          element.innerHTML = '';\n",
              "          dataTable['output_type'] = 'display_data';\n",
              "          await google.colab.output.renderOutput(dataTable, element);\n",
              "          const docLink = document.createElement('div');\n",
              "          docLink.innerHTML = docLinkHtml;\n",
              "          element.appendChild(docLink);\n",
              "        }\n",
              "      </script>\n",
              "    </div>\n",
              "  </div>\n",
              "  "
            ]
          },
          "metadata": {},
          "execution_count": 503
        }
      ]
    },
    {
      "cell_type": "code",
      "source": [
        "#leave 2 percent of the data as labeled\n",
        "index = list(np.random.randint(low=0, high=2500, size=int(df.shape[0]*0.02)))\n",
        "df_labeled = df.iloc[index]"
      ],
      "metadata": {
        "id": "msl_LsjYRex-"
      },
      "execution_count": 504,
      "outputs": []
    },
    {
      "cell_type": "code",
      "source": [
        "#make the rest of the data as unlabeled\n",
        "index_unlabeled=list(set(range(df.shape[0]))-set(index))\n",
        "df_unlabeled = df.iloc[index_unlabeled]\n",
        "df_unlabeled.drop(columns = \"Class\", inplace = True)"
      ],
      "metadata": {
        "id": "zIpf_0k3RffQ",
        "colab": {
          "base_uri": "https://localhost:8080/"
        },
        "outputId": "9d0d0349-795f-45af-986c-cec63692f207"
      },
      "execution_count": 505,
      "outputs": [
        {
          "output_type": "stream",
          "name": "stderr",
          "text": [
            "/usr/local/lib/python3.7/dist-packages/pandas/core/frame.py:4913: SettingWithCopyWarning: \n",
            "A value is trying to be set on a copy of a slice from a DataFrame\n",
            "\n",
            "See the caveats in the documentation: https://pandas.pydata.org/pandas-docs/stable/user_guide/indexing.html#returning-a-view-versus-a-copy\n",
            "  errors=errors,\n"
          ]
        }
      ]
    },
    {
      "cell_type": "code",
      "source": [
        "print(df.shape)\n",
        "print(df_labeled.shape)\n",
        "print(df_unlabeled.shape)"
      ],
      "metadata": {
        "id": "Pybre8AqRiSM",
        "colab": {
          "base_uri": "https://localhost:8080/"
        },
        "outputId": "a34d2e87-50d9-4bb0-dda0-15dcd92857e0"
      },
      "execution_count": 506,
      "outputs": [
        {
          "output_type": "stream",
          "name": "stdout",
          "text": [
            "(2500, 13)\n",
            "(50, 13)\n",
            "(2450, 12)\n"
          ]
        }
      ]
    },
    {
      "cell_type": "code",
      "source": [
        "#change the names so we can use it with the main code\n",
        "x_Unlabeled = df_unlabeled\n",
        "x_labeled_bar = df_labeled.iloc[:,:-1]\n",
        "y_label = df_labeled[\"Class\"]"
      ],
      "metadata": {
        "id": "ZKTANw0kRlNv"
      },
      "execution_count": 507,
      "outputs": []
    },
    {
      "cell_type": "code",
      "source": [
        "#change dataframes to numpy arrays\n",
        "x_Unlabeled = df_unlabeled.to_numpy()\n",
        "x_labeled_bar = df_labeled.iloc[:,:-1].to_numpy()\n",
        "y_label = df_labeled[\"Class\"].to_numpy()"
      ],
      "metadata": {
        "id": "o6U8seQpRoxF"
      },
      "execution_count": 508,
      "outputs": []
    }
  ]
}