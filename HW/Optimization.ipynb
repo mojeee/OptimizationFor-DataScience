{
  "nbformat": 4,
  "nbformat_minor": 0,
  "metadata": {
    "colab": {
      "name": "Optimization_2_May.ipynb",
      "provenance": [],
      "collapsed_sections": []
    },
    "kernelspec": {
      "name": "python3",
      "display_name": "Python 3"
    },
    "language_info": {
      "name": "python"
    }
  },
  "cells": [
    {
      "cell_type": "markdown",
      "source": [
        "# Optimization Methods for Data Science\n",
        "\n",
        "##### Authors: Mojtaba Amini , Kamile Dementaviciute, Saeed Soufeh\n",
        "\n",
        "##### HW1\n",
        "##### Deadline: 04/11/2022"
      ],
      "metadata": {
        "id": "LHbXclkDJixt"
      }
    },
    {
      "cell_type": "markdown",
      "source": [
        "In the first part, the random data has been generated."
      ],
      "metadata": {
        "id": "tal6J33T9FmW"
      }
    },
    {
      "cell_type": "code",
      "source": [
        "import numpy as np\n",
        "from sklearn.model_selection import train_test_split\n",
        "import seaborn as sns\n",
        "from sklearn.datasets import make_blobs\n",
        "import matplotlib.pyplot as plt\n",
        "from matplotlib import pyplot\n",
        "from pandas import DataFrame\n",
        "from time import process_time\n",
        "import pandas as pd\n",
        "from sklearn.utils import fixes"
      ],
      "metadata": {
        "id": "vEhd2Hin6Vg4"
      },
      "execution_count": 147,
      "outputs": []
    },
    {
      "cell_type": "code",
      "source": [
        "# generate 2d classification dataset\n",
        "np.random.seed(15)\n",
        "X, y = make_blobs(n_samples=300, centers=2, n_features=2)\n",
        "x_Unlabeled ,x_labeled_bar,y1,y_label = train_test_split(X,y,test_size=0.02)\n",
        "\n",
        "print(f\"Original size of X= {X.shape[0]}\\tUnlabeled size = {x_Unlabeled.shape[0]}\\tlabeled size = {x_labeled_bar.shape[0]}\")\n",
        "print(f\"Original size of y= {y.shape[0]}\\tUnlabeled size = {y1.shape[0]}\\tlabeled size = {y_label.shape[0]}\")\n",
        "\n",
        "y_label=y_label*2-1\n",
        "df = DataFrame(dict(x=x_labeled_bar[:,0], y=x_labeled_bar[:,1], label=y_label))\n",
        "colors = {-1:'red', 1:'black'}\n",
        "fig, ax = pyplot.subplots()\n",
        "grouped = df.groupby('label')\n",
        "sns.scatterplot(ax=ax,x=X[:,0],y=X[:,1])\n",
        "for key, group in grouped:\n",
        "    group.plot(ax=ax, kind='scatter', x='x', y='y', label=key, color=colors[key])\n",
        "pyplot.show()\n",
        "\n"
      ],
      "metadata": {
        "colab": {
          "base_uri": "https://localhost:8080/",
          "height": 314
        },
        "outputId": "6ab50d8e-9bf3-43bf-c56e-982261a02754",
        "id": "g5KxwLtP4_j7"
      },
      "execution_count": 148,
      "outputs": [
        {
          "output_type": "stream",
          "name": "stdout",
          "text": [
            "Original size of X= 300\tUnlabeled size = 294\tlabeled size = 6\n",
            "Original size of y= 300\tUnlabeled size = 294\tlabeled size = 6\n"
          ]
        },
        {
          "output_type": "display_data",
          "data": {
            "text/plain": [
              "<Figure size 432x288 with 1 Axes>"
            ],
            "image/png": "[encoded data removed]"
          },
          "metadata": {
            "needs_background": "light"
          }
        }
      ]
    },
    {
      "cell_type": "markdown",
      "source": [
        "### <mark><b>Similarity Measure function</b></mark>\n",
        "\n",
        "<ol>\n",
        "  <li><b>Euclidean Distance</b></li>\n",
        "  At first, for similarity, the similarity measure function has been defined as below:\n",
        "  $$ d(x,y) = {e^{\\sum_{i=1}^k (x_i-y_i)^2 }}$$\n",
        "\n",
        "  So the similarity matrix is defined as below:\n",
        "\n",
        "  $$\\omega_{ij}={e^{(x_{1i}-x_{1j})^2+(x_{2i}-x_{2j})^2}}$$\n",
        "\n",
        "  ${x_1}$ refer to the first dimension and ${x_2}$ is the second dimension in 2D.\n",
        "\n",
        "  ${i ,j}$ are two indexes for labeled and unlabeled data. \n",
        "\n",
        "  Therefore the matrix is as below:\n",
        "\n",
        "  $$\n",
        "\\omega_{ij}= \\begin{bmatrix}\n",
        "{e^{(x_{11}-x_{11})^2+(x_{21}-x_{21})^2}} & {e^{(x_{11}-x_{12})^2+(x_{21}-x_{22})^2}} & \\cdots \\\\\n",
        "{e^{(x_{12}-x_{11})^2+(x_{22}-x_{21})^2}} & \\ddots & \\cdots \\\\\n",
        "\\vdots & \\cdots & \\cdots \\\\\n",
        "\\end{bmatrix}\n",
        "$$\n",
        "</ol>"
      ],
      "metadata": {
        "id": "Abv1BsGx4_kF"
      }
    },
    {
      "cell_type": "markdown",
      "source": [
        "<b>Defining Similarity functions:</b>"
      ],
      "metadata": {
        "id": "2vLr2p994_kG"
      }
    },
    {
      "cell_type": "code",
      "source": [
        "def Gaussian_distance(x,y):\n",
        "  return np.exp(-np.linalg.norm(x-y)**2)"
      ],
      "metadata": {
        "id": "I50GcOHt4_kG"
      },
      "execution_count": 149,
      "outputs": []
    },
    {
      "cell_type": "markdown",
      "source": [
        "<b> Initializing matrixes</b>"
      ],
      "metadata": {
        "id": "tS-dEjXy4_kG"
      }
    },
    {
      "cell_type": "code",
      "source": [
        "def initialize_parameters(x_Unlabeled):\n",
        "  np.random.seed(4)\n",
        "# initialize the parameters with non-zeros numbers between(0,1)\n",
        "  y_unlabel=np.random.rand(len(x_Unlabeled))*0.01\n",
        "  return y_unlabel"
      ],
      "metadata": {
        "id": "tOT2nn4h4_kG"
      },
      "execution_count": 150,
      "outputs": []
    },
    {
      "cell_type": "markdown",
      "source": [
        "<b>Defining the similarity matrix</b>"
      ],
      "metadata": {
        "id": "jyD-DG_04_kG"
      }
    },
    {
      "cell_type": "code",
      "source": [
        "def similarity(x_Unlabeled,x_labeled_bar,type):\n",
        "  wij=np.zeros((len(x_labeled_bar),len(x_Unlabeled)))\n",
        "  wij_bar=np.zeros((len(x_Unlabeled),len(x_Unlabeled)))\n",
        "\n",
        "  if type==\"Gaussian\" :\n",
        "    for j in range(len(x_Unlabeled)):\n",
        "      for i in range(len(x_labeled_bar)):\n",
        "        wij[i,j] = Gaussian_distance(x_labeled_bar[i,:],x_Unlabeled[j])\n",
        "      for i in range(len(x_Unlabeled)):\n",
        "        wij_bar[i,j] = Gaussian_distance(x_Unlabeled[i],x_Unlabeled[j])\n",
        "  return wij,wij_bar"
      ],
      "metadata": {
        "id": "5Gxu70m74_kG"
      },
      "execution_count": 151,
      "outputs": []
    },
    {
      "cell_type": "markdown",
      "source": [
        "### <mark><b>Cost function and it's derivative</b></mark>\n",
        "\n",
        "\n",
        " Cost function:\n",
        "  $$ \\min_{y\\in{R^u}} \\sum_{i=1}^l\\sum_{j=1}^u \\omega_{ij}(y^{j}-\\bar{y}^{i})^2 + \\frac{1}{2} \\sum_{i=1}^u\\sum_{j=1}^u \\bar{\\omega}_{ij}(y^{j}-y^{i})^2 $$\n",
        "\n",
        "Gradient with respect to $y^{j}$:\n",
        "$$\\nabla_{y^{j}} f(y)=2\\sum_{i=1}^l \\omega_{ij}(y^{j}-\\bar{y}^{i})+2 \\sum_{i=1}^u \\bar{\\omega}_{ij}(y^{j}-y^{i})$$\n",
        "\n",
        "$u$ : unlabeled data\n",
        "\n",
        "$l$ : labeled data\n",
        "\n",
        "$y$ : predicted label ( parameters)\n",
        "\n",
        "$\\bar{y}$ : determined label\n",
        "\n",
        "$\\omega_{ij}$ : similarity measure matrix between labeled and unlabeled data\n",
        "\n",
        "$\\bar{\\omega}_{ij}$ : similarity measure matrix between unlabeled data\n"
      ],
      "metadata": {
        "id": "I5XaQmIr4_kG"
      }
    },
    {
      "cell_type": "code",
      "source": [
        "def cost_function(wij,wij_bar,y_unlabel,y_label):\n",
        "  cost=0.0\n",
        "\n",
        "  y_label_matrix = np.tile(y_label,(y_unlabel.shape[0],1))\n",
        "  y_unlabel_array = np.reshape(y_unlabel,(y_unlabel.shape[0],1))\n",
        "  wij_reshaped = wij.T\n",
        "  sub1 = np.power(y_label_matrix-y_unlabel_array,2)\n",
        "  mat1 = wij_reshaped*sub1\n",
        "  term1 = np.sum(mat1)\n",
        "\n",
        "  y_unlabel_matrix = np.tile(y_unlabel,(y_unlabel.shape[0],1))\n",
        "  y_unlabel_array = np.reshape(y_unlabel,(y_unlabel.shape[0],1))\n",
        "  wij_bar_reshaped = wij_bar.T\n",
        "  sub2 = np.power(y_unlabel_matrix-y_unlabel_array,2)\n",
        "  mat2 = wij_bar_reshaped*sub2\n",
        "  term2 = np.sum(mat2)\n",
        "\n",
        "  cost = term1 + 0.5*term2\n",
        "  return cost"
      ],
      "metadata": {
        "id": "gCjkNK_czhzn"
      },
      "execution_count": 152,
      "outputs": []
    },
    {
      "cell_type": "code",
      "source": [
        "def dev_function(wij,wij_bar,y_unlabel,y_label,method,index=1,size=0):\n",
        "\n",
        "  if method == \"GD\":\n",
        "    size = y_unlabel.shape[0]\n",
        "\n",
        "  dev = np.zeros(size)\n",
        "\n",
        "  for j in range(size):\n",
        "    term1=0.0\n",
        "    term2=0.0\n",
        "    \n",
        "    for i in range(len(y_label)):\n",
        "      term1 = term1+wij[i,size*(index-1)+j]*(y_unlabel[size*(index-1)+j]-y_label[i])\n",
        "    for i in range(len(y_unlabel)):\n",
        "      term2 = term2+wij_bar[i,size*(index-1)+j]*(y_unlabel[size*(index-1)+j]-y_unlabel[i])\n",
        "    dev[j] = 2*(term1 + term2)\n",
        "\n",
        "  return dev  "
      ],
      "metadata": {
        "id": "aXl5l12b4_kH"
      },
      "execution_count": 153,
      "outputs": []
    },
    {
      "cell_type": "markdown",
      "source": [
        "### <mark><b>Gradient Descent</b></mark>\n"
      ],
      "metadata": {
        "id": "H4Ghpmwc4_kH"
      }
    },
    {
      "cell_type": "code",
      "source": [
        "alpha=0.003\n",
        "num_iteration=800\n",
        "time_tracking = np.zeros(num_iteration)\n",
        "t1_start = process_time() \n",
        "\n",
        "y_unlabel = initialize_parameters(x_Unlabeled)\n",
        "wij,wij_bar = similarity(x_Unlabeled,x_labeled_bar,\"Gaussian\")\n",
        "cost_func = np.zeros(num_iteration)\n",
        "\n",
        "\n",
        "for i in range(num_iteration):\n",
        "  derivative = dev_function(wij,wij_bar,y_unlabel,y_label,method = \"GD\")\n",
        "  y_unlabel = y_unlabel-alpha*derivative\n",
        "  cost_func[i] = cost_function(wij,wij_bar,y_unlabel,y_label)\n",
        "  time_tracking[i] = process_time() - t1_start"
      ],
      "metadata": {
        "id": "8lFYX_Gg4_kH"
      },
      "execution_count": 67,
      "outputs": []
    },
    {
      "cell_type": "code",
      "source": [
        "t1_stop = process_time()\n",
        "print(\"Gradient Descend\")\n",
        "print(\"CPU time:\", t1_stop - t1_start)\n",
        "\n",
        "sns.lineplot(x= range(num_iteration),y=cost_func)\n",
        "plt.xlabel(\"number of iterations\")\n",
        "plt.ylabel(\"cost\")\n",
        "plt.show()\n",
        "\n",
        "sns.lineplot(x= time_tracking,y=cost_func)\n",
        "plt.xlabel(\"seconds\")\n",
        "plt.ylabel(\"cost\")\n",
        "plt.show()"
      ],
      "metadata": {
        "colab": {
          "base_uri": "https://localhost:8080/",
          "height": 582
        },
        "id": "mkIZs4HIUZqn",
        "outputId": "d48ec2a6-10e1-48d9-ce07-0a72a1e4564c"
      },
      "execution_count": 68,
      "outputs": [
        {
          "output_type": "stream",
          "name": "stdout",
          "text": [
            "Gradient Descend\n",
            "CPU time: 58.379276778000076\n"
          ]
        },
        {
          "output_type": "display_data",
          "data": {
            "text/plain": [
              "<Figure size 432x288 with 1 Axes>"
            ],
            "image/png": "[encoded data removed]"
          },
          "metadata": {
            "needs_background": "light"
          }
        },
        {
          "output_type": "display_data",
          "data": {
            "text/plain": [
              "<Figure size 432x288 with 1 Axes>"
            ],
            "image/png": "[encoded data removed]"
          },
          "metadata": {
            "needs_background": "light"
          }
        }
      ]
    },
    {
      "cell_type": "markdown",
      "source": [
        "Visualizing the result to see that the assignment is correct or not!"
      ],
      "metadata": {
        "id": "Hsf5uJ704_kH"
      }
    },
    {
      "cell_type": "code",
      "source": [
        "y_unlabel2=np.round((y_unlabel+1)/2)*2-1\n",
        "df = DataFrame(dict(x=x_Unlabeled[:,0], y=x_Unlabeled[:,1], label=y_unlabel2))\n",
        "colors = {-1:'red', 1:'black'}\n",
        "fig, ax = pyplot.subplots()\n",
        "grouped = df.groupby('label')\n",
        "# sns.scatterplot(ax=ax,x=x_labeled_bar[:,0],y=x_labeled_bar[:,1])\n",
        "\n",
        "for key, group in grouped:\n",
        "    group.plot(ax=ax, kind='scatter', x='x', y='y', label=key, color=colors[key])\n",
        "pyplot.show()"
      ],
      "metadata": {
        "colab": {
          "base_uri": "https://localhost:8080/",
          "height": 279
        },
        "outputId": "55f5d2b2-72bd-4e34-81de-52bafcc1362c",
        "id": "km0g4O6U4_kH"
      },
      "execution_count": 69,
      "outputs": [
        {
          "output_type": "display_data",
          "data": {
            "text/plain": [
              "<Figure size 432x288 with 1 Axes>"
            ],
            "image/png": "[encoded data removed]"
          },
          "metadata": {
            "needs_background": "light"
          }
        }
      ]
    },
    {
      "cell_type": "markdown",
      "source": [
        "### <mark><b>Randomized Block Coordinate Decent</b></mark>"
      ],
      "metadata": {
        "id": "PUskcXweKnfj"
      }
    },
    {
      "cell_type": "markdown",
      "source": [
        "Since we want to be faster, we just want to calculate a part of derivative. Therefore, we change the derivative function for randomized and cyclic. methods."
      ],
      "metadata": {
        "id": "3C2RcpAdLr5d"
      }
    },
    {
      "cell_type": "code",
      "source": [
        "alpha=0.003\n",
        "max_iterations=100000\n",
        "done_iterations = 0\n",
        "time_tracking = np.zeros(max_iterations)\n",
        "t1_start = process_time() \n",
        "\n",
        "y_unlabel=initialize_parameters(x_Unlabeled)\n",
        "wij,wij_bar=similarity(x_Unlabeled,x_labeled_bar,\"Gaussian\")\n",
        "cost_func=np.zeros(max_iterations)\n",
        "\n",
        "Block_size = 1\n",
        "Num_Block = int(y_unlabel.shape[0]/Block_size)"
      ],
      "metadata": {
        "id": "D6RYZ9ooTMaw"
      },
      "execution_count": 154,
      "outputs": []
    },
    {
      "cell_type": "code",
      "source": [
        "for i in range(max_iterations):\n",
        "  Block_index = np.random.randint(1,Num_Block+1)\n",
        "  derivative = dev_function(wij,wij_bar,y_unlabel,y_label,method = \"BCGD\",index = Block_index,size = Block_size)\n",
        "  y_unlabel[Block_size*(Block_index-1):Block_size*(Block_index)] = y_unlabel[Block_size*(Block_index-1):Block_size*(Block_index)] \\\n",
        "  -alpha*derivative\n",
        "\n",
        "  cost_func[i] = cost_function(wij,wij_bar,y_unlabel,y_label)\n",
        "  time_tracking[i]  =  process_time() - t1_start\n",
        "  done_iterations += 1\n",
        "\n",
        "  dir = - derivative\n",
        "  gnr = np.dot(derivative, dir) #product of the gradient with the direction\n",
        "\n",
        "  # checking stopping condition\n",
        "\n",
        "  # continue if not yet reached target value fstop\n",
        "  # '''how to set fstop value?'''\n",
        "  # if cost_func[i] <= 0.5: \n",
        "  # break\n",
        "\n",
        "  # '''how to set a good eps value?'''\n",
        "  # if abs(len(x_Unlabeled) * gnr) <= 0.5: \n",
        "  #   cost_func = cost_func[:i+1]\n",
        "  #   time_tracking = time_tracking[:i+1]\n",
        "  #   break \n",
        "\n",
        "  # linesearch\n",
        "\n",
        "\n",
        "t1_stop = process_time()"
      ],
      "metadata": {
        "id": "yWtn3lSHOqk5"
      },
      "execution_count": 155,
      "outputs": []
    },
    {
      "cell_type": "code",
      "source": [
        "# print(done_iterations)\n",
        "# print(time_tracking.shape[0])"
      ],
      "metadata": {
        "colab": {
          "base_uri": "https://localhost:8080/"
        },
        "id": "EUXzR_fLVRrh",
        "outputId": "42a508d9-fe1b-45f2-e469-416b1851201f"
      },
      "execution_count": 156,
      "outputs": [
        {
          "output_type": "stream",
          "name": "stdout",
          "text": [
            "100000\n",
            "100000\n"
          ]
        }
      ]
    },
    {
      "cell_type": "code",
      "source": [
        "print(\"Randomized BCGD\")\n",
        "print(\"CPU time:\", t1_stop - t1_start)\n",
        "\n",
        "sns.lineplot(x = range(done_iterations),y = cost_func)\n",
        "plt.xlabel(\"number of iterations\")\n",
        "plt.ylabel(\"cost\")\n",
        "plt.show()\n",
        "\n",
        "sns.lineplot(x = time_tracking, y = cost_func)\n",
        "plt.xlabel(\"seconds\")\n",
        "plt.ylabel(\"cost\")\n",
        "plt.show()"
      ],
      "metadata": {
        "colab": {
          "base_uri": "https://localhost:8080/",
          "height": 580
        },
        "id": "097G-h5yvVQ6",
        "outputId": "f9aa7d3a-dff5-467c-e395-236d30892b6f"
      },
      "execution_count": 157,
      "outputs": [
        {
          "output_type": "stream",
          "name": "stdout",
          "text": [
            "Randomized BCGD\n",
            "CPU time: 188.31036673500012\n"
          ]
        },
        {
          "output_type": "display_data",
          "data": {
            "text/plain": [
              "<Figure size 432x288 with 1 Axes>"
            ],
            "image/png": "[encoded data removed]"
          },
          "metadata": {
            "needs_background": "light"
          }
        },
        {
          "output_type": "display_data",
          "data": {
            "text/plain": [
              "<Figure size 432x288 with 1 Axes>"
            ],
            "image/png": "[encoded data removed]"
          },
          "metadata": {
            "needs_background": "light"
          }
        }
      ]
    },
    {
      "cell_type": "code",
      "source": [
        "y_unlabel3=np.round((y_unlabel+1)/2)*2-1\n",
        "df = DataFrame(dict(x=x_Unlabeled[:,0], y=x_Unlabeled[:,1], label=y_unlabel3))\n",
        "colors = {-1:'red', 1:'black'}\n",
        "fig, ax = pyplot.subplots()\n",
        "grouped = df.groupby('label')\n",
        "#sns.scatterplot(ax=ax,x=x_labeled_bar[:,0],y=x_labeled_bar[:,1])\n",
        "\n",
        "for key, group in grouped:\n",
        "    group.plot(ax=ax, kind='scatter', x='x', y='y', label=key, color=colors[key])\n",
        "pyplot.show()"
      ],
      "metadata": {
        "colab": {
          "base_uri": "https://localhost:8080/",
          "height": 279
        },
        "id": "Wx0h_x7-D7Sw",
        "outputId": "f358c460-b6d4-41c4-9eab-b5b99482c967"
      },
      "execution_count": null,
      "outputs": [
        {
          "output_type": "display_data",
          "data": {
            "text/plain": [
              "<Figure size 432x288 with 1 Axes>"
            ],
            "image/png": "[encoded data removed]"
          },
          "metadata": {
            "needs_background": "light"
          }
        }
      ]
    },
    {
      "cell_type": "markdown",
      "source": [
        "### <mark><b>Cyclic Block Coordinate Decent</b></mark>"
      ],
      "metadata": {
        "id": "BPO0b1C7KtS4"
      }
    },
    {
      "cell_type": "code",
      "source": [
        "alpha=0.003\n",
        "max_iterations=800\n",
        "done_iterations = 0\n",
        "time_tracking = np.zeros(max_iterations)\n",
        "t1_start = process_time() \n",
        "\n",
        "y_unlabel=initialize_parameters(x_Unlabeled)\n",
        "wij,wij_bar=similarity(x_Unlabeled,x_labeled_bar,\"Gaussian\")\n",
        "cost_func=np.zeros(max_iterations)\n",
        "\n",
        "Block_size=1\n",
        "Num_Block=int(y_unlabel.shape[0]/Block_size)\n"
      ],
      "metadata": {
        "id": "o4JKCDMT8mxZ"
      },
      "execution_count": 120,
      "outputs": []
    },
    {
      "cell_type": "code",
      "source": [
        "fstop = -5\n",
        "gamma = 0.0001\n",
        "fx = cost_function(wij,wij_bar,y_unlabel,y_label)"
      ],
      "metadata": {
        "id": "6r6Y66489xSM"
      },
      "execution_count": 115,
      "outputs": []
    },
    {
      "cell_type": "code",
      "source": [
        "for i in range(max_iterations):\n",
        "  for Block_index in range(1,Num_Block+1):\n",
        "    derivative = dev_function(wij,wij_bar,y_unlabel,y_label,method = \"BCGD\",index = Block_index,size = Block_size)\n",
        "    y_unlabel[Block_size*(Block_index-1):Block_size*(Block_index)] = y_unlabel[Block_size*(Block_index-1):Block_size*(Block_index)] \\\n",
        "    -alpha*derivative\n",
        "\n",
        "  cost_func[i] = cost_function(wij,wij_bar,y_unlabel,y_label)\n",
        "  time_tracking[i]  =  process_time() - t1_start\n",
        "  done_iterations += 1\n",
        "\n",
        "  full_deriv = dev_function(wij,wij_bar,y_unlabel,y_label,method = \"GD\")\n",
        "  dir = - full_deriv\n",
        "  gnr = np.dot(full_deriv, dir) #product of the gradient with the direction\n",
        "\n",
        "\n",
        "\n",
        "  # checking stopping condition\n",
        "\n",
        "  # continue if not yet reached target value fstop\n",
        "  '''how to set fstop value?'''\n",
        "  if cost_func[i] <= 0.5: \n",
        "    break\n",
        "\n",
        "  '''set a good eps value'''\n",
        "  if abs(len(x_Unlabeled) * gnr) <= 10: \n",
        "    cost_func = cost_func[:i+1]\n",
        "    time_tracking = time_tracking[:i+1]\n",
        "    break \n",
        "\n",
        "\n",
        "  # linesearch\n",
        "  # Armijo search\n",
        "  # alpha = 1.0\n",
        "  # ref = gamma * gnr\n",
        "\n",
        "  # while 1:\n",
        "  '''whats the fz function for our specific case?'''\n",
        "  #   fz = fx + alpha * full_deriv * fx + 0.5 * (alpha * dir) ^2 * Qii\n",
        "    \n",
        "  #   if (fz<=fx+alpha*ref)\n",
        "  #       z(ind)=x(ind)+alpha*d;\n",
        "  #       break;\n",
        "  #   else\n",
        "  #       alpha=alpha*0.1;\n",
        "  #   end\n",
        "    \n",
        "  #   if (alpha <= 1e-20)\n",
        "  #       z=x;\n",
        "  #       fz=fx;\n",
        "  #       flagls=1;\n",
        "  #       it = it-1;\n",
        "  #       break;\n",
        "\n",
        "\n",
        "\n",
        "t1_stop = process_time()"
      ],
      "metadata": {
        "id": "-PrQyXdLhcRG"
      },
      "execution_count": 121,
      "outputs": []
    },
    {
      "cell_type": "code",
      "source": [
        "print(\"BCGD with Cyclic Rule\")\n",
        "print(\"CPU time:\", t1_stop - t1_start)\n",
        "\n",
        "sns.lineplot(x = range(done_iterations),y = cost_func)\n",
        "plt.xlabel(\"number of iterations\")\n",
        "plt.ylabel(\"cost\")\n",
        "plt.show()\n",
        "\n",
        "sns.lineplot(x = time_tracking, y = cost_func)\n",
        "plt.xlabel(\"seconds\")\n",
        "plt.ylabel(\"cost\")\n",
        "plt.show()\n",
        "\n",
        "print(cost_func[-1])"
      ],
      "metadata": {
        "colab": {
          "base_uri": "https://localhost:8080/",
          "height": 599
        },
        "id": "t_t-NSuwXAXI",
        "outputId": "e66c3af2-672b-4584-dc0f-ca254ac16119"
      },
      "execution_count": 123,
      "outputs": [
        {
          "output_type": "stream",
          "name": "stdout",
          "text": [
            "BCGD with Cyclic Rule\n",
            "CPU time: 100.88510026299991\n"
          ]
        },
        {
          "output_type": "display_data",
          "data": {
            "text/plain": [
              "<Figure size 432x288 with 1 Axes>"
            ],
            "image/png": "[encoded data removed]"
          },
          "metadata": {
            "needs_background": "light"
          }
        },
        {
          "output_type": "display_data",
          "data": {
            "text/plain": [
              "<Figure size 432x288 with 1 Axes>"
            ],
            "image/png": "[encoded data removed]"
          },
          "metadata": {
            "needs_background": "light"
          }
        },
        {
          "output_type": "stream",
          "name": "stdout",
          "text": [
            "2.175068777336982\n"
          ]
        }
      ]
    },
    {
      "cell_type": "code",
      "source": [
        "y_unlabel3=np.round((y_unlabel+1)/2)*2-1\n",
        "df = DataFrame(dict(x=x_Unlabeled[:,0], y=x_Unlabeled[:,1], label=y_unlabel3))\n",
        "colors = {-1:'red', 1:'black'}\n",
        "fig, ax = pyplot.subplots()\n",
        "grouped = df.groupby('label')\n",
        "#sns.scatterplot(ax=ax,x=x_labeled_bar[:,0],y=x_labeled_bar[:,1])\n",
        "for key, group in grouped:\n",
        "    group.plot(ax=ax, kind='scatter', x='x', y='y', label=key, color=colors[key])\n",
        "pyplot.show()"
      ],
      "metadata": {
        "colab": {
          "base_uri": "https://localhost:8080/",
          "height": 279
        },
        "id": "0BlsMwhAmWqy",
        "outputId": "51085501-1a89-4a2a-c9fa-f16e637d3ce7"
      },
      "execution_count": 74,
      "outputs": [
        {
          "output_type": "display_data",
          "data": {
            "text/plain": [
              "<Figure size 432x288 with 1 Axes>"
            ],
            "image/png": "[encoded data removed]"
          },
          "metadata": {
            "needs_background": "light"
          }
        }
      ]
    },
    {
      "cell_type": "code",
      "source": [
        "'''Line Search'''\n",
        "\n",
        "\n",
        "#         linesearch\n",
        "        \n",
        "#         set z=x\n",
        "#         z=x;\n",
        "#         switch arls\n",
        "#             case 1\n",
        "                \n",
        "#                 Armijo search\n",
        "#                 alpha=1.0;\n",
        "#                 ref = gamma*gnr;\n",
        "                \n",
        "#                 while(1)\n",
        "#                     z(ind)=x(ind)+alpha*d;\n",
        "                    \n",
        "#                     Smart computation of the o.f. at the trial point\n",
        "#                     fz = fx+alpha*d*gi+0.5*(alpha*d)^2*Qii;\n",
        "                    \n",
        "#                     if (fz<=fx+alpha*ref)\n",
        "#                         z(ind)=x(ind)+alpha*d;\n",
        "#                         break;\n",
        "#                     else\n",
        "#                         alpha=alpha*0.1;\n",
        "#                     end\n",
        "                    \n",
        "#                     if (alpha <= 1e-20)\n",
        "#                         z=x;\n",
        "#                         fz=fx;\n",
        "#                         flagls=1;\n",
        "#                         it = it-1;\n",
        "#                         break;\n",
        "#                     end\n",
        "                    \n",
        "#                 end\n",
        "                \n",
        "#             otherwise\n",
        "#                 exact alpha\n",
        "#                 alpha=1/Qii;\n",
        "#                 z(ind)=x(ind)+alpha*d;\n",
        "#                 fz = fx+alpha*d*gi+0.5*(alpha*d)^2*Qii;   \n",
        "#         end\n",
        "\n",
        "\n",
        "# arls: line search (1 Armijo 2 exact)\n",
        "# maxit: maximum number of iterations\n",
        "# eps: tolerance\n",
        "# fstop: target o.f. value\n",
        "# stopcr: stopping condition"
      ],
      "metadata": {
        "id": "iQInQB_8MlTy"
      },
      "execution_count": null,
      "outputs": []
    },
    {
      "cell_type": "code",
      "source": [
        ""
      ],
      "metadata": {
        "id": "rbh_cQgHCtGh"
      },
      "execution_count": null,
      "outputs": []
    }
  ]
}